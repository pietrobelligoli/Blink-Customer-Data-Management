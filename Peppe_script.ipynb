{
 "cells": [
  {
   "cell_type": "markdown",
   "id": "68a1c0eb",
   "metadata": {},
   "source": [
    "Let's start from importing the dummy **dataset** with the columns assumptions:"
   ]
  },
  {
   "cell_type": "code",
   "execution_count": 145,
   "id": "8f2fdcec",
   "metadata": {},
   "outputs": [],
   "source": [
    "import pandas as pd\n",
    "from matplotlib import pyplot as plt\n",
    "\n",
    "df = pd.read_csv('Dataset_test.csv', low_memory = False)"
   ]
  },
  {
   "cell_type": "markdown",
   "id": "f1b85cc3",
   "metadata": {},
   "source": [
    "Then let's create a dataframe containing only line items associated with completed orders. And secondly group the data so that **every row corresponds to an order** placed by a customer."
   ]
  },
  {
   "cell_type": "code",
   "execution_count": 118,
   "id": "d0d56658",
   "metadata": {},
   "outputs": [
    {
     "name": "stdout",
     "output_type": "stream",
     "text": [
      "  Order_id  Merchant                   Datetime Country Shipping Zip  \\\n",
      "0   #11946  Ketofood  2021-11-15 13:13:59 +0100      IT        20851   \n",
      "1   #11947  Ketofood  2021-11-15 14:15:11 +0100      IT        90136   \n",
      "2   #11948  Ketofood  2021-11-15 16:07:40 +0100      IT        34076   \n",
      "3   #11949  Ketofood  2021-11-15 16:43:09 +0100      IT        10143   \n",
      "4   #11950  Ketofood  2021-11-15 18:37:50 +0100      IT        41043   \n",
      "\n",
      "   Blink_shipping  Cap_eligibility  Inventory_av_eligibility  New_to_blink  \\\n",
      "0             0.0              1.0                       1.0           0.0   \n",
      "1             0.0              1.0                       0.0           0.0   \n",
      "2             0.0              1.0                       1.0           1.0   \n",
      "3             0.0              0.0                       1.0           0.0   \n",
      "4             0.0              1.0                       0.0           0.0   \n",
      "\n",
      "   New_to_merch  Lineitem_quantity  Lineitem_price  Shipping_price  \\\n",
      "0           1.0                  2            8.99            2.99   \n",
      "1           0.0                  2            8.99            2.99   \n",
      "2           0.0                  1           23.95            2.99   \n",
      "3           0.0                  1           14.95            0.00   \n",
      "4           0.0                  1            9.99            2.99   \n",
      "\n",
      "         date day_of_week  hour_of_day  \n",
      "0  2021-11-15      Monday           13  \n",
      "1  2021-11-15      Monday           14  \n",
      "2  2021-11-15      Monday           16  \n",
      "3  2021-11-15      Monday           16  \n",
      "4  2021-11-15      Monday           18  \n"
     ]
    }
   ],
   "source": [
    "line_orders = df[~df.Order_id.isnull()]\n",
    "orders = df.groupby(['Order_id', 'Merchant', 'Datetime', 'Country', 'Shipping Zip']).agg({\n",
    "    'Blink_shipping': 'sum',\n",
    "    'Cap_eligibility': 'sum',\n",
    "    'Inventory_av_eligibility': 'sum',\n",
    "    'New_to_blink': 'sum',\n",
    "    'New_to_merch': 'sum',\n",
    "    'New_to_blink': 'sum',\n",
    "    'Lineitem_quantity': 'sum',\n",
    "    'Lineitem_price': 'sum',\n",
    "    'Shipping_price': 'max'\n",
    "}).reset_index()\n",
    "\n",
    "orders['date'] = pd.to_datetime(orders.Datetime).dt.date\n",
    "orders['day_of_week'] = pd.to_datetime(orders.Datetime).dt.day_name()\n",
    "orders['hour_of_day'] = pd.to_datetime(orders.Datetime).dt.hour\n",
    "\n",
    "print(orders.head())"
   ]
  },
  {
   "cell_type": "code",
   "execution_count": 131,
   "id": "d3e8264f",
   "metadata": {},
   "outputs": [],
   "source": [
    "#Parameters {for multiple values use a list [item1, item2]}\n",
    "\n",
    "country_list = ['IT']\n",
    "merchant_list = ['Ketofood']\n",
    "date_start = '2021-11-20'\n",
    "date_end = '2022-11-30'\n",
    "day_of_week = 'Monday'\n",
    "hod_start = 12\n",
    "hod_end = 15\n",
    "\n",
    "date_start = pd.to_datetime(date_start)\n",
    "date_end = pd.to_datetime(date_end)"
   ]
  },
  {
   "cell_type": "code",
   "execution_count": 130,
   "id": "0643ec4c",
   "metadata": {},
   "outputs": [],
   "source": [
    "orders = orders[\n",
    "    orders.Country.isin(country_list) & \n",
    "    orders.Merchant.isin(merchant_list) & \n",
    "    (orders.date >= date_start) &\n",
    "    (orders.date < date_end) &\n",
    "    (orders.hour_of_day >= hod_start) &\n",
    "    (orders.hour_of_day < hod_end)\n",
    "    ].reset_index(drop = True)"
   ]
  },
  {
   "cell_type": "markdown",
   "id": "91565725",
   "metadata": {},
   "source": [
    "From here we can compute the **KPIs**:"
   ]
  },
  {
   "cell_type": "markdown",
   "id": "5f73a56d",
   "metadata": {},
   "source": [
    "**1. Percentage of serviceable orders** \n",
    "<p> <i>Description</i>: number of orders where Blink is shown at checkout divided by the total number of orders </p>"
   ]
  },
  {
   "cell_type": "code",
   "execution_count": 143,
   "id": "2c0f33a7",
   "metadata": {},
   "outputs": [
    {
     "name": "stdout",
     "output_type": "stream",
     "text": [
      "Cap_eligibility  Inventory_av_eligibility\n",
      "0.0              0.0                         149\n",
      "                 1.0                         194\n",
      "1.0              0.0                         213\n",
      "                 1.0                         181\n",
      "Name: Cap_eligibility, dtype: int64\n"
     ]
    }
   ],
   "source": [
    "perc_serv_ord = orders.groupby(['Cap_eligibility', 'Inventory_av_eligibility']).Cap_eligibility.count()\n",
    "\n",
    "print(kpi1.head())"
   ]
  }
 ],
 "metadata": {
  "kernelspec": {
   "display_name": "Python 3 (ipykernel)",
   "language": "python",
   "name": "python3"
  },
  "language_info": {
   "codemirror_mode": {
    "name": "ipython",
    "version": 3
   },
   "file_extension": ".py",
   "mimetype": "text/x-python",
   "name": "python",
   "nbconvert_exporter": "python",
   "pygments_lexer": "ipython3",
   "version": "3.9.7"
  }
 },
 "nbformat": 4,
 "nbformat_minor": 5
}

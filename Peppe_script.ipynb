{
 "cells": [
  {
   "cell_type": "markdown",
   "id": "df518aed",
   "metadata": {},
   "source": [
    "**Github commit**:\n",
    "* git checkout branch\n",
    "* git add filename\n",
    "* git commit -m \"actionname\"\n",
    "* git push origin"
   ]
  },
  {
   "cell_type": "markdown",
   "id": "68a1c0eb",
   "metadata": {},
   "source": [
    "Let's start from importing the dummy **dataset** with the columns assumptions:"
   ]
  },
  {
   "cell_type": "code",
   "execution_count": 242,
   "id": "8f2fdcec",
   "metadata": {},
   "outputs": [],
   "source": [
    "import pandas as pd\n",
    "from matplotlib import pyplot as plt\n",
    "\n",
    "df = pd.read_csv('Dataset_test.csv', low_memory = False)"
   ]
  },
  {
   "cell_type": "markdown",
   "id": "f1b85cc3",
   "metadata": {},
   "source": [
    "Then let's create a dataframe containing only line items associated with completed orders. And secondly group the data so that **every row corresponds to an order** placed by a customer."
   ]
  },
  {
   "cell_type": "code",
   "execution_count": 243,
   "id": "d0d56658",
   "metadata": {},
   "outputs": [],
   "source": [
    "# Get Orders, exclude Sessions\n",
    "line_orders = df[~df.Order_id.isnull()]\n",
    "\n",
    "#Group the data \n",
    "orders = df.groupby(['Order_id', 'Merchant', 'Customer_id', 'Datetime', 'Country', 'Shipping Zip']).agg({\n",
    "    'Blink_shipping': 'sum',\n",
    "    'Cap_eligibility': 'sum',\n",
    "    'Inventory_av_eligibility': 'sum',\n",
    "    'New_to_blink': 'sum',\n",
    "    'New_to_merch': 'sum',\n",
    "    'New_to_blink': 'sum',\n",
    "    'Lineitem_quantity': 'sum',\n",
    "    'Lineitem_price': 'sum',\n",
    "    'Shipping_price': 'max'\n",
    "}).reset_index()\n",
    "\n",
    "#Add time columns\n",
    "orders['date'] = pd.to_datetime(orders.Datetime).dt.date\n",
    "orders['day_of_week'] = pd.to_datetime(orders.Datetime).dt.day_name()\n",
    "orders['hour_of_day'] = pd.to_datetime(orders.Datetime).dt.hour\n",
    "orders['month_num'] = pd.to_datetime(orders.Datetime).dt.month"
   ]
  },
  {
   "cell_type": "markdown",
   "id": "01affe29",
   "metadata": {},
   "source": [
    "Below you can enter the parameters that you wanna use to filter the dataframe we compute above"
   ]
  },
  {
   "cell_type": "code",
   "execution_count": 244,
   "id": "d3e8264f",
   "metadata": {},
   "outputs": [],
   "source": [
    "#Parameters {for multiple values use a list [item1, item2]}\n",
    "\n",
    "country_list = ['IT']\n",
    "merchant_list = ['Ketofood']\n",
    "date_start = '2021-11-20'\n",
    "date_end = '2022-11-30'\n",
    "day_of_week_list = ['Monday', 'Tuesday', 'Wednesday']\n",
    "hod_start = 12\n",
    "hod_end = 15\n",
    "\n",
    "date_start = pd.to_datetime(date_start)\n",
    "date_end = pd.to_datetime(date_end)"
   ]
  },
  {
   "cell_type": "markdown",
   "id": "26b58339",
   "metadata": {},
   "source": [
    "If you don't wanna use specific filters, just **comment** the line of code (below) where that filter is. You can do that by using '#'."
   ]
  },
  {
   "cell_type": "code",
   "execution_count": 245,
   "id": "0643ec4c",
   "metadata": {},
   "outputs": [
    {
     "name": "stderr",
     "output_type": "stream",
     "text": [
      "C:\\Users\\Giuseppe\\anaconda3\\lib\\site-packages\\pandas\\core\\ops\\array_ops.py:73: FutureWarning: Comparison of Timestamp with datetime.date is deprecated in order to match the standard library behavior.  In a future version these will be considered non-comparable.Use 'ts == pd.Timestamp(date)' or 'ts.date() == date' instead.\n",
      "  result = libops.scalar_compare(x.ravel(), y, op)\n"
     ]
    },
    {
     "data": {
      "text/html": [
       "<div>\n",
       "<style scoped>\n",
       "    .dataframe tbody tr th:only-of-type {\n",
       "        vertical-align: middle;\n",
       "    }\n",
       "\n",
       "    .dataframe tbody tr th {\n",
       "        vertical-align: top;\n",
       "    }\n",
       "\n",
       "    .dataframe thead th {\n",
       "        text-align: right;\n",
       "    }\n",
       "</style>\n",
       "<table border=\"1\" class=\"dataframe\">\n",
       "  <thead>\n",
       "    <tr style=\"text-align: right;\">\n",
       "      <th></th>\n",
       "      <th>Order_id</th>\n",
       "      <th>Merchant</th>\n",
       "      <th>Customer_id</th>\n",
       "      <th>Datetime</th>\n",
       "      <th>Country</th>\n",
       "      <th>Shipping Zip</th>\n",
       "      <th>Blink_shipping</th>\n",
       "      <th>Cap_eligibility</th>\n",
       "      <th>Inventory_av_eligibility</th>\n",
       "      <th>New_to_blink</th>\n",
       "      <th>New_to_merch</th>\n",
       "      <th>Lineitem_quantity</th>\n",
       "      <th>Lineitem_price</th>\n",
       "      <th>Shipping_price</th>\n",
       "      <th>date</th>\n",
       "      <th>day_of_week</th>\n",
       "      <th>hour_of_day</th>\n",
       "      <th>month_num</th>\n",
       "    </tr>\n",
       "  </thead>\n",
       "  <tbody>\n",
       "    <tr>\n",
       "      <th>0</th>\n",
       "      <td>#11946</td>\n",
       "      <td>Ketofood</td>\n",
       "      <td>robbygp@libero.it</td>\n",
       "      <td>2021-11-15 13:13:59 +0100</td>\n",
       "      <td>IT</td>\n",
       "      <td>20851</td>\n",
       "      <td>0.0</td>\n",
       "      <td>1.0</td>\n",
       "      <td>1.0</td>\n",
       "      <td>0.0</td>\n",
       "      <td>1.0</td>\n",
       "      <td>2</td>\n",
       "      <td>8.99</td>\n",
       "      <td>2.99</td>\n",
       "      <td>2021-11-15</td>\n",
       "      <td>Monday</td>\n",
       "      <td>13</td>\n",
       "      <td>11</td>\n",
       "    </tr>\n",
       "    <tr>\n",
       "      <th>1</th>\n",
       "      <td>#11947</td>\n",
       "      <td>Ketofood</td>\n",
       "      <td>meryalfano969@gmail.com</td>\n",
       "      <td>2021-11-15 14:15:11 +0100</td>\n",
       "      <td>IT</td>\n",
       "      <td>90136</td>\n",
       "      <td>0.0</td>\n",
       "      <td>1.0</td>\n",
       "      <td>0.0</td>\n",
       "      <td>0.0</td>\n",
       "      <td>0.0</td>\n",
       "      <td>2</td>\n",
       "      <td>8.99</td>\n",
       "      <td>2.99</td>\n",
       "      <td>2021-11-15</td>\n",
       "      <td>Monday</td>\n",
       "      <td>14</td>\n",
       "      <td>11</td>\n",
       "    </tr>\n",
       "    <tr>\n",
       "      <th>2</th>\n",
       "      <td>#11948</td>\n",
       "      <td>Ketofood</td>\n",
       "      <td>rudi.vittori@gmail.com</td>\n",
       "      <td>2021-11-15 16:07:40 +0100</td>\n",
       "      <td>IT</td>\n",
       "      <td>34076</td>\n",
       "      <td>0.0</td>\n",
       "      <td>1.0</td>\n",
       "      <td>1.0</td>\n",
       "      <td>1.0</td>\n",
       "      <td>0.0</td>\n",
       "      <td>1</td>\n",
       "      <td>23.95</td>\n",
       "      <td>2.99</td>\n",
       "      <td>2021-11-15</td>\n",
       "      <td>Monday</td>\n",
       "      <td>16</td>\n",
       "      <td>11</td>\n",
       "    </tr>\n",
       "    <tr>\n",
       "      <th>3</th>\n",
       "      <td>#11949</td>\n",
       "      <td>Ketofood</td>\n",
       "      <td>sterob.dental@tiscali.it</td>\n",
       "      <td>2021-11-15 16:43:09 +0100</td>\n",
       "      <td>IT</td>\n",
       "      <td>10143</td>\n",
       "      <td>0.0</td>\n",
       "      <td>0.0</td>\n",
       "      <td>1.0</td>\n",
       "      <td>0.0</td>\n",
       "      <td>0.0</td>\n",
       "      <td>1</td>\n",
       "      <td>14.95</td>\n",
       "      <td>0.00</td>\n",
       "      <td>2021-11-15</td>\n",
       "      <td>Monday</td>\n",
       "      <td>16</td>\n",
       "      <td>11</td>\n",
       "    </tr>\n",
       "    <tr>\n",
       "      <th>4</th>\n",
       "      <td>#11950</td>\n",
       "      <td>Ketofood</td>\n",
       "      <td>anninacamel@gmail.com</td>\n",
       "      <td>2021-11-15 18:37:50 +0100</td>\n",
       "      <td>IT</td>\n",
       "      <td>41043</td>\n",
       "      <td>0.0</td>\n",
       "      <td>1.0</td>\n",
       "      <td>0.0</td>\n",
       "      <td>0.0</td>\n",
       "      <td>0.0</td>\n",
       "      <td>1</td>\n",
       "      <td>9.99</td>\n",
       "      <td>2.99</td>\n",
       "      <td>2021-11-15</td>\n",
       "      <td>Monday</td>\n",
       "      <td>18</td>\n",
       "      <td>11</td>\n",
       "    </tr>\n",
       "  </tbody>\n",
       "</table>\n",
       "</div>"
      ],
      "text/plain": [
       "  Order_id  Merchant               Customer_id                   Datetime  \\\n",
       "0   #11946  Ketofood         robbygp@libero.it  2021-11-15 13:13:59 +0100   \n",
       "1   #11947  Ketofood   meryalfano969@gmail.com  2021-11-15 14:15:11 +0100   \n",
       "2   #11948  Ketofood    rudi.vittori@gmail.com  2021-11-15 16:07:40 +0100   \n",
       "3   #11949  Ketofood  sterob.dental@tiscali.it  2021-11-15 16:43:09 +0100   \n",
       "4   #11950  Ketofood     anninacamel@gmail.com  2021-11-15 18:37:50 +0100   \n",
       "\n",
       "  Country Shipping Zip  Blink_shipping  Cap_eligibility  \\\n",
       "0      IT        20851             0.0              1.0   \n",
       "1      IT        90136             0.0              1.0   \n",
       "2      IT        34076             0.0              1.0   \n",
       "3      IT        10143             0.0              0.0   \n",
       "4      IT        41043             0.0              1.0   \n",
       "\n",
       "   Inventory_av_eligibility  New_to_blink  New_to_merch  Lineitem_quantity  \\\n",
       "0                       1.0           0.0           1.0                  2   \n",
       "1                       0.0           0.0           0.0                  2   \n",
       "2                       1.0           1.0           0.0                  1   \n",
       "3                       1.0           0.0           0.0                  1   \n",
       "4                       0.0           0.0           0.0                  1   \n",
       "\n",
       "   Lineitem_price  Shipping_price        date day_of_week  hour_of_day  \\\n",
       "0            8.99            2.99  2021-11-15      Monday           13   \n",
       "1            8.99            2.99  2021-11-15      Monday           14   \n",
       "2           23.95            2.99  2021-11-15      Monday           16   \n",
       "3           14.95            0.00  2021-11-15      Monday           16   \n",
       "4            9.99            2.99  2021-11-15      Monday           18   \n",
       "\n",
       "   month_num  \n",
       "0         11  \n",
       "1         11  \n",
       "2         11  \n",
       "3         11  \n",
       "4         11  "
      ]
     },
     "metadata": {},
     "output_type": "display_data"
    }
   ],
   "source": [
    "orders_filtered = orders[\n",
    "    orders.Country.isin(country_list) \n",
    "    & orders.Merchant.isin(merchant_list) \n",
    "    & (orders.date >= date_start) \n",
    "    & (orders.date < date_end) \n",
    "    & (orders.day_of_week.isin(day_of_week_list))\n",
    "    & (orders.hour_of_day >= hod_start) \n",
    "    & (orders.hour_of_day < hod_end)\n",
    "    ].reset_index(drop = True)\n",
    "\n",
    "display(orders.head(5))"
   ]
  },
  {
   "cell_type": "markdown",
   "id": "91565725",
   "metadata": {},
   "source": [
    "## From here we can compute the **KPIs**:"
   ]
  },
  {
   "cell_type": "markdown",
   "id": "5f73a56d",
   "metadata": {},
   "source": [
    "**1. Percentage of serviceable orders** \n",
    "<p> <i>Description</i>: number of orders where Blink is shown at checkout divided by the total number of orders </p>"
   ]
  },
  {
   "cell_type": "code",
   "execution_count": 246,
   "id": "2c0f33a7",
   "metadata": {},
   "outputs": [
    {
     "data": {
      "text/html": [
       "<div>\n",
       "<style scoped>\n",
       "    .dataframe tbody tr th:only-of-type {\n",
       "        vertical-align: middle;\n",
       "    }\n",
       "\n",
       "    .dataframe tbody tr th {\n",
       "        vertical-align: top;\n",
       "    }\n",
       "\n",
       "    .dataframe thead th {\n",
       "        text-align: right;\n",
       "    }\n",
       "</style>\n",
       "<table border=\"1\" class=\"dataframe\">\n",
       "  <thead>\n",
       "    <tr style=\"text-align: right;\">\n",
       "      <th></th>\n",
       "      <th>Cap_eligibility</th>\n",
       "      <th>Inventory_av_eligibility</th>\n",
       "      <th>Order_id</th>\n",
       "      <th>Percent</th>\n",
       "    </tr>\n",
       "  </thead>\n",
       "  <tbody>\n",
       "    <tr>\n",
       "      <th>0</th>\n",
       "      <td>0.0</td>\n",
       "      <td>0.0</td>\n",
       "      <td>83</td>\n",
       "      <td>0.216710</td>\n",
       "    </tr>\n",
       "    <tr>\n",
       "      <th>1</th>\n",
       "      <td>0.0</td>\n",
       "      <td>1.0</td>\n",
       "      <td>89</td>\n",
       "      <td>0.232376</td>\n",
       "    </tr>\n",
       "    <tr>\n",
       "      <th>2</th>\n",
       "      <td>1.0</td>\n",
       "      <td>0.0</td>\n",
       "      <td>120</td>\n",
       "      <td>0.313316</td>\n",
       "    </tr>\n",
       "    <tr>\n",
       "      <th>3</th>\n",
       "      <td>1.0</td>\n",
       "      <td>1.0</td>\n",
       "      <td>91</td>\n",
       "      <td>0.237598</td>\n",
       "    </tr>\n",
       "  </tbody>\n",
       "</table>\n",
       "</div>"
      ],
      "text/plain": [
       "   Cap_eligibility  Inventory_av_eligibility  Order_id   Percent\n",
       "0              0.0                       0.0        83  0.216710\n",
       "1              0.0                       1.0        89  0.232376\n",
       "2              1.0                       0.0       120  0.313316\n",
       "3              1.0                       1.0        91  0.237598"
      ]
     },
     "metadata": {},
     "output_type": "display_data"
    },
    {
     "data": {
      "image/png": "[encoded data removed]",
      "text/plain": [
       "<Figure size 432x288 with 1 Axes>"
      ]
     },
     "metadata": {
      "needs_background": "light"
     },
     "output_type": "display_data"
    }
   ],
   "source": [
    "perc_serv_ord = orders_filtered.groupby(['Cap_eligibility', 'Inventory_av_eligibility']).Order_id.count().reset_index()\n",
    "perc_serv_ord['Percent'] = perc_serv_ord.Order_id / perc_serv_ord.Order_id.sum()\n",
    "\n",
    "display(perc_serv_ord)\n",
    "\n",
    "ax = plt.subplot()\n",
    "plt.bar(range(len(perc_serv_ord.Cap_eligibility)), perc_serv_ord.Percent)\n",
    "ax.set_xticks(range(len(perc_serv_ord)))\n",
    "ax.set_xticklabels(['No', 'Inv only', 'Cap only', 'Yes'])\n",
    "ax.set_yticks([0.05, 0.10, 0.15, 0.20, 0.25, 0.30, 0.35, 0.40, 0.45, 0.50])\n",
    "ax.set_yticklabels(['5%', '10%', '15%', '20%', '25%', '30%', '35%', '40%', '45%', '50%'])\n",
    "plt.title('Eligible orders')\n",
    "plt.show()"
   ]
  },
  {
   "cell_type": "markdown",
   "id": "74ef350a",
   "metadata": {},
   "source": [
    "**2. Percentage of turnover through Blink orders** \n",
    "<p> <i>Description</i>: revenue from Blink orders divided by the total revenue </p>"
   ]
  },
  {
   "cell_type": "code",
   "execution_count": 247,
   "id": "fc587018",
   "metadata": {},
   "outputs": [
    {
     "data": {
      "text/html": [
       "<div>\n",
       "<style scoped>\n",
       "    .dataframe tbody tr th:only-of-type {\n",
       "        vertical-align: middle;\n",
       "    }\n",
       "\n",
       "    .dataframe tbody tr th {\n",
       "        vertical-align: top;\n",
       "    }\n",
       "\n",
       "    .dataframe thead th {\n",
       "        text-align: right;\n",
       "    }\n",
       "</style>\n",
       "<table border=\"1\" class=\"dataframe\">\n",
       "  <thead>\n",
       "    <tr style=\"text-align: right;\">\n",
       "      <th></th>\n",
       "      <th>Blink_shipping</th>\n",
       "      <th>Lineitem_price</th>\n",
       "      <th>Percent</th>\n",
       "    </tr>\n",
       "  </thead>\n",
       "  <tbody>\n",
       "    <tr>\n",
       "      <th>0</th>\n",
       "      <td>0.0</td>\n",
       "      <td>6999.81</td>\n",
       "      <td>0.98359</td>\n",
       "    </tr>\n",
       "    <tr>\n",
       "      <th>1</th>\n",
       "      <td>1.0</td>\n",
       "      <td>116.78</td>\n",
       "      <td>0.01641</td>\n",
       "    </tr>\n",
       "  </tbody>\n",
       "</table>\n",
       "</div>"
      ],
      "text/plain": [
       "   Blink_shipping  Lineitem_price  Percent\n",
       "0             0.0         6999.81  0.98359\n",
       "1             1.0          116.78  0.01641"
      ]
     },
     "metadata": {},
     "output_type": "display_data"
    },
    {
     "data": {
      "text/plain": [
       "(-1.105592837197417,\n",
       " 1.1002663287412988,\n",
       " -1.1074879403090896,\n",
       " 1.1034956899213935)"
      ]
     },
     "execution_count": 247,
     "metadata": {},
     "output_type": "execute_result"
    },
    {
     "data": {
      "image/png": "[encoded data removed]",
      "text/plain": [
       "<Figure size 432x288 with 1 Axes>"
      ]
     },
     "metadata": {},
     "output_type": "display_data"
    }
   ],
   "source": [
    "perc_rev = orders_filtered.groupby(['Blink_shipping']).Lineitem_price.sum().reset_index()\n",
    "perc_rev['Percent'] = perc_rev.Lineitem_price / perc_rev.Lineitem_price.sum()\n",
    "\n",
    "display(perc_rev)\n",
    "\n",
    "plt.figure()\n",
    "plt.pie(perc_rev.Lineitem_price, labels = ['Non-Blink', 'Blink'], autopct = '%d%%')\n",
    "plt.axis('equal')"
   ]
  },
  {
   "cell_type": "markdown",
   "id": "70c1ddab",
   "metadata": {},
   "source": [
    "**3. Purchasing Frequecy ratio** \n",
    "<p> <i>Description</i>: Orders/month of customer that made more 3 orders from one merchant with Blink vs without Blink. </p>"
   ]
  },
  {
   "cell_type": "code",
   "execution_count": 241,
   "id": "5d7bc0e9",
   "metadata": {},
   "outputs": [
    {
     "data": {
      "text/plain": [
       "Customer_id                            month_num  Blink_shipping\n",
       "Bigmenny81@yahoo.it                    2          0.0               1\n",
       "Claudia.massucco@libero.it             1          0.0               1\n",
       "Franca0564@gmail.com                   12         0.0               1\n",
       "Krisiu@libero.it                       12         0.0               1\n",
       "Luigi.salerno@virgilio.it              1          0.0               1\n",
       "                                                                   ..\n",
       "vruggeri77@libero.it                   1          0.0               1\n",
       "yuliandrea.garciaorozco86@hotmail.com  1          0.0               1\n",
       "zarattiniantonella@libero.it           12         0.0               1\n",
       "zennaro.ilaria@virgilio.it             1          0.0               1\n",
       "zoilinda@gmail.com                     11         0.0               1\n",
       "Name: Order_id, Length: 376, dtype: int64"
      ]
     },
     "metadata": {},
     "output_type": "display_data"
    }
   ],
   "source": [
    "customer_table = orders_filtered.groupby(['Customer_id', 'month_num', 'Blink_shipping']).Order_id.count()\n",
    "\n",
    "display(customer_table)"
   ]
  },
  {
   "cell_type": "code",
   "execution_count": null,
   "id": "aeb88960",
   "metadata": {},
   "outputs": [],
   "source": []
  },
  {
   "cell_type": "code",
   "execution_count": null,
   "id": "e8a5da6f",
   "metadata": {},
   "outputs": [],
   "source": []
  }
 ],
 "metadata": {
  "kernelspec": {
   "display_name": "Python 3 (ipykernel)",
   "language": "python",
   "name": "python3"
  },
  "language_info": {
   "codemirror_mode": {
    "name": "ipython",
    "version": 3
   },
   "file_extension": ".py",
   "mimetype": "text/x-python",
   "name": "python",
   "nbconvert_exporter": "python",
   "pygments_lexer": "ipython3",
   "version": "3.9.7"
  }
 },
 "nbformat": 4,
 "nbformat_minor": 5
}

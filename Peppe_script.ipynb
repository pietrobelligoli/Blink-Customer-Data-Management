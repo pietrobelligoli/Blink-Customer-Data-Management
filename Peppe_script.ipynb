{
 "cells": [
  {
   "cell_type": "markdown",
   "id": "df518aed",
   "metadata": {},
   "source": [
    "**Github commit**:\n",
    "* git checkout branch\n",
    "* git add filename\n",
    "* git commit -m \"actionname\"\n",
    "* git push origin"
   ]
  },
  {
   "cell_type": "markdown",
   "id": "68a1c0eb",
   "metadata": {},
   "source": [
    "Let's start from importing the dummy **dataset** with the columns assumptions:"
   ]
  },
  {
   "cell_type": "code",
   "execution_count": 3,
   "id": "8f2fdcec",
   "metadata": {},
   "outputs": [],
   "source": [
    "import pandas as pd\n",
    "from matplotlib import pyplot as plt\n",
    "\n",
    "df = pd.read_csv('Dataset_test.csv', low_memory = False)"
   ]
  },
  {
   "cell_type": "markdown",
   "id": "f1b85cc3",
   "metadata": {},
   "source": [
    "Then let's create a dataframe containing only line items associated with completed orders. And secondly group the data so that **every row corresponds to an order** placed by a customer."
   ]
  },
  {
   "cell_type": "code",
   "execution_count": 9,
   "id": "d0d56658",
   "metadata": {},
   "outputs": [],
   "source": [
    "# Get Orders, exclude Sessions\n",
    "line_orders = df[~df.Order_id.isnull()]\n",
    "\n",
    "#Group the data \n",
    "orders = df.groupby(['Order_id', 'Merchant', 'Datetime', 'Country', 'Shipping Zip']).agg({\n",
    "    'Blink_shipping': 'sum',\n",
    "    'Cap_eligibility': 'sum',\n",
    "    'Inventory_av_eligibility': 'sum',\n",
    "    'New_to_blink': 'sum',\n",
    "    'New_to_merch': 'sum',\n",
    "    'New_to_blink': 'sum',\n",
    "    'Lineitem_quantity': 'sum',\n",
    "    'Lineitem_price': 'sum',\n",
    "    'Shipping_price': 'max'\n",
    "}).reset_index()\n",
    "\n",
    "#Add time columns\n",
    "orders['date'] = pd.to_datetime(orders.Datetime).dt.date\n",
    "orders['day_of_week'] = pd.to_datetime(orders.Datetime).dt.day_name()\n",
    "orders['hour_of_day'] = pd.to_datetime(orders.Datetime).dt.hour"
   ]
  },
  {
   "cell_type": "markdown",
   "id": "01affe29",
   "metadata": {},
   "source": [
    "Below you can enter the parameters that you wanna use to filter the dataframe we compute above"
   ]
  },
  {
   "cell_type": "code",
   "execution_count": 16,
   "id": "d3e8264f",
   "metadata": {},
   "outputs": [],
   "source": [
    "#Parameters {for multiple values use a list [item1, item2]}\n",
    "\n",
    "country_list = ['IT']\n",
    "merchant_list = ['Ketofood']\n",
    "date_start = '2021-11-20'\n",
    "date_end = '2022-11-30'\n",
    "day_of_week_list = ['Monday', 'Tuesday', 'Wednesday']\n",
    "hod_start = 12\n",
    "hod_end = 15\n",
    "\n",
    "date_start = pd.to_datetime(date_start)\n",
    "date_end = pd.to_datetime(date_end)"
   ]
  },
  {
   "cell_type": "markdown",
   "id": "26b58339",
   "metadata": {},
   "source": [
    "If you don't wanna use specific filters, just **comment** the line of code (below) where that filter is. You can do that by using '#'."
   ]
  },
  {
   "cell_type": "code",
   "execution_count": 43,
   "id": "0643ec4c",
   "metadata": {},
   "outputs": [
    {
     "name": "stderr",
     "output_type": "stream",
     "text": [
      "C:\\Users\\Giuseppe\\anaconda3\\lib\\site-packages\\pandas\\core\\ops\\array_ops.py:73: FutureWarning: Comparison of Timestamp with datetime.date is deprecated in order to match the standard library behavior.  In a future version these will be considered non-comparable.Use 'ts == pd.Timestamp(date)' or 'ts.date() == date' instead.\n",
      "  result = libops.scalar_compare(x.ravel(), y, op)\n"
     ]
    },
    {
     "data": {
      "text/html": [
       "<div>\n",
       "<style scoped>\n",
       "    .dataframe tbody tr th:only-of-type {\n",
       "        vertical-align: middle;\n",
       "    }\n",
       "\n",
       "    .dataframe tbody tr th {\n",
       "        vertical-align: top;\n",
       "    }\n",
       "\n",
       "    .dataframe thead th {\n",
       "        text-align: right;\n",
       "    }\n",
       "</style>\n",
       "<table border=\"1\" class=\"dataframe\">\n",
       "  <thead>\n",
       "    <tr style=\"text-align: right;\">\n",
       "      <th></th>\n",
       "      <th>Order_id</th>\n",
       "      <th>Merchant</th>\n",
       "      <th>Datetime</th>\n",
       "      <th>Country</th>\n",
       "      <th>Shipping Zip</th>\n",
       "      <th>Blink_shipping</th>\n",
       "      <th>Cap_eligibility</th>\n",
       "      <th>Inventory_av_eligibility</th>\n",
       "      <th>New_to_blink</th>\n",
       "      <th>New_to_merch</th>\n",
       "      <th>Lineitem_quantity</th>\n",
       "      <th>Lineitem_price</th>\n",
       "      <th>Shipping_price</th>\n",
       "      <th>date</th>\n",
       "      <th>day_of_week</th>\n",
       "      <th>hour_of_day</th>\n",
       "    </tr>\n",
       "  </thead>\n",
       "  <tbody>\n",
       "    <tr>\n",
       "      <th>0</th>\n",
       "      <td>#12134</td>\n",
       "      <td>Ketofood</td>\n",
       "      <td>2021-11-22 12:02:45 +0100</td>\n",
       "      <td>IT</td>\n",
       "      <td>42020</td>\n",
       "      <td>0.0</td>\n",
       "      <td>1.0</td>\n",
       "      <td>1.0</td>\n",
       "      <td>0.0</td>\n",
       "      <td>1.0</td>\n",
       "      <td>1</td>\n",
       "      <td>69.95</td>\n",
       "      <td>0.00</td>\n",
       "      <td>2021-11-22</td>\n",
       "      <td>Monday</td>\n",
       "      <td>12</td>\n",
       "    </tr>\n",
       "    <tr>\n",
       "      <th>1</th>\n",
       "      <td>#12135</td>\n",
       "      <td>Ketofood</td>\n",
       "      <td>2021-11-22 12:07:42 +0100</td>\n",
       "      <td>IT</td>\n",
       "      <td>92100</td>\n",
       "      <td>0.0</td>\n",
       "      <td>1.0</td>\n",
       "      <td>1.0</td>\n",
       "      <td>1.0</td>\n",
       "      <td>0.0</td>\n",
       "      <td>2</td>\n",
       "      <td>16.95</td>\n",
       "      <td>2.99</td>\n",
       "      <td>2021-11-22</td>\n",
       "      <td>Monday</td>\n",
       "      <td>12</td>\n",
       "    </tr>\n",
       "    <tr>\n",
       "      <th>2</th>\n",
       "      <td>#12136</td>\n",
       "      <td>Ketofood</td>\n",
       "      <td>2021-11-22 12:08:23 +0100</td>\n",
       "      <td>IT</td>\n",
       "      <td>20900</td>\n",
       "      <td>0.0</td>\n",
       "      <td>1.0</td>\n",
       "      <td>0.0</td>\n",
       "      <td>1.0</td>\n",
       "      <td>1.0</td>\n",
       "      <td>1</td>\n",
       "      <td>16.95</td>\n",
       "      <td>2.99</td>\n",
       "      <td>2021-11-22</td>\n",
       "      <td>Monday</td>\n",
       "      <td>12</td>\n",
       "    </tr>\n",
       "    <tr>\n",
       "      <th>3</th>\n",
       "      <td>#12137</td>\n",
       "      <td>Ketofood</td>\n",
       "      <td>2021-11-22 12:26:10 +0100</td>\n",
       "      <td>IT</td>\n",
       "      <td>26035</td>\n",
       "      <td>0.0</td>\n",
       "      <td>0.0</td>\n",
       "      <td>0.0</td>\n",
       "      <td>1.0</td>\n",
       "      <td>1.0</td>\n",
       "      <td>1</td>\n",
       "      <td>69.95</td>\n",
       "      <td>0.00</td>\n",
       "      <td>2021-11-22</td>\n",
       "      <td>Monday</td>\n",
       "      <td>12</td>\n",
       "    </tr>\n",
       "    <tr>\n",
       "      <th>4</th>\n",
       "      <td>#12138</td>\n",
       "      <td>Ketofood</td>\n",
       "      <td>2021-11-22 12:26:38 +0100</td>\n",
       "      <td>IT</td>\n",
       "      <td>92100</td>\n",
       "      <td>0.0</td>\n",
       "      <td>0.0</td>\n",
       "      <td>0.0</td>\n",
       "      <td>1.0</td>\n",
       "      <td>1.0</td>\n",
       "      <td>1</td>\n",
       "      <td>7.99</td>\n",
       "      <td>0.00</td>\n",
       "      <td>2021-11-22</td>\n",
       "      <td>Monday</td>\n",
       "      <td>12</td>\n",
       "    </tr>\n",
       "  </tbody>\n",
       "</table>\n",
       "</div>"
      ],
      "text/plain": [
       "  Order_id  Merchant                   Datetime Country Shipping Zip  \\\n",
       "0   #12134  Ketofood  2021-11-22 12:02:45 +0100      IT        42020   \n",
       "1   #12135  Ketofood  2021-11-22 12:07:42 +0100      IT        92100   \n",
       "2   #12136  Ketofood  2021-11-22 12:08:23 +0100      IT        20900   \n",
       "3   #12137  Ketofood  2021-11-22 12:26:10 +0100      IT        26035   \n",
       "4   #12138  Ketofood  2021-11-22 12:26:38 +0100      IT        92100   \n",
       "\n",
       "   Blink_shipping  Cap_eligibility  Inventory_av_eligibility  New_to_blink  \\\n",
       "0             0.0              1.0                       1.0           0.0   \n",
       "1             0.0              1.0                       1.0           1.0   \n",
       "2             0.0              1.0                       0.0           1.0   \n",
       "3             0.0              0.0                       0.0           1.0   \n",
       "4             0.0              0.0                       0.0           1.0   \n",
       "\n",
       "   New_to_merch  Lineitem_quantity  Lineitem_price  Shipping_price  \\\n",
       "0           1.0                  1           69.95            0.00   \n",
       "1           0.0                  2           16.95            2.99   \n",
       "2           1.0                  1           16.95            2.99   \n",
       "3           1.0                  1           69.95            0.00   \n",
       "4           1.0                  1            7.99            0.00   \n",
       "\n",
       "         date day_of_week  hour_of_day  \n",
       "0  2021-11-22      Monday           12  \n",
       "1  2021-11-22      Monday           12  \n",
       "2  2021-11-22      Monday           12  \n",
       "3  2021-11-22      Monday           12  \n",
       "4  2021-11-22      Monday           12  "
      ]
     },
     "metadata": {},
     "output_type": "display_data"
    }
   ],
   "source": [
    "orders = orders[\n",
    "    orders.Country.isin(country_list) \n",
    "    & orders.Merchant.isin(merchant_list) \n",
    "    & (orders.date >= date_start) \n",
    "    & (orders.date < date_end) \n",
    "    & (orders.day_of_week.isin(day_of_week_list))\n",
    "    & (orders.hour_of_day >= hod_start) \n",
    "    & (orders.hour_of_day < hod_end)\n",
    "    ].reset_index(drop = True)\n",
    "\n",
    "display(orders.head(5))"
   ]
  },
  {
   "cell_type": "markdown",
   "id": "91565725",
   "metadata": {},
   "source": [
    "## From here we can compute the **KPIs**:"
   ]
  },
  {
   "cell_type": "markdown",
   "id": "5f73a56d",
   "metadata": {},
   "source": [
    "**1. Percentage of serviceable orders** \n",
    "<p> <i>Description</i>: number of orders where Blink is shown at checkout divided by the total number of orders </p>"
   ]
  },
  {
   "cell_type": "code",
   "execution_count": 77,
   "id": "2c0f33a7",
   "metadata": {},
   "outputs": [
    {
     "data": {
      "text/html": [
       "<div>\n",
       "<style scoped>\n",
       "    .dataframe tbody tr th:only-of-type {\n",
       "        vertical-align: middle;\n",
       "    }\n",
       "\n",
       "    .dataframe tbody tr th {\n",
       "        vertical-align: top;\n",
       "    }\n",
       "\n",
       "    .dataframe thead th {\n",
       "        text-align: right;\n",
       "    }\n",
       "</style>\n",
       "<table border=\"1\" class=\"dataframe\">\n",
       "  <thead>\n",
       "    <tr style=\"text-align: right;\">\n",
       "      <th></th>\n",
       "      <th>Cap_eligibility</th>\n",
       "      <th>Inventory_av_eligibility</th>\n",
       "      <th>Order_id</th>\n",
       "      <th>Percent</th>\n",
       "    </tr>\n",
       "  </thead>\n",
       "  <tbody>\n",
       "    <tr>\n",
       "      <th>0</th>\n",
       "      <td>0.0</td>\n",
       "      <td>0.0</td>\n",
       "      <td>66</td>\n",
       "      <td>0.218543</td>\n",
       "    </tr>\n",
       "    <tr>\n",
       "      <th>1</th>\n",
       "      <td>0.0</td>\n",
       "      <td>1.0</td>\n",
       "      <td>72</td>\n",
       "      <td>0.238411</td>\n",
       "    </tr>\n",
       "    <tr>\n",
       "      <th>2</th>\n",
       "      <td>1.0</td>\n",
       "      <td>0.0</td>\n",
       "      <td>90</td>\n",
       "      <td>0.298013</td>\n",
       "    </tr>\n",
       "    <tr>\n",
       "      <th>3</th>\n",
       "      <td>1.0</td>\n",
       "      <td>1.0</td>\n",
       "      <td>74</td>\n",
       "      <td>0.245033</td>\n",
       "    </tr>\n",
       "  </tbody>\n",
       "</table>\n",
       "</div>"
      ],
      "text/plain": [
       "   Cap_eligibility  Inventory_av_eligibility  Order_id   Percent\n",
       "0              0.0                       0.0        66  0.218543\n",
       "1              0.0                       1.0        72  0.238411\n",
       "2              1.0                       0.0        90  0.298013\n",
       "3              1.0                       1.0        74  0.245033"
      ]
     },
     "metadata": {},
     "output_type": "display_data"
    },
    {
     "data": {
      "image/png": "[encoded data removed]",
      "text/plain": [
       "<Figure size 432x288 with 1 Axes>"
      ]
     },
     "metadata": {
      "needs_background": "light"
     },
     "output_type": "display_data"
    }
   ],
   "source": [
    "perc_serv_ord = orders.groupby(['Cap_eligibility', 'Inventory_av_eligibility']).Order_id.count().reset_index()\n",
    "perc_serv_ord['Percent'] = perc_serv_ord.Order_id / perc_serv_ord.Order_id.sum()\n",
    "\n",
    "display(perc_serv_ord)\n",
    "\n",
    "ax = plt.subplot()\n",
    "plt.bar(range(len(perc_serv_ord.Cap_eligibility)), perc_serv_ord.Percent)\n",
    "ax.set_xticks(range(len(perc_serv_ord)))\n",
    "ax.set_xticklabels(['No', 'Inv only', 'Cap only', 'Yes'])\n",
    "ax.set_yticks([0.05, 0.10, 0.15, 0.20, 0.25, 0.30, 0.35, 0.40, 0.45, 0.50])\n",
    "ax.set_yticklabels(['5%', '10%', '15%', '20%', '25%', '30%', '35%', '40%', '45%', '50%'])\n",
    "plt.title('Eligible orders')\n",
    "plt.show()"
   ]
  },
  {
   "cell_type": "markdown",
   "id": "74ef350a",
   "metadata": {},
   "source": [
    "**2. Percentage of turnover through Blink orders** \n",
    "<p> <i>Description</i>: revenue from Blink orders divided by the total revenue </p>"
   ]
  },
  {
   "cell_type": "code",
   "execution_count": 80,
   "id": "fc587018",
   "metadata": {},
   "outputs": [
    {
     "data": {
      "text/html": [
       "<div>\n",
       "<style scoped>\n",
       "    .dataframe tbody tr th:only-of-type {\n",
       "        vertical-align: middle;\n",
       "    }\n",
       "\n",
       "    .dataframe tbody tr th {\n",
       "        vertical-align: top;\n",
       "    }\n",
       "\n",
       "    .dataframe thead th {\n",
       "        text-align: right;\n",
       "    }\n",
       "</style>\n",
       "<table border=\"1\" class=\"dataframe\">\n",
       "  <thead>\n",
       "    <tr style=\"text-align: right;\">\n",
       "      <th></th>\n",
       "      <th>Blink_shipping</th>\n",
       "      <th>Lineitem_price</th>\n",
       "      <th>Percent</th>\n",
       "    </tr>\n",
       "  </thead>\n",
       "  <tbody>\n",
       "    <tr>\n",
       "      <th>0</th>\n",
       "      <td>0.0</td>\n",
       "      <td>5658.71</td>\n",
       "      <td>0.984968</td>\n",
       "    </tr>\n",
       "    <tr>\n",
       "      <th>1</th>\n",
       "      <td>1.0</td>\n",
       "      <td>86.36</td>\n",
       "      <td>0.015032</td>\n",
       "    </tr>\n",
       "  </tbody>\n",
       "</table>\n",
       "</div>"
      ],
      "text/plain": [
       "   Blink_shipping  Lineitem_price   Percent\n",
       "0             0.0         5658.71  0.984968\n",
       "1             1.0           86.36  0.015032"
      ]
     },
     "metadata": {},
     "output_type": "display_data"
    },
    {
     "data": {
      "text/plain": [
       "(-1.1052400428283624,\n",
       " 1.1002495285510936,\n",
       " -1.1071169914755392,\n",
       " 1.1032458240250806)"
      ]
     },
     "execution_count": 80,
     "metadata": {},
     "output_type": "execute_result"
    },
    {
     "data": {
      "image/png": "[encoded data removed]",
      "text/plain": [
       "<Figure size 432x288 with 1 Axes>"
      ]
     },
     "metadata": {},
     "output_type": "display_data"
    }
   ],
   "source": [
    "perc_rev = orders.groupby(['Blink_shipping']).Lineitem_price.sum().reset_index()\n",
    "perc_rev['Percent'] = perc_rev.Lineitem_price / perc_rev.Lineitem_price.sum()\n",
    "\n",
    "display(perc_rev)\n",
    "\n",
    "plt.figure()\n",
    "plt.pie(perc_rev.Lineitem_price, labels = ['Non-Blink', 'Blink'], autopct = '%d%%')\n",
    "plt.axis('equal')"
   ]
  }
 ],
 "metadata": {
  "kernelspec": {
   "display_name": "Python 3 (ipykernel)",
   "language": "python",
   "name": "python3"
  },
  "language_info": {
   "codemirror_mode": {
    "name": "ipython",
    "version": 3
   },
   "file_extension": ".py",
   "mimetype": "text/x-python",
   "name": "python",
   "nbconvert_exporter": "python",
   "pygments_lexer": "ipython3",
   "version": "3.9.7"
  }
 },
 "nbformat": 4,
 "nbformat_minor": 5
}

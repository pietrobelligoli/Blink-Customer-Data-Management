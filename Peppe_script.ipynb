{
 "cells": [
  {
   "cell_type": "markdown",
   "id": "df518aed",
   "metadata": {},
   "source": [
    "**Github commit**:\n",
    "* git checkout branch\n",
    "* git add filename\n",
    "* git commit -m \"actionname\"\n",
    "* git push origin"
   ]
  },
  {
   "cell_type": "markdown",
   "id": "68a1c0eb",
   "metadata": {},
   "source": [
    "Let's start from importing **dataset**:"
   ]
  },
  {
   "cell_type": "code",
   "execution_count": 309,
   "id": "8f2fdcec",
   "metadata": {},
   "outputs": [],
   "source": [
    "import pandas as pd\n",
    "from matplotlib import pyplot as plt\n",
    "\n",
    "df = pd.read_csv('Dataset_test.csv', low_memory = False)"
   ]
  },
  {
   "cell_type": "markdown",
   "id": "f1b85cc3",
   "metadata": {},
   "source": [
    "Then let's create two dataframes:\n",
    "* The first will contain only completed orders\n",
    "* The second will contain all the sessions (in which are also included the completed ones that converted into orders)"
   ]
  },
  {
   "cell_type": "code",
   "execution_count": 312,
   "id": "d0d56658",
   "metadata": {},
   "outputs": [],
   "source": [
    "#Orders dataframe\n",
    "orders = df.groupby(['Order_id', 'Merchant', 'Customer_id', 'Datetime', 'Country', 'Shipping Zip']).agg({\n",
    "    'Blink_shipping': 'sum',\n",
    "    'Cap_eligibility': 'sum',\n",
    "    'Inventory_av_eligibility': 'sum',\n",
    "    'New_to_blink': 'sum',\n",
    "    'New_to_merch': 'sum',\n",
    "    'New_to_blink': 'sum',\n",
    "    'Lineitem_quantity': 'sum',\n",
    "    'Lineitem_price': 'sum',\n",
    "    'Shipping_price': 'max'\n",
    "}).reset_index()\n",
    "\n",
    "#Sessions dataframe\n",
    "sessions = df.groupby(['Session_id', 'Merchant', 'Customer_id', 'Datetime', 'Country', 'Shipping Zip']).agg({\n",
    "    'Blink_shipping': 'sum',\n",
    "    'Cap_eligibility': 'sum',\n",
    "    'Inventory_av_eligibility': 'sum',\n",
    "    'New_to_blink': 'sum',\n",
    "    'New_to_merch': 'sum',\n",
    "    'New_to_blink': 'sum',\n",
    "    'Lineitem_quantity': 'sum',\n",
    "    'Lineitem_price': 'sum',\n",
    "    'Shipping_price': 'max'\n",
    "}).reset_index()\n",
    "\n",
    "#Add time columns\n",
    "orders['date'] = pd.to_datetime(orders.Datetime, errors = 'coerce', utc = 'true').dt.date\n",
    "orders['day_of_week'] = pd.to_datetime(orders.Datetime, errors = 'coerce', utc = 'true').dt.day_name()\n",
    "orders['hour_of_day'] = pd.to_datetime(orders.Datetime, errors = 'coerce', utc = 'true').dt.hour\n",
    "orders['month_num'] = pd.to_datetime(orders.Datetime, errors = 'coerce', utc = 'true').dt.month\n",
    "sessions['date'] = pd.to_datetime(sessions.Datetime, errors = 'coerce', utc = 'true').dt.date\n",
    "sessions['day_of_week'] = pd.to_datetime(sessions.Datetime, errors = 'coerce', utc = 'true').dt.day_name()\n",
    "sessions['hour_of_day'] = pd.to_datetime(sessions.Datetime, errors = 'coerce', utc = 'true').dt.hour\n",
    "sessions['month_num'] = pd.to_datetime(sessions.Datetime, errors = 'coerce', utc = 'true').dt.month"
   ]
  },
  {
   "cell_type": "markdown",
   "id": "01affe29",
   "metadata": {},
   "source": [
    "Then the two dataframes can be filtered using to the **parameters** below:"
   ]
  },
  {
   "cell_type": "code",
   "execution_count": 348,
   "id": "d3e8264f",
   "metadata": {},
   "outputs": [],
   "source": [
    "country_list = ['IT']\n",
    "merchant_list = ['Ketofood']\n",
    "date_start = '2021-11-01'\n",
    "date_end = '2022-02-01'\n",
    "day_of_week_list = ['Monday', 'Tuesday']\n",
    "hod_start = 1\n",
    "hod_end = 24\n",
    "\n",
    "date_start = pd.to_datetime(date_start)\n",
    "date_end = pd.to_datetime(date_end)"
   ]
  },
  {
   "cell_type": "markdown",
   "id": "26b58339",
   "metadata": {},
   "source": [
    "If you don't wanna use specific filters, just **comment** the line of code (below) where that filter is. You can do that by using '#'."
   ]
  },
  {
   "cell_type": "code",
   "execution_count": 350,
   "id": "0643ec4c",
   "metadata": {
    "scrolled": false
   },
   "outputs": [
    {
     "name": "stderr",
     "output_type": "stream",
     "text": [
      "C:\\Users\\Giuseppe\\anaconda3\\lib\\site-packages\\pandas\\core\\ops\\array_ops.py:73: FutureWarning: Comparison of Timestamp with datetime.date is deprecated in order to match the standard library behavior.  In a future version these will be considered non-comparable.Use 'ts == pd.Timestamp(date)' or 'ts.date() == date' instead.\n",
      "  result = libops.scalar_compare(x.ravel(), y, op)\n"
     ]
    }
   ],
   "source": [
    "orders_filtered = orders[\n",
    "    orders.Country.isin(country_list) \n",
    "    & orders.Merchant.isin(merchant_list) \n",
    "    & (orders.date >= date_start) \n",
    "    & (orders.date < date_end) \n",
    "    & (orders.day_of_week.isin(day_of_week_list))\n",
    "    & (orders.hour_of_day >= hod_start) \n",
    "    & (orders.hour_of_day < hod_end)\n",
    "    ].reset_index(drop = True)\n",
    "\n",
    "sessions_filtered = sessions\n",
    "# [\n",
    "#     orders.Country.isin(country_list) \n",
    "#     & orders.Merchant.isin(merchant_list) \n",
    "#     & (orders.date >= date_start) \n",
    "#     & (orders.date < date_end) \n",
    "#     & (orders.day_of_week.isin(day_of_week_list))\n",
    "#     & (orders.hour_of_day >= hod_start) \n",
    "#     & (orders.hour_of_day < hod_end)\n",
    "#     ].reset_index(drop = True)"
   ]
  },
  {
   "cell_type": "markdown",
   "id": "91565725",
   "metadata": {},
   "source": [
    "## From here we can compute the **KPIs**:"
   ]
  },
  {
   "cell_type": "markdown",
   "id": "5f73a56d",
   "metadata": {},
   "source": [
    "**1. Percentage of serviceable orders** \n",
    "<p> <i>Description</i>: number of orders where Blink is shown at checkout divided by the total number of orders </p>"
   ]
  },
  {
   "cell_type": "code",
   "execution_count": 344,
   "id": "2c0f33a7",
   "metadata": {},
   "outputs": [
    {
     "data": {
      "text/html": [
       "<div>\n",
       "<style scoped>\n",
       "    .dataframe tbody tr th:only-of-type {\n",
       "        vertical-align: middle;\n",
       "    }\n",
       "\n",
       "    .dataframe tbody tr th {\n",
       "        vertical-align: top;\n",
       "    }\n",
       "\n",
       "    .dataframe thead th {\n",
       "        text-align: right;\n",
       "    }\n",
       "</style>\n",
       "<table border=\"1\" class=\"dataframe\">\n",
       "  <thead>\n",
       "    <tr style=\"text-align: right;\">\n",
       "      <th></th>\n",
       "      <th>Cap_eligibility</th>\n",
       "      <th>Inventory_av_eligibility</th>\n",
       "      <th>Order_id</th>\n",
       "      <th>Percent</th>\n",
       "    </tr>\n",
       "  </thead>\n",
       "  <tbody>\n",
       "    <tr>\n",
       "      <th>0</th>\n",
       "      <td>0.0</td>\n",
       "      <td>0.0</td>\n",
       "      <td>693</td>\n",
       "      <td>0.235794</td>\n",
       "    </tr>\n",
       "    <tr>\n",
       "      <th>1</th>\n",
       "      <td>0.0</td>\n",
       "      <td>1.0</td>\n",
       "      <td>743</td>\n",
       "      <td>0.252807</td>\n",
       "    </tr>\n",
       "    <tr>\n",
       "      <th>2</th>\n",
       "      <td>1.0</td>\n",
       "      <td>0.0</td>\n",
       "      <td>763</td>\n",
       "      <td>0.259612</td>\n",
       "    </tr>\n",
       "    <tr>\n",
       "      <th>3</th>\n",
       "      <td>1.0</td>\n",
       "      <td>1.0</td>\n",
       "      <td>740</td>\n",
       "      <td>0.251786</td>\n",
       "    </tr>\n",
       "  </tbody>\n",
       "</table>\n",
       "</div>"
      ],
      "text/plain": [
       "   Cap_eligibility  Inventory_av_eligibility  Order_id   Percent\n",
       "0              0.0                       0.0       693  0.235794\n",
       "1              0.0                       1.0       743  0.252807\n",
       "2              1.0                       0.0       763  0.259612\n",
       "3              1.0                       1.0       740  0.251786"
      ]
     },
     "metadata": {},
     "output_type": "display_data"
    },
    {
     "data": {
      "image/png": "[encoded data removed]",
      "text/plain": [
       "<Figure size 432x288 with 1 Axes>"
      ]
     },
     "metadata": {
      "needs_background": "light"
     },
     "output_type": "display_data"
    }
   ],
   "source": [
    "perc_serv_ord = orders_filtered.groupby(['Cap_eligibility', 'Inventory_av_eligibility']).Order_id.count().reset_index()\n",
    "perc_serv_ord['Percent'] = perc_serv_ord.Order_id / perc_serv_ord.Order_id.sum()\n",
    "\n",
    "display(perc_serv_ord)\n",
    "\n",
    "ax = plt.subplot()\n",
    "plt.bar(range(len(perc_serv_ord.Cap_eligibility)), perc_serv_ord.Percent)\n",
    "ax.set_xticks(range(len(perc_serv_ord)))\n",
    "ax.set_xticklabels(['No', 'Inv only', 'Cap only', 'Yes'])\n",
    "ax.set_yticks([0.05, 0.10, 0.15, 0.20, 0.25, 0.30, 0.35, 0.40, 0.45, 0.50])\n",
    "ax.set_yticklabels(['5%', '10%', '15%', '20%', '25%', '30%', '35%', '40%', '45%', '50%'])\n",
    "plt.title('Eligible orders')\n",
    "plt.show()"
   ]
  },
  {
   "cell_type": "markdown",
   "id": "74ef350a",
   "metadata": {},
   "source": [
    "**2. Percentage of turnover through Blink orders** \n",
    "<p> <i>Description</i>: revenue from Blink orders divided by the total revenue </p>"
   ]
  },
  {
   "cell_type": "code",
   "execution_count": 345,
   "id": "fc587018",
   "metadata": {},
   "outputs": [
    {
     "data": {
      "text/html": [
       "<div>\n",
       "<style scoped>\n",
       "    .dataframe tbody tr th:only-of-type {\n",
       "        vertical-align: middle;\n",
       "    }\n",
       "\n",
       "    .dataframe tbody tr th {\n",
       "        vertical-align: top;\n",
       "    }\n",
       "\n",
       "    .dataframe thead th {\n",
       "        text-align: right;\n",
       "    }\n",
       "</style>\n",
       "<table border=\"1\" class=\"dataframe\">\n",
       "  <thead>\n",
       "    <tr style=\"text-align: right;\">\n",
       "      <th></th>\n",
       "      <th>Blink_shipping</th>\n",
       "      <th>Lineitem_price</th>\n",
       "      <th>Percent</th>\n",
       "    </tr>\n",
       "  </thead>\n",
       "  <tbody>\n",
       "    <tr>\n",
       "      <th>0</th>\n",
       "      <td>0.0</td>\n",
       "      <td>52165.93</td>\n",
       "      <td>0.989995</td>\n",
       "    </tr>\n",
       "    <tr>\n",
       "      <th>1</th>\n",
       "      <td>1.0</td>\n",
       "      <td>527.17</td>\n",
       "      <td>0.010005</td>\n",
       "    </tr>\n",
       "  </tbody>\n",
       "</table>\n",
       "</div>"
      ],
      "text/plain": [
       "   Blink_shipping  Lineitem_price   Percent\n",
       "0             0.0        52165.93  0.989995\n",
       "1             1.0          527.17  0.010005"
      ]
     },
     "metadata": {},
     "output_type": "display_data"
    },
    {
     "data": {
      "text/plain": [
       "(-1.1037708390049215,\n",
       " 1.1001795637621392,\n",
       " -1.1053620824390311,\n",
       " 1.1022660902957815)"
      ]
     },
     "execution_count": 345,
     "metadata": {},
     "output_type": "execute_result"
    },
    {
     "data": {
      "image/png": "[encoded data removed]",
      "text/plain": [
       "<Figure size 432x288 with 1 Axes>"
      ]
     },
     "metadata": {},
     "output_type": "display_data"
    }
   ],
   "source": [
    "perc_rev = orders_filtered.groupby(['Blink_shipping']).Lineitem_price.sum().reset_index()\n",
    "perc_rev['Percent'] = perc_rev.Lineitem_price / perc_rev.Lineitem_price.sum()\n",
    "\n",
    "display(perc_rev)\n",
    "\n",
    "plt.figure()\n",
    "plt.pie(perc_rev.Lineitem_price, labels = ['Non-Blink', 'Blink'], autopct = '%d%%')\n",
    "plt.axis('equal')"
   ]
  },
  {
   "cell_type": "markdown",
   "id": "c4aa8236",
   "metadata": {},
   "source": [
    "**3. Purchasing Frequecy ratio** \n",
    "<p> <i>Description</i>: Orders/month of customer that made more 3 orders from one merchant with Blink vs without Blink. </p>"
   ]
  },
  {
   "cell_type": "code",
   "execution_count": 346,
   "id": "9107c402",
   "metadata": {},
   "outputs": [
    {
     "data": {
      "text/plain": [
       "Customer_id              month_num  Blink_shipping\n",
       "09052012laura@gmail.com  1          0.0               2\n",
       "                         11         0.0               1\n",
       "1967bixio@gmail.com      12         0.0               1\n",
       "1flaviamilani@gmail.com  11         0.0               2\n",
       "                         12         0.0               2\n",
       "                                                     ..\n",
       "ziomitch@yahoo.it        1          0.0               1\n",
       "ziza1976@gmail.com       1          0.0               1\n",
       "zizzadolfo@gmail.com     11         0.0               1\n",
       "zoilinda@gmail.com       11         0.0               1\n",
       "zorzibob@yahoo.it        1          0.0               1\n",
       "Name: Order_id, Length: 2608, dtype: int64"
      ]
     },
     "metadata": {},
     "output_type": "display_data"
    }
   ],
   "source": [
    "customer_table = orders_filtered.groupby(['Customer_id', 'month_num', 'Blink_shipping']).Order_id.count()\n",
    "\n",
    "display(customer_table)"
   ]
  },
  {
   "cell_type": "markdown",
   "id": "d973ad55",
   "metadata": {},
   "source": [
    "**4. Percentage increase on Conversion Rate** \n",
    "<p> <i>Description</i>: Ratio between Conversion Rate w/ Blink and Conversion Rate w/out Blink. </p>"
   ]
  },
  {
   "cell_type": "code",
   "execution_count": 351,
   "id": "b805a170",
   "metadata": {},
   "outputs": [
    {
     "data": {
      "text/html": [
       "<div>\n",
       "<style scoped>\n",
       "    .dataframe tbody tr th:only-of-type {\n",
       "        vertical-align: middle;\n",
       "    }\n",
       "\n",
       "    .dataframe tbody tr th {\n",
       "        vertical-align: top;\n",
       "    }\n",
       "\n",
       "    .dataframe thead th {\n",
       "        text-align: right;\n",
       "    }\n",
       "</style>\n",
       "<table border=\"1\" class=\"dataframe\">\n",
       "  <thead>\n",
       "    <tr style=\"text-align: right;\">\n",
       "      <th></th>\n",
       "      <th>Blink_shown</th>\n",
       "      <th>Order_id</th>\n",
       "      <th>Session_id</th>\n",
       "      <th>conversion</th>\n",
       "    </tr>\n",
       "  </thead>\n",
       "  <tbody>\n",
       "    <tr>\n",
       "      <th>0</th>\n",
       "      <td>0</td>\n",
       "      <td>950</td>\n",
       "      <td>10675</td>\n",
       "      <td>0.081720</td>\n",
       "    </tr>\n",
       "    <tr>\n",
       "      <th>1</th>\n",
       "      <td>1</td>\n",
       "      <td>338</td>\n",
       "      <td>3592</td>\n",
       "      <td>0.086005</td>\n",
       "    </tr>\n",
       "  </tbody>\n",
       "</table>\n",
       "</div>"
      ],
      "text/plain": [
       "   Blink_shown  Order_id  Session_id  conversion\n",
       "0            0       950       10675    0.081720\n",
       "1            1       338        3592    0.086005"
      ]
     },
     "metadata": {},
     "output_type": "display_data"
    },
    {
     "name": "stdout",
     "output_type": "stream",
     "text": [
      "\n",
      "Percentage increase is 0.05243069505825633\n"
     ]
    },
    {
     "data": {
      "image/png": "[encoded data removed]",
      "text/plain": [
       "<Figure size 432x288 with 1 Axes>"
      ]
     },
     "metadata": {
      "needs_background": "light"
     },
     "output_type": "display_data"
    }
   ],
   "source": [
    "def f(cap, inv):\n",
    "    if (cap == 1) & (inv == 1):\n",
    "        return 1\n",
    "    else:\n",
    "        return 0\n",
    "\n",
    "orders_new = orders_filtered\n",
    "orders_new['Blink_shown'] = orders_new.apply(lambda x: f(x.Cap_eligibility, x.Inventory_av_eligibility), axis = 1)\n",
    "\n",
    "sessions_new = sessions_filtered\n",
    "sessions_new['Blink_shown'] = sessions_new.apply(lambda x: f(x.Cap_eligibility, x.Inventory_av_eligibility), axis = 1)\n",
    "\n",
    "conversions = orders_new.groupby('Blink_shown').Order_id.count().reset_index()\n",
    "totals = sessions_new.groupby('Blink_shown').Session_id.count().reset_index()\n",
    "ratios = conversions.merge(totals, how = 'left')\n",
    "ratios['conversion'] = ratios.Order_id / (ratios.Order_id + ratios.Session_id)\n",
    "\n",
    "display(ratios)\n",
    "print(\"\\nPercentage increase is \" + str((ratios.conversion[1] - ratios.conversion[0]) / ratios.conversion[0]))\n",
    "\n",
    "ax = plt.subplot()\n",
    "plt.bar(range(len(ratios.conversion)), ratios.conversion)\n",
    "ax.set_xticks(range(len(ratios)))\n",
    "ax.set_xticklabels(['w/out Blink', 'w/ Blink'])\n",
    "ax.set_yticks([0.05, 0.10, 0.15, 0.20, 0.25])\n",
    "ax.set_yticklabels(['5%', '10%', '15%', '20%', '25%'])\n",
    "plt.title('Conversion rates')\n",
    "plt.show()\n"
   ]
  },
  {
   "cell_type": "code",
   "execution_count": null,
   "id": "4d62eb8c",
   "metadata": {},
   "outputs": [],
   "source": []
  }
 ],
 "metadata": {
  "kernelspec": {
   "display_name": "Python 3 (ipykernel)",
   "language": "python",
   "name": "python3"
  },
  "language_info": {
   "codemirror_mode": {
    "name": "ipython",
    "version": 3
   },
   "file_extension": ".py",
   "mimetype": "text/x-python",
   "name": "python",
   "nbconvert_exporter": "python",
   "pygments_lexer": "ipython3",
   "version": "3.9.7"
  }
 },
 "nbformat": 4,
 "nbformat_minor": 5
}

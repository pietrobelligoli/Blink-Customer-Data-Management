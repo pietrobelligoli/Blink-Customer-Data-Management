{
 "cells": [
  {
   "cell_type": "markdown",
   "metadata": {},
   "source": [
    "## Blink Customer Data Management"
   ]
  },
  {
   "cell_type": "markdown",
   "metadata": {},
   "source": [
    "Let's start from importing the dummy **dataset** with the columns assumptions:\n"
   ]
  },
  {
   "cell_type": "code",
   "execution_count": 1,
   "metadata": {},
   "outputs": [
    {
     "data": {
      "text/html": [
       "<div>\n",
       "<style scoped>\n",
       "    .dataframe tbody tr th:only-of-type {\n",
       "        vertical-align: middle;\n",
       "    }\n",
       "\n",
       "    .dataframe tbody tr th {\n",
       "        vertical-align: top;\n",
       "    }\n",
       "\n",
       "    .dataframe thead th {\n",
       "        text-align: right;\n",
       "    }\n",
       "</style>\n",
       "<table border=\"1\" class=\"dataframe\">\n",
       "  <thead>\n",
       "    <tr style=\"text-align: right;\">\n",
       "      <th></th>\n",
       "      <th>Merchant</th>\n",
       "      <th>Customer_id</th>\n",
       "      <th>Datetime</th>\n",
       "      <th>Blink_shipping</th>\n",
       "      <th>Cap_eligibility</th>\n",
       "      <th>Inventory_av_eligibility</th>\n",
       "      <th>New_to_blink</th>\n",
       "      <th>New_to_merch</th>\n",
       "      <th>Session_id</th>\n",
       "      <th>Order_id</th>\n",
       "      <th>Sku_id</th>\n",
       "      <th>Lineitem_quantity</th>\n",
       "      <th>Lineitem_price</th>\n",
       "      <th>Country</th>\n",
       "      <th>Shipping Zip</th>\n",
       "      <th>Shipping_price</th>\n",
       "    </tr>\n",
       "  </thead>\n",
       "  <tbody>\n",
       "    <tr>\n",
       "      <th>0</th>\n",
       "      <td>Ketofood</td>\n",
       "      <td>pashke.ndoka@gmail.com</td>\n",
       "      <td>2022-02-22 08:48:14 +0100</td>\n",
       "      <td>0.0</td>\n",
       "      <td>1.0</td>\n",
       "      <td>1.0</td>\n",
       "      <td>0.0</td>\n",
       "      <td>0.0</td>\n",
       "      <td>#16074</td>\n",
       "      <td>#16074</td>\n",
       "      <td>47205925.0</td>\n",
       "      <td>1</td>\n",
       "      <td>16.95</td>\n",
       "      <td>IT</td>\n",
       "      <td>00119</td>\n",
       "      <td>0.00</td>\n",
       "    </tr>\n",
       "    <tr>\n",
       "      <th>1</th>\n",
       "      <td>NaN</td>\n",
       "      <td>pashke.ndoka@gmail.com</td>\n",
       "      <td>NaN</td>\n",
       "      <td>NaN</td>\n",
       "      <td>NaN</td>\n",
       "      <td>NaN</td>\n",
       "      <td>NaN</td>\n",
       "      <td>NaN</td>\n",
       "      <td>#16074</td>\n",
       "      <td>#16074</td>\n",
       "      <td>4320592.0</td>\n",
       "      <td>2</td>\n",
       "      <td>23.95</td>\n",
       "      <td>NaN</td>\n",
       "      <td>NaN</td>\n",
       "      <td>NaN</td>\n",
       "    </tr>\n",
       "    <tr>\n",
       "      <th>2</th>\n",
       "      <td>Ketofood</td>\n",
       "      <td>cristinabotti@virgilio.it</td>\n",
       "      <td>2022-02-22 07:50:19 +0100</td>\n",
       "      <td>0.0</td>\n",
       "      <td>0.0</td>\n",
       "      <td>1.0</td>\n",
       "      <td>1.0</td>\n",
       "      <td>0.0</td>\n",
       "      <td>#16073</td>\n",
       "      <td>#16073</td>\n",
       "      <td>47205925.0</td>\n",
       "      <td>1</td>\n",
       "      <td>16.95</td>\n",
       "      <td>IT</td>\n",
       "      <td>50013</td>\n",
       "      <td>3.99</td>\n",
       "    </tr>\n",
       "    <tr>\n",
       "      <th>3</th>\n",
       "      <td>Ketofood</td>\n",
       "      <td>guendalina_3@libero.it</td>\n",
       "      <td>2022-02-22 05:53:08 +0100</td>\n",
       "      <td>0.0</td>\n",
       "      <td>0.0</td>\n",
       "      <td>1.0</td>\n",
       "      <td>0.0</td>\n",
       "      <td>1.0</td>\n",
       "      <td>#16072</td>\n",
       "      <td>#16072</td>\n",
       "      <td>4230592.0</td>\n",
       "      <td>4</td>\n",
       "      <td>9.99</td>\n",
       "      <td>IT</td>\n",
       "      <td>60027</td>\n",
       "      <td>3.99</td>\n",
       "    </tr>\n",
       "    <tr>\n",
       "      <th>4</th>\n",
       "      <td>Ketofood</td>\n",
       "      <td>eloisasofia@hotmail.it</td>\n",
       "      <td>2022-02-21 23:18:00 +0100</td>\n",
       "      <td>0.0</td>\n",
       "      <td>0.0</td>\n",
       "      <td>0.0</td>\n",
       "      <td>1.0</td>\n",
       "      <td>1.0</td>\n",
       "      <td>#16071</td>\n",
       "      <td>#16071</td>\n",
       "      <td>46105929.0</td>\n",
       "      <td>1</td>\n",
       "      <td>95.28</td>\n",
       "      <td>IT</td>\n",
       "      <td>98034</td>\n",
       "      <td>0.00</td>\n",
       "    </tr>\n",
       "    <tr>\n",
       "      <th>...</th>\n",
       "      <td>...</td>\n",
       "      <td>...</td>\n",
       "      <td>...</td>\n",
       "      <td>...</td>\n",
       "      <td>...</td>\n",
       "      <td>...</td>\n",
       "      <td>...</td>\n",
       "      <td>...</td>\n",
       "      <td>...</td>\n",
       "      <td>...</td>\n",
       "      <td>...</td>\n",
       "      <td>...</td>\n",
       "      <td>...</td>\n",
       "      <td>...</td>\n",
       "      <td>...</td>\n",
       "      <td>...</td>\n",
       "    </tr>\n",
       "    <tr>\n",
       "      <th>35343</th>\n",
       "      <td>FitPorn</td>\n",
       "      <td>robbymichielan@hotmail.com</td>\n",
       "      <td>2020-10-01 07:48:10 +0200</td>\n",
       "      <td>NaN</td>\n",
       "      <td>0.0</td>\n",
       "      <td>0.0</td>\n",
       "      <td>1.0</td>\n",
       "      <td>1.0</td>\n",
       "      <td>omrobbbbymichi</td>\n",
       "      <td>NaN</td>\n",
       "      <td>NaN</td>\n",
       "      <td>1</td>\n",
       "      <td>55.79</td>\n",
       "      <td>IT</td>\n",
       "      <td>31021</td>\n",
       "      <td>4.99</td>\n",
       "    </tr>\n",
       "    <tr>\n",
       "      <th>35344</th>\n",
       "      <td>FitPorn</td>\n",
       "      <td>salvatore.beneventovitalenigro@gmail.com</td>\n",
       "      <td>2020-10-01 06:46:54 +0200</td>\n",
       "      <td>NaN</td>\n",
       "      <td>1.0</td>\n",
       "      <td>0.0</td>\n",
       "      <td>1.0</td>\n",
       "      <td>0.0</td>\n",
       "      <td>omsalvlvatore.</td>\n",
       "      <td>NaN</td>\n",
       "      <td>NaN</td>\n",
       "      <td>1</td>\n",
       "      <td>8.99</td>\n",
       "      <td>IT</td>\n",
       "      <td>42046</td>\n",
       "      <td>4.99</td>\n",
       "    </tr>\n",
       "    <tr>\n",
       "      <th>35345</th>\n",
       "      <td>NaN</td>\n",
       "      <td>salvatore.beneventovitalenigro@gmail.com</td>\n",
       "      <td>NaN</td>\n",
       "      <td>NaN</td>\n",
       "      <td>NaN</td>\n",
       "      <td>NaN</td>\n",
       "      <td>NaN</td>\n",
       "      <td>NaN</td>\n",
       "      <td>omsalvlvatore.</td>\n",
       "      <td>NaN</td>\n",
       "      <td>NaN</td>\n",
       "      <td>1</td>\n",
       "      <td>4.99</td>\n",
       "      <td>NaN</td>\n",
       "      <td>NaN</td>\n",
       "      <td>NaN</td>\n",
       "    </tr>\n",
       "    <tr>\n",
       "      <th>35346</th>\n",
       "      <td>NaN</td>\n",
       "      <td>salvatore.beneventovitalenigro@gmail.com</td>\n",
       "      <td>NaN</td>\n",
       "      <td>NaN</td>\n",
       "      <td>NaN</td>\n",
       "      <td>NaN</td>\n",
       "      <td>NaN</td>\n",
       "      <td>NaN</td>\n",
       "      <td>omsalvlvatore.</td>\n",
       "      <td>NaN</td>\n",
       "      <td>NaN</td>\n",
       "      <td>1</td>\n",
       "      <td>9.70</td>\n",
       "      <td>NaN</td>\n",
       "      <td>NaN</td>\n",
       "      <td>NaN</td>\n",
       "    </tr>\n",
       "    <tr>\n",
       "      <th>35347</th>\n",
       "      <td>FitPorn</td>\n",
       "      <td>simoncino85@virgilio.it</td>\n",
       "      <td>2020-10-01 06:05:10 +0200</td>\n",
       "      <td>NaN</td>\n",
       "      <td>1.0</td>\n",
       "      <td>0.0</td>\n",
       "      <td>1.0</td>\n",
       "      <td>0.0</td>\n",
       "      <td>itsimomoncino8</td>\n",
       "      <td>NaN</td>\n",
       "      <td>NaN</td>\n",
       "      <td>2</td>\n",
       "      <td>9.70</td>\n",
       "      <td>IT</td>\n",
       "      <td>00030</td>\n",
       "      <td>4.99</td>\n",
       "    </tr>\n",
       "  </tbody>\n",
       "</table>\n",
       "<p>35348 rows × 16 columns</p>\n",
       "</div>"
      ],
      "text/plain": [
       "       Merchant                               Customer_id  \\\n",
       "0      Ketofood                    pashke.ndoka@gmail.com   \n",
       "1           NaN                    pashke.ndoka@gmail.com   \n",
       "2      Ketofood                 cristinabotti@virgilio.it   \n",
       "3      Ketofood                    guendalina_3@libero.it   \n",
       "4      Ketofood                    eloisasofia@hotmail.it   \n",
       "...         ...                                       ...   \n",
       "35343   FitPorn                robbymichielan@hotmail.com   \n",
       "35344   FitPorn  salvatore.beneventovitalenigro@gmail.com   \n",
       "35345       NaN  salvatore.beneventovitalenigro@gmail.com   \n",
       "35346       NaN  salvatore.beneventovitalenigro@gmail.com   \n",
       "35347   FitPorn                   simoncino85@virgilio.it   \n",
       "\n",
       "                        Datetime  Blink_shipping  Cap_eligibility  \\\n",
       "0      2022-02-22 08:48:14 +0100             0.0              1.0   \n",
       "1                            NaN             NaN              NaN   \n",
       "2      2022-02-22 07:50:19 +0100             0.0              0.0   \n",
       "3      2022-02-22 05:53:08 +0100             0.0              0.0   \n",
       "4      2022-02-21 23:18:00 +0100             0.0              0.0   \n",
       "...                          ...             ...              ...   \n",
       "35343  2020-10-01 07:48:10 +0200             NaN              0.0   \n",
       "35344  2020-10-01 06:46:54 +0200             NaN              1.0   \n",
       "35345                        NaN             NaN              NaN   \n",
       "35346                        NaN             NaN              NaN   \n",
       "35347  2020-10-01 06:05:10 +0200             NaN              1.0   \n",
       "\n",
       "       Inventory_av_eligibility  New_to_blink  New_to_merch      Session_id  \\\n",
       "0                           1.0           0.0           0.0          #16074   \n",
       "1                           NaN           NaN           NaN          #16074   \n",
       "2                           1.0           1.0           0.0          #16073   \n",
       "3                           1.0           0.0           1.0          #16072   \n",
       "4                           0.0           1.0           1.0          #16071   \n",
       "...                         ...           ...           ...             ...   \n",
       "35343                       0.0           1.0           1.0  omrobbbbymichi   \n",
       "35344                       0.0           1.0           0.0  omsalvlvatore.   \n",
       "35345                       NaN           NaN           NaN  omsalvlvatore.   \n",
       "35346                       NaN           NaN           NaN  omsalvlvatore.   \n",
       "35347                       0.0           1.0           0.0  itsimomoncino8   \n",
       "\n",
       "      Order_id      Sku_id  Lineitem_quantity  Lineitem_price Country  \\\n",
       "0       #16074  47205925.0                  1           16.95      IT   \n",
       "1       #16074   4320592.0                  2           23.95     NaN   \n",
       "2       #16073  47205925.0                  1           16.95      IT   \n",
       "3       #16072   4230592.0                  4            9.99      IT   \n",
       "4       #16071  46105929.0                  1           95.28      IT   \n",
       "...        ...         ...                ...             ...     ...   \n",
       "35343      NaN         NaN                  1           55.79      IT   \n",
       "35344      NaN         NaN                  1            8.99      IT   \n",
       "35345      NaN         NaN                  1            4.99     NaN   \n",
       "35346      NaN         NaN                  1            9.70     NaN   \n",
       "35347      NaN         NaN                  2            9.70      IT   \n",
       "\n",
       "      Shipping Zip  Shipping_price  \n",
       "0            00119            0.00  \n",
       "1              NaN             NaN  \n",
       "2            50013            3.99  \n",
       "3            60027            3.99  \n",
       "4            98034            0.00  \n",
       "...            ...             ...  \n",
       "35343        31021            4.99  \n",
       "35344        42046            4.99  \n",
       "35345          NaN             NaN  \n",
       "35346          NaN             NaN  \n",
       "35347        00030            4.99  \n",
       "\n",
       "[35348 rows x 16 columns]"
      ]
     },
     "execution_count": 1,
     "metadata": {},
     "output_type": "execute_result"
    }
   ],
   "source": [
    "import pandas as pd\n",
    "from matplotlib import pyplot as plt\n",
    "\n",
    "df = pd.read_csv('Dataset_test.csv', low_memory = False)\n",
    "df"
   ]
  },
  {
   "cell_type": "markdown",
   "metadata": {},
   "source": [
    "Then let's create two dataframes:\n",
    "\n",
    "- The first will contain only completed orders\n",
    "- The second will contain all the sessions (in which are also included the completed ones that converted into orders)"
   ]
  },
  {
   "cell_type": "code",
   "execution_count": 2,
   "metadata": {},
   "outputs": [
    {
     "name": "stderr",
     "output_type": "stream",
     "text": [
      "C:\\Users\\Giuseppe\\AppData\\Local\\Temp/ipykernel_13924/515121555.py:36: FutureWarning: Series.dt.weekofyear and Series.dt.week have been deprecated.  Please use Series.dt.isocalendar().week instead.\n",
      "  orders['week_num'] = pd.to_datetime(orders.Datetime, errors = 'coerce', utc = 'true').dt.week\n",
      "C:\\Users\\Giuseppe\\AppData\\Local\\Temp/ipykernel_13924/515121555.py:47: FutureWarning: Series.dt.weekofyear and Series.dt.week have been deprecated.  Please use Series.dt.isocalendar().week instead.\n",
      "  sessions['week_num'] = pd.to_datetime(sessions.Datetime, errors = 'coerce', utc = 'true').dt.week\n"
     ]
    }
   ],
   "source": [
    "#Orders dataframe\n",
    "orders = df.groupby(['Order_id', 'Merchant', 'Customer_id', 'Datetime', 'Country', 'Shipping Zip']).agg({\n",
    "    'Blink_shipping': 'sum',\n",
    "    'Cap_eligibility': 'sum',\n",
    "    'Inventory_av_eligibility': 'sum',\n",
    "    'New_to_blink': 'sum',\n",
    "    'New_to_merch': 'sum',\n",
    "    'New_to_blink': 'sum',\n",
    "    'Lineitem_quantity': 'sum',\n",
    "    'Lineitem_price': 'sum',\n",
    "    'Shipping_price': 'max'\n",
    "}).reset_index()\n",
    "\n",
    "#Sessions dataframe\n",
    "sessions = df.groupby(['Session_id', 'Merchant', 'Customer_id', 'Datetime', 'Country', 'Shipping Zip']).agg({\n",
    "    'Blink_shipping': 'sum',\n",
    "    'Cap_eligibility': 'sum',\n",
    "    'Inventory_av_eligibility': 'sum',\n",
    "    'New_to_blink': 'sum',\n",
    "    'New_to_merch': 'sum',\n",
    "    'New_to_blink': 'sum',\n",
    "    'Lineitem_quantity': 'sum',\n",
    "    'Lineitem_price': 'sum',\n",
    "    'Shipping_price': 'max'\n",
    "}).reset_index()\n",
    "\n",
    "#Add time columns\n",
    "orders['date'] = pd.to_datetime(orders.Datetime, errors = 'coerce', utc = 'true').dt.date\n",
    "orders['day_of_week'] = pd.to_datetime(orders.Datetime, errors = 'coerce', utc = 'true').dt.day_name()\n",
    "orders['hour_of_day'] = pd.to_datetime(orders.Datetime, errors = 'coerce', utc = 'true').dt.hour\n",
    "orders['month_name'] = pd.to_datetime(orders.Datetime, errors = 'coerce', utc = 'true').dt.month_name()\n",
    "orders['year_num'] = pd.to_datetime(orders.Datetime, errors = 'coerce', utc = 'true').dt.year\n",
    "orders['month_code'] = orders.month_name.str.slice(start = 0, stop = 3)\n",
    "orders['year_code'] = orders.year_num.apply(lambda x: str(x)[2:])\n",
    "orders['ym_code'] = orders.year_code + orders.month_code\n",
    "orders['week_num'] = pd.to_datetime(orders.Datetime, errors = 'coerce', utc = 'true').dt.week\n",
    "orders['yw_code'] = orders.year_code.astype(str) + orders.week_num.astype(str)\n",
    "\n",
    "sessions['date'] = pd.to_datetime(sessions.Datetime, errors = 'coerce', utc = 'true').dt.date\n",
    "sessions['day_of_week'] = pd.to_datetime(sessions.Datetime, errors = 'coerce', utc = 'true').dt.day_name()\n",
    "sessions['hour_of_day'] = pd.to_datetime(sessions.Datetime, errors = 'coerce', utc = 'true').dt.hour\n",
    "sessions['month_name'] = pd.to_datetime(sessions.Datetime, errors = 'coerce', utc = 'true').dt.month_name()\n",
    "sessions['year_num'] = pd.to_datetime(sessions.Datetime, errors = 'coerce', utc = 'true').dt.year\n",
    "sessions['month_code'] = sessions.month_name.str.slice(start = 0, stop = 3)\n",
    "sessions['year_code'] = sessions.year_num.apply(lambda x: str(x)[2:])\n",
    "sessions['ym_code'] = sessions.year_code + orders.month_code\n",
    "sessions['week_num'] = pd.to_datetime(sessions.Datetime, errors = 'coerce', utc = 'true').dt.week\n",
    "sessions['yw_code'] = sessions.year_code.astype(str) + sessions.week_num.astype(str)"
   ]
  },
  {
   "cell_type": "markdown",
   "metadata": {},
   "source": [
    "Then the two dataframes can be filtered using to the parameters below:"
   ]
  },
  {
   "cell_type": "code",
   "execution_count": 3,
   "metadata": {},
   "outputs": [],
   "source": [
    "#Parameters {for multiple values use a list [item1, item2]}\n",
    "\n",
    "country_list = ['IT']\n",
    "merchant_list = ['Ketofood']\n",
    "date_start = '2021-01-01'\n",
    "date_end = '2022-02-01'\n",
    "day_of_week_list = ['Monday', 'Tuesday']\n",
    "hod_start = 1\n",
    "hod_end = 24\n",
    "\n",
    "date_start = pd.to_datetime(date_start)\n",
    "date_end = pd.to_datetime(date_end)"
   ]
  },
  {
   "cell_type": "markdown",
   "metadata": {},
   "source": [
    "If you don't wanna use specific filters, just comment the line of code (below) where that filter is. You can do that by using '#'"
   ]
  },
  {
   "cell_type": "code",
   "execution_count": 4,
   "metadata": {},
   "outputs": [
    {
     "name": "stderr",
     "output_type": "stream",
     "text": [
      "C:\\Users\\Giuseppe\\anaconda3\\lib\\site-packages\\pandas\\core\\ops\\array_ops.py:73: FutureWarning: Comparison of Timestamp with datetime.date is deprecated in order to match the standard library behavior.  In a future version these will be considered non-comparable.Use 'ts == pd.Timestamp(date)' or 'ts.date() == date' instead.\n",
      "  result = libops.scalar_compare(x.ravel(), y, op)\n"
     ]
    }
   ],
   "source": [
    "orders_filtered = orders[\n",
    "    orders.Country.isin(country_list) \n",
    "    & orders.Merchant.isin(merchant_list) \n",
    "    & (orders.date >= date_start) \n",
    "    & (orders.date < date_end) \n",
    "    & (orders.day_of_week.isin(day_of_week_list))\n",
    "    & (orders.hour_of_day >= hod_start) \n",
    "    & (orders.hour_of_day < hod_end)\n",
    "    ].reset_index(drop = True)\n",
    "\n",
    "sessions_filtered = sessions\n",
    "# [\n",
    "#     orders.Country.isin(country_list) \n",
    "#     & orders.Merchant.isin(merchant_list) \n",
    "#     & (orders.date >= date_start) \n",
    "#     & (orders.date < date_end) \n",
    "#     & (orders.day_of_week.isin(day_of_week_list))\n",
    "#     & (orders.hour_of_day >= hod_start) \n",
    "#     & (orders.hour_of_day < hod_end)\n",
    "#     ].reset_index(drop = True)"
   ]
  },
  {
   "cell_type": "markdown",
   "metadata": {},
   "source": [
    "## KPIs"
   ]
  },
  {
   "cell_type": "markdown",
   "metadata": {},
   "source": [
    "### 1. Percentage of eligible orders\n",
    "Description: number of orders where Blink is shown at checkout divided by the total number of orders"
   ]
  },
  {
   "cell_type": "code",
   "execution_count": 5,
   "metadata": {},
   "outputs": [
    {
     "data": {
      "text/html": [
       "<div>\n",
       "<style scoped>\n",
       "    .dataframe tbody tr th:only-of-type {\n",
       "        vertical-align: middle;\n",
       "    }\n",
       "\n",
       "    .dataframe tbody tr th {\n",
       "        vertical-align: top;\n",
       "    }\n",
       "\n",
       "    .dataframe thead th {\n",
       "        text-align: right;\n",
       "    }\n",
       "</style>\n",
       "<table border=\"1\" class=\"dataframe\">\n",
       "  <thead>\n",
       "    <tr style=\"text-align: right;\">\n",
       "      <th></th>\n",
       "      <th>Cap_eligibility</th>\n",
       "      <th>Inventory_av_eligibility</th>\n",
       "      <th>Order_id</th>\n",
       "      <th>Percent</th>\n",
       "    </tr>\n",
       "  </thead>\n",
       "  <tbody>\n",
       "    <tr>\n",
       "      <th>0</th>\n",
       "      <td>0.0</td>\n",
       "      <td>0.0</td>\n",
       "      <td>303</td>\n",
       "      <td>0.235248</td>\n",
       "    </tr>\n",
       "    <tr>\n",
       "      <th>1</th>\n",
       "      <td>0.0</td>\n",
       "      <td>1.0</td>\n",
       "      <td>319</td>\n",
       "      <td>0.247671</td>\n",
       "    </tr>\n",
       "    <tr>\n",
       "      <th>2</th>\n",
       "      <td>1.0</td>\n",
       "      <td>0.0</td>\n",
       "      <td>328</td>\n",
       "      <td>0.254658</td>\n",
       "    </tr>\n",
       "    <tr>\n",
       "      <th>3</th>\n",
       "      <td>1.0</td>\n",
       "      <td>1.0</td>\n",
       "      <td>338</td>\n",
       "      <td>0.262422</td>\n",
       "    </tr>\n",
       "  </tbody>\n",
       "</table>\n",
       "</div>"
      ],
      "text/plain": [
       "   Cap_eligibility  Inventory_av_eligibility  Order_id   Percent\n",
       "0              0.0                       0.0       303  0.235248\n",
       "1              0.0                       1.0       319  0.247671\n",
       "2              1.0                       0.0       328  0.254658\n",
       "3              1.0                       1.0       338  0.262422"
      ]
     },
     "metadata": {},
     "output_type": "display_data"
    },
    {
     "data": {
      "image/png": "[encoded data removed]",
      "text/plain": [
       "<Figure size 432x288 with 1 Axes>"
      ]
     },
     "metadata": {
      "needs_background": "light"
     },
     "output_type": "display_data"
    },
    {
     "name": "stdout",
     "output_type": "stream",
     "text": [
      "\n",
      "Eligible orders are 0.26242236024844723 of the total\n"
     ]
    }
   ],
   "source": [
    "perc_serv_ord = orders_filtered.groupby(['Cap_eligibility', 'Inventory_av_eligibility']).Order_id.count().reset_index()\n",
    "perc_serv_ord['Percent'] = perc_serv_ord.Order_id / perc_serv_ord.Order_id.sum()\n",
    "\n",
    "display(perc_serv_ord)\n",
    "\n",
    "ax = plt.subplot()\n",
    "plt.bar(range(len(perc_serv_ord.Cap_eligibility)), perc_serv_ord.Percent)\n",
    "ax.set_xticks(range(len(perc_serv_ord)))\n",
    "ax.set_xticklabels(['No', 'Inv only', 'Cap only', 'Yes'])\n",
    "ax.set_yticks([0.05, 0.10, 0.15, 0.20, 0.25, 0.30, 0.35, 0.40, 0.45, 0.50])\n",
    "ax.set_yticklabels(['5%', '10%', '15%', '20%', '25%', '30%', '35%', '40%', '45%', '50%'])\n",
    "plt.title('Eligible orders')\n",
    "\n",
    "plt.show()\n",
    "\n",
    "print(\"\\nEligible orders are \" + str(perc_serv_ord.Percent[3]) + ' of the total')"
   ]
  },
  {
   "cell_type": "markdown",
   "metadata": {},
   "source": [
    "### 2. **Percentage of Blink Selection Rate**\n",
    "\n",
    "Description: % of people chosing Blink’s option when it is available at checkout.\n",
    "\n",
    "Recalling the **number of elibigle orders** of Blink from the previous section:"
   ]
  },
  {
   "cell_type": "code",
   "execution_count": 6,
   "metadata": {},
   "outputs": [
    {
     "data": {
      "text/html": [
       "<div>\n",
       "<style scoped>\n",
       "    .dataframe tbody tr th:only-of-type {\n",
       "        vertical-align: middle;\n",
       "    }\n",
       "\n",
       "    .dataframe tbody tr th {\n",
       "        vertical-align: top;\n",
       "    }\n",
       "\n",
       "    .dataframe thead th {\n",
       "        text-align: right;\n",
       "    }\n",
       "</style>\n",
       "<table border=\"1\" class=\"dataframe\">\n",
       "  <thead>\n",
       "    <tr style=\"text-align: right;\">\n",
       "      <th></th>\n",
       "      <th>Cap_eligibility</th>\n",
       "      <th>Inventory_av_eligibility</th>\n",
       "      <th>Order_id</th>\n",
       "      <th>Percent</th>\n",
       "    </tr>\n",
       "  </thead>\n",
       "  <tbody>\n",
       "    <tr>\n",
       "      <th>0</th>\n",
       "      <td>0.0</td>\n",
       "      <td>0.0</td>\n",
       "      <td>303</td>\n",
       "      <td>0.235248</td>\n",
       "    </tr>\n",
       "    <tr>\n",
       "      <th>1</th>\n",
       "      <td>0.0</td>\n",
       "      <td>1.0</td>\n",
       "      <td>319</td>\n",
       "      <td>0.247671</td>\n",
       "    </tr>\n",
       "    <tr>\n",
       "      <th>2</th>\n",
       "      <td>1.0</td>\n",
       "      <td>0.0</td>\n",
       "      <td>328</td>\n",
       "      <td>0.254658</td>\n",
       "    </tr>\n",
       "    <tr>\n",
       "      <th>3</th>\n",
       "      <td>1.0</td>\n",
       "      <td>1.0</td>\n",
       "      <td>338</td>\n",
       "      <td>0.262422</td>\n",
       "    </tr>\n",
       "  </tbody>\n",
       "</table>\n",
       "</div>"
      ],
      "text/plain": [
       "   Cap_eligibility  Inventory_av_eligibility  Order_id   Percent\n",
       "0              0.0                       0.0       303  0.235248\n",
       "1              0.0                       1.0       319  0.247671\n",
       "2              1.0                       0.0       328  0.254658\n",
       "3              1.0                       1.0       338  0.262422"
      ]
     },
     "metadata": {},
     "output_type": "display_data"
    },
    {
     "name": "stdout",
     "output_type": "stream",
     "text": [
      "The number of eligible orders for blink are: 338\n"
     ]
    }
   ],
   "source": [
    "display(perc_serv_ord)\n",
    "\n",
    "print(\"The number of eligible orders for blink are:\", perc_serv_ord.Order_id[3])"
   ]
  },
  {
   "cell_type": "markdown",
   "metadata": {},
   "source": [
    "Here we're going to find the number of **shipping made with Blink**"
   ]
  },
  {
   "cell_type": "code",
   "execution_count": 7,
   "metadata": {},
   "outputs": [
    {
     "data": {
      "text/html": [
       "<div>\n",
       "<style scoped>\n",
       "    .dataframe tbody tr th:only-of-type {\n",
       "        vertical-align: middle;\n",
       "    }\n",
       "\n",
       "    .dataframe tbody tr th {\n",
       "        vertical-align: top;\n",
       "    }\n",
       "\n",
       "    .dataframe thead th {\n",
       "        text-align: right;\n",
       "    }\n",
       "</style>\n",
       "<table border=\"1\" class=\"dataframe\">\n",
       "  <thead>\n",
       "    <tr style=\"text-align: right;\">\n",
       "      <th></th>\n",
       "      <th>Blink_shipping</th>\n",
       "      <th>Order_id</th>\n",
       "      <th>Percent</th>\n",
       "    </tr>\n",
       "  </thead>\n",
       "  <tbody>\n",
       "    <tr>\n",
       "      <th>0</th>\n",
       "      <td>0.0</td>\n",
       "      <td>1272</td>\n",
       "      <td>0.987578</td>\n",
       "    </tr>\n",
       "    <tr>\n",
       "      <th>1</th>\n",
       "      <td>1.0</td>\n",
       "      <td>16</td>\n",
       "      <td>0.012422</td>\n",
       "    </tr>\n",
       "  </tbody>\n",
       "</table>\n",
       "</div>"
      ],
      "text/plain": [
       "   Blink_shipping  Order_id   Percent\n",
       "0             0.0      1272  0.987578\n",
       "1             1.0        16  0.012422"
      ]
     },
     "metadata": {},
     "output_type": "display_data"
    },
    {
     "data": {
      "image/png": "[encoded data removed]",
      "text/plain": [
       "<Figure size 432x288 with 1 Axes>"
      ]
     },
     "metadata": {
      "needs_background": "light"
     },
     "output_type": "display_data"
    },
    {
     "name": "stdout",
     "output_type": "stream",
     "text": [
      "The number of orders made with blink are: 16\n"
     ]
    }
   ],
   "source": [
    "blink_shipp_choice = orders_filtered.groupby(['Blink_shipping']).Order_id.count().reset_index()\n",
    "\n",
    "blink_shipp_choice['Percent'] = blink_shipp_choice.Order_id / blink_shipp_choice.Order_id.sum()\n",
    "\n",
    "display(blink_shipp_choice)\n",
    "\n",
    "ax = plt.subplot()\n",
    "\n",
    "plt.bar(range(len(blink_shipp_choice.Blink_shipping)), blink_shipp_choice.Percent)\n",
    "ax.set_xticks(range(len(blink_shipp_choice)))\n",
    "ax.set_xticklabels(['No','Yes'])\n",
    "ax.set_yticks([0.10,0.20,0.30,0.40,0.50,0.60,0.70,0.80,0.90,1])\n",
    "ax.set_yticklabels(['10%','20%','30%','40%','50%','60%','70%','80%','90%','100%'])\n",
    "plt.title('Orders made with Blink')\n",
    "plt.show()\n",
    "\n",
    "print(\"The number of orders made with blink are:\", blink_shipp_choice.Order_id[1])"
   ]
  },
  {
   "cell_type": "code",
   "execution_count": 8,
   "metadata": {},
   "outputs": [
    {
     "name": "stdout",
     "output_type": "stream",
     "text": [
      "The selection rate of Blink is: 0.047337278106508875\n"
     ]
    }
   ],
   "source": [
    "selection_rate = ( blink_shipp_choice.Order_id[1] / perc_serv_ord.Order_id[3])\n",
    "\n",
    "print(\"The selection rate of Blink is:\", selection_rate)"
   ]
  },
  {
   "cell_type": "markdown",
   "metadata": {},
   "source": [
    "### 3. **Increase or decrease in average basket size**\n",
    "Description: **Ratio between the basket size** of customers using Blink and Non-Blink. "
   ]
  },
  {
   "cell_type": "code",
   "execution_count": 9,
   "metadata": {},
   "outputs": [
    {
     "data": {
      "text/html": [
       "<div>\n",
       "<style scoped>\n",
       "    .dataframe tbody tr th:only-of-type {\n",
       "        vertical-align: middle;\n",
       "    }\n",
       "\n",
       "    .dataframe tbody tr th {\n",
       "        vertical-align: top;\n",
       "    }\n",
       "\n",
       "    .dataframe thead th {\n",
       "        text-align: right;\n",
       "    }\n",
       "</style>\n",
       "<table border=\"1\" class=\"dataframe\">\n",
       "  <thead>\n",
       "    <tr style=\"text-align: right;\">\n",
       "      <th></th>\n",
       "      <th>Blink_shipping</th>\n",
       "      <th>Lineitem_quantity</th>\n",
       "      <th>Percent</th>\n",
       "    </tr>\n",
       "  </thead>\n",
       "  <tbody>\n",
       "    <tr>\n",
       "      <th>0</th>\n",
       "      <td>0.0</td>\n",
       "      <td>1.587188</td>\n",
       "      <td>0.495982</td>\n",
       "    </tr>\n",
       "    <tr>\n",
       "      <th>1</th>\n",
       "      <td>1.0</td>\n",
       "      <td>1.612903</td>\n",
       "      <td>0.504018</td>\n",
       "    </tr>\n",
       "  </tbody>\n",
       "</table>\n",
       "</div>"
      ],
      "text/plain": [
       "   Blink_shipping  Lineitem_quantity   Percent\n",
       "0             0.0           1.587188  0.495982\n",
       "1             1.0           1.612903  0.504018"
      ]
     },
     "metadata": {},
     "output_type": "display_data"
    },
    {
     "name": "stdout",
     "output_type": "stream",
     "text": [
      "The ratio of the basket size between Blink and non Blink is: 1.0162019233186044\n"
     ]
    }
   ],
   "source": [
    "cart_quantity_customer = orders.groupby('Blink_shipping').Lineitem_quantity.mean().reset_index()\n",
    "\n",
    "cart_quantity_customer['Percent'] = cart_quantity_customer.Lineitem_quantity / cart_quantity_customer.Lineitem_quantity.sum()\n",
    "\n",
    "display(cart_quantity_customer)\n",
    "\n",
    "ratio_basket_size = cart_quantity_customer.Lineitem_quantity[1] / cart_quantity_customer.Lineitem_quantity[0]\n",
    "print(\"The ratio of the basket size between Blink and non Blink is:\", ratio_basket_size)"
   ]
  },
  {
   "cell_type": "markdown",
   "metadata": {},
   "source": [
    "Evolution over time:"
   ]
  },
  {
   "cell_type": "code",
   "execution_count": 10,
   "metadata": {},
   "outputs": [
    {
     "data": {
      "text/html": [
       "<div>\n",
       "<style scoped>\n",
       "    .dataframe tbody tr th:only-of-type {\n",
       "        vertical-align: middle;\n",
       "    }\n",
       "\n",
       "    .dataframe tbody tr th {\n",
       "        vertical-align: top;\n",
       "    }\n",
       "\n",
       "    .dataframe thead th {\n",
       "        text-align: right;\n",
       "    }\n",
       "</style>\n",
       "<table border=\"1\" class=\"dataframe\">\n",
       "  <thead>\n",
       "    <tr style=\"text-align: right;\">\n",
       "      <th>ym_code</th>\n",
       "      <th>Blink_shipping</th>\n",
       "      <th>21Dec</th>\n",
       "      <th>21Nov</th>\n",
       "      <th>22Jan</th>\n",
       "    </tr>\n",
       "  </thead>\n",
       "  <tbody>\n",
       "    <tr>\n",
       "      <th>0</th>\n",
       "      <td>0.0</td>\n",
       "      <td>1.440529</td>\n",
       "      <td>1.491694</td>\n",
       "      <td>1.446809</td>\n",
       "    </tr>\n",
       "    <tr>\n",
       "      <th>1</th>\n",
       "      <td>1.0</td>\n",
       "      <td>NaN</td>\n",
       "      <td>NaN</td>\n",
       "      <td>2.000000</td>\n",
       "    </tr>\n",
       "  </tbody>\n",
       "</table>\n",
       "</div>"
      ],
      "text/plain": [
       "ym_code  Blink_shipping     21Dec     21Nov     22Jan\n",
       "0                   0.0  1.440529  1.491694  1.446809\n",
       "1                   1.0       NaN       NaN  2.000000"
      ]
     },
     "metadata": {},
     "output_type": "display_data"
    }
   ],
   "source": [
    "ratio_rev_time = orders_filtered.groupby(['ym_code', 'Blink_shipping']).Lineitem_quantity.mean().reset_index()\n",
    "prt_pivot = ratio_rev_time.pivot(\n",
    "    columns = 'ym_code',\n",
    "    index = 'Blink_shipping',\n",
    "    values = 'Lineitem_quantity').reset_index()\n",
    "\n",
    "display(prt_pivot)"
   ]
  },
  {
   "cell_type": "markdown",
   "metadata": {},
   "source": [
    "The **ratio between the basket size in terms of price** of customers using Blink and Non-Blink. "
   ]
  },
  {
   "cell_type": "code",
   "execution_count": 11,
   "metadata": {},
   "outputs": [
    {
     "data": {
      "text/html": [
       "<div>\n",
       "<style scoped>\n",
       "    .dataframe tbody tr th:only-of-type {\n",
       "        vertical-align: middle;\n",
       "    }\n",
       "\n",
       "    .dataframe tbody tr th {\n",
       "        vertical-align: top;\n",
       "    }\n",
       "\n",
       "    .dataframe thead th {\n",
       "        text-align: right;\n",
       "    }\n",
       "</style>\n",
       "<table border=\"1\" class=\"dataframe\">\n",
       "  <thead>\n",
       "    <tr style=\"text-align: right;\">\n",
       "      <th></th>\n",
       "      <th>Blink_shipping</th>\n",
       "      <th>Lineitem_price</th>\n",
       "    </tr>\n",
       "  </thead>\n",
       "  <tbody>\n",
       "    <tr>\n",
       "      <th>0</th>\n",
       "      <td>0.0</td>\n",
       "      <td>17.789302</td>\n",
       "    </tr>\n",
       "    <tr>\n",
       "      <th>1</th>\n",
       "      <td>1.0</td>\n",
       "      <td>12.065000</td>\n",
       "    </tr>\n",
       "  </tbody>\n",
       "</table>\n",
       "</div>"
      ],
      "text/plain": [
       "   Blink_shipping  Lineitem_price\n",
       "0             0.0       17.789302\n",
       "1             1.0       12.065000"
      ]
     },
     "metadata": {},
     "output_type": "display_data"
    },
    {
     "name": "stdout",
     "output_type": "stream",
     "text": [
      "The ratio of the basket size (price) between Blink and non Blink is: 0.6782165855720387\n"
     ]
    }
   ],
   "source": [
    "ratio_price_customer = orders.groupby('Blink_shipping').Lineitem_price.mean().reset_index()\n",
    "\n",
    "display(ratio_price_customer)\n",
    "\n",
    "ratio_basket_size_price = ratio_price_customer.Lineitem_price[1] / ratio_price_customer.Lineitem_price[0]\n",
    "print(\"The ratio of the basket size (price) between Blink and non Blink is:\", ratio_basket_size_price)"
   ]
  },
  {
   "cell_type": "markdown",
   "metadata": {},
   "source": [
    "The **delta between the basket size in terms of price** of customers using Non-Blink and Blink. "
   ]
  },
  {
   "cell_type": "code",
   "execution_count": 12,
   "metadata": {},
   "outputs": [
    {
     "data": {
      "text/html": [
       "<div>\n",
       "<style scoped>\n",
       "    .dataframe tbody tr th:only-of-type {\n",
       "        vertical-align: middle;\n",
       "    }\n",
       "\n",
       "    .dataframe tbody tr th {\n",
       "        vertical-align: top;\n",
       "    }\n",
       "\n",
       "    .dataframe thead th {\n",
       "        text-align: right;\n",
       "    }\n",
       "</style>\n",
       "<table border=\"1\" class=\"dataframe\">\n",
       "  <thead>\n",
       "    <tr style=\"text-align: right;\">\n",
       "      <th></th>\n",
       "      <th>Blink_shipping</th>\n",
       "      <th>Lineitem_price</th>\n",
       "    </tr>\n",
       "  </thead>\n",
       "  <tbody>\n",
       "    <tr>\n",
       "      <th>0</th>\n",
       "      <td>0.0</td>\n",
       "      <td>17.789302</td>\n",
       "    </tr>\n",
       "    <tr>\n",
       "      <th>1</th>\n",
       "      <td>1.0</td>\n",
       "      <td>12.065000</td>\n",
       "    </tr>\n",
       "  </tbody>\n",
       "</table>\n",
       "</div>"
      ],
      "text/plain": [
       "   Blink_shipping  Lineitem_price\n",
       "0             0.0       17.789302\n",
       "1             1.0       12.065000"
      ]
     },
     "metadata": {},
     "output_type": "display_data"
    },
    {
     "name": "stdout",
     "output_type": "stream",
     "text": [
      "The delta of the basket size (price) between Blink and non Blink is: -5.724302498144942\n"
     ]
    }
   ],
   "source": [
    "delta_price_customer = orders.groupby('Blink_shipping').Lineitem_price.mean().reset_index()\n",
    "\n",
    "display(delta_price_customer)\n",
    "\n",
    "delta_basket_size_price = delta_price_customer.Lineitem_price[1] - delta_price_customer.Lineitem_price[0]\n",
    "print(\"The delta of the basket size (price) between Blink and non Blink is:\", delta_basket_size_price)"
   ]
  },
  {
   "cell_type": "markdown",
   "metadata": {},
   "source": [
    "### 4. Percentage of turnover through Blink orders\n",
    "Description: revenue from Blink orders divided by the total revenue"
   ]
  },
  {
   "cell_type": "code",
   "execution_count": 13,
   "metadata": {},
   "outputs": [
    {
     "data": {
      "text/html": [
       "<div>\n",
       "<style scoped>\n",
       "    .dataframe tbody tr th:only-of-type {\n",
       "        vertical-align: middle;\n",
       "    }\n",
       "\n",
       "    .dataframe tbody tr th {\n",
       "        vertical-align: top;\n",
       "    }\n",
       "\n",
       "    .dataframe thead th {\n",
       "        text-align: right;\n",
       "    }\n",
       "</style>\n",
       "<table border=\"1\" class=\"dataframe\">\n",
       "  <thead>\n",
       "    <tr style=\"text-align: right;\">\n",
       "      <th></th>\n",
       "      <th>Blink_shipping</th>\n",
       "      <th>Lineitem_price</th>\n",
       "      <th>Percent</th>\n",
       "    </tr>\n",
       "  </thead>\n",
       "  <tbody>\n",
       "    <tr>\n",
       "      <th>0</th>\n",
       "      <td>0.0</td>\n",
       "      <td>24867.41</td>\n",
       "      <td>0.990322</td>\n",
       "    </tr>\n",
       "    <tr>\n",
       "      <th>1</th>\n",
       "      <td>1.0</td>\n",
       "      <td>243.01</td>\n",
       "      <td>0.009678</td>\n",
       "    </tr>\n",
       "  </tbody>\n",
       "</table>\n",
       "</div>"
      ],
      "text/plain": [
       "   Blink_shipping  Lineitem_price   Percent\n",
       "0             0.0        24867.41  0.990322\n",
       "1             1.0          243.01  0.009678"
      ]
     },
     "metadata": {},
     "output_type": "display_data"
    },
    {
     "name": "stdout",
     "output_type": "stream",
     "text": [
      "\n",
      "Percentage of revenue through Blink is 0.009677655730170981\n"
     ]
    },
    {
     "data": {
      "text/plain": [
       "(-1.1036654276926332,\n",
       " 1.1001745446728661,\n",
       " -1.1052261703244126,\n",
       " 1.1021986928981802)"
      ]
     },
     "execution_count": 13,
     "metadata": {},
     "output_type": "execute_result"
    },
    {
     "data": {
      "image/png": "[encoded data removed]",
      "text/plain": [
       "<Figure size 432x288 with 1 Axes>"
      ]
     },
     "metadata": {},
     "output_type": "display_data"
    }
   ],
   "source": [
    "perc_rev = orders_filtered.groupby(['Blink_shipping']).Lineitem_price.sum().reset_index()\n",
    "perc_rev['Percent'] = perc_rev.Lineitem_price / perc_rev.Lineitem_price.sum()\n",
    "\n",
    "display(perc_rev)\n",
    "\n",
    "print(\"\\nPercentage of revenue through Blink is \" + str(perc_rev.Percent[1]))\n",
    "\n",
    "plt.pie(perc_rev.Lineitem_price, labels = ['Non-Blink', 'Blink'], autopct = '%d%%')\n",
    "plt.axis('equal')"
   ]
  },
  {
   "cell_type": "markdown",
   "metadata": {},
   "source": [
    "Evolution over time"
   ]
  },
  {
   "cell_type": "code",
   "execution_count": 14,
   "metadata": {},
   "outputs": [
    {
     "data": {
      "text/html": [
       "<div>\n",
       "<style scoped>\n",
       "    .dataframe tbody tr th:only-of-type {\n",
       "        vertical-align: middle;\n",
       "    }\n",
       "\n",
       "    .dataframe tbody tr th {\n",
       "        vertical-align: top;\n",
       "    }\n",
       "\n",
       "    .dataframe thead th {\n",
       "        text-align: right;\n",
       "    }\n",
       "</style>\n",
       "<table border=\"1\" class=\"dataframe\">\n",
       "  <thead>\n",
       "    <tr style=\"text-align: right;\">\n",
       "      <th>ym_code</th>\n",
       "      <th>Blink_shipping</th>\n",
       "      <th>21Dec</th>\n",
       "      <th>21Nov</th>\n",
       "      <th>22Jan</th>\n",
       "    </tr>\n",
       "  </thead>\n",
       "  <tbody>\n",
       "    <tr>\n",
       "      <th>0</th>\n",
       "      <td>0.0</td>\n",
       "      <td>8013.48</td>\n",
       "      <td>9965.3</td>\n",
       "      <td>6888.63</td>\n",
       "    </tr>\n",
       "    <tr>\n",
       "      <th>1</th>\n",
       "      <td>1.0</td>\n",
       "      <td>NaN</td>\n",
       "      <td>NaN</td>\n",
       "      <td>243.01</td>\n",
       "    </tr>\n",
       "  </tbody>\n",
       "</table>\n",
       "</div>"
      ],
      "text/plain": [
       "ym_code  Blink_shipping    21Dec   21Nov    22Jan\n",
       "0                   0.0  8013.48  9965.3  6888.63\n",
       "1                   1.0      NaN     NaN   243.01"
      ]
     },
     "metadata": {},
     "output_type": "display_data"
    }
   ],
   "source": [
    "perc_rev_time = orders_filtered.groupby(['ym_code', 'Blink_shipping']).Lineitem_price.sum().reset_index()\n",
    "prt_pivot = perc_rev_time.pivot(\n",
    "    columns = 'ym_code',\n",
    "    index = 'Blink_shipping',\n",
    "    values = 'Lineitem_price').reset_index()\n",
    "\n",
    "display(prt_pivot)"
   ]
  },
  {
   "cell_type": "markdown",
   "metadata": {},
   "source": [
    "### 5. Percentage increase on Conversion Rate\n",
    "Description: Ratio between Conversion Rate w/ Blink and Conversion Rate w/out Blink."
   ]
  },
  {
   "cell_type": "code",
   "execution_count": 15,
   "metadata": {},
   "outputs": [
    {
     "data": {
      "text/html": [
       "<div>\n",
       "<style scoped>\n",
       "    .dataframe tbody tr th:only-of-type {\n",
       "        vertical-align: middle;\n",
       "    }\n",
       "\n",
       "    .dataframe tbody tr th {\n",
       "        vertical-align: top;\n",
       "    }\n",
       "\n",
       "    .dataframe thead th {\n",
       "        text-align: right;\n",
       "    }\n",
       "</style>\n",
       "<table border=\"1\" class=\"dataframe\">\n",
       "  <thead>\n",
       "    <tr style=\"text-align: right;\">\n",
       "      <th></th>\n",
       "      <th>Blink_shown</th>\n",
       "      <th>Order_id</th>\n",
       "      <th>Session_id</th>\n",
       "      <th>conversion</th>\n",
       "    </tr>\n",
       "  </thead>\n",
       "  <tbody>\n",
       "    <tr>\n",
       "      <th>0</th>\n",
       "      <td>0</td>\n",
       "      <td>950</td>\n",
       "      <td>10675</td>\n",
       "      <td>0.088993</td>\n",
       "    </tr>\n",
       "    <tr>\n",
       "      <th>1</th>\n",
       "      <td>1</td>\n",
       "      <td>338</td>\n",
       "      <td>3592</td>\n",
       "      <td>0.094098</td>\n",
       "    </tr>\n",
       "  </tbody>\n",
       "</table>\n",
       "</div>"
      ],
      "text/plain": [
       "   Blink_shown  Order_id  Session_id  conversion\n",
       "0            0       950       10675    0.088993\n",
       "1            1       338        3592    0.094098"
      ]
     },
     "metadata": {},
     "output_type": "display_data"
    },
    {
     "name": "stdout",
     "output_type": "stream",
     "text": [
      "\n",
      "Percentage increase is 0.057364318368303746\n"
     ]
    },
    {
     "data": {
      "image/png": "[encoded data removed]",
      "text/plain": [
       "<Figure size 432x288 with 1 Axes>"
      ]
     },
     "metadata": {
      "needs_background": "light"
     },
     "output_type": "display_data"
    }
   ],
   "source": [
    "def f(cap, inv):\n",
    "    if (cap == 1) & (inv == 1):\n",
    "        return 1\n",
    "    else:\n",
    "        return 0\n",
    "\n",
    "orders_new = orders_filtered\n",
    "orders_new['Blink_shown'] = orders_new.apply(lambda x: f(x.Cap_eligibility, x.Inventory_av_eligibility), axis = 1)\n",
    "\n",
    "sessions_new = sessions_filtered\n",
    "sessions_new['Blink_shown'] = sessions_new.apply(lambda x: f(x.Cap_eligibility, x.Inventory_av_eligibility), axis = 1)\n",
    "\n",
    "conversions = orders_new.groupby('Blink_shown').Order_id.count().reset_index()\n",
    "totals = sessions_new.groupby('Blink_shown').Session_id.count().reset_index()\n",
    "ratios = conversions.merge(totals, how = 'left')\n",
    "ratios['conversion'] = ratios.Order_id / ratios.Session_id\n",
    "\n",
    "display(ratios)\n",
    "print(\"\\nPercentage increase is \" + str((ratios.conversion[1] - ratios.conversion[0]) / ratios.conversion[0]))\n",
    "\n",
    "ax = plt.subplot()\n",
    "plt.bar(range(len(ratios.conversion)), ratios.conversion)\n",
    "ax.set_xticks(range(len(ratios)))\n",
    "ax.set_xticklabels(['w/out Blink', 'w/ Blink'])\n",
    "ax.set_yticks([0.05, 0.10, 0.15, 0.20, 0.25])\n",
    "ax.set_yticklabels(['5%', '10%', '15%', '20%', '25%'])\n",
    "plt.title('Conversion rates')\n",
    "plt.show()"
   ]
  },
  {
   "cell_type": "markdown",
   "metadata": {},
   "source": [
    "Evolution over time:"
   ]
  },
  {
   "cell_type": "code",
   "execution_count": 16,
   "metadata": {},
   "outputs": [
    {
     "data": {
      "text/html": [
       "<div>\n",
       "<style scoped>\n",
       "    .dataframe tbody tr th:only-of-type {\n",
       "        vertical-align: middle;\n",
       "    }\n",
       "\n",
       "    .dataframe tbody tr th {\n",
       "        vertical-align: top;\n",
       "    }\n",
       "\n",
       "    .dataframe thead th {\n",
       "        text-align: right;\n",
       "    }\n",
       "</style>\n",
       "<table border=\"1\" class=\"dataframe\">\n",
       "  <thead>\n",
       "    <tr style=\"text-align: right;\">\n",
       "      <th></th>\n",
       "      <th>ym_code</th>\n",
       "      <th>Blink_shown</th>\n",
       "      <th>Order_id</th>\n",
       "      <th>Session_id</th>\n",
       "      <th>conversion</th>\n",
       "    </tr>\n",
       "  </thead>\n",
       "  <tbody>\n",
       "    <tr>\n",
       "      <th>0</th>\n",
       "      <td>21Dec</td>\n",
       "      <td>0</td>\n",
       "      <td>343.0</td>\n",
       "      <td>676</td>\n",
       "      <td>0.507396</td>\n",
       "    </tr>\n",
       "    <tr>\n",
       "      <th>1</th>\n",
       "      <td>21Dec</td>\n",
       "      <td>1</td>\n",
       "      <td>111.0</td>\n",
       "      <td>213</td>\n",
       "      <td>0.521127</td>\n",
       "    </tr>\n",
       "    <tr>\n",
       "      <th>2</th>\n",
       "      <td>21Nov</td>\n",
       "      <td>0</td>\n",
       "      <td>227.0</td>\n",
       "      <td>620</td>\n",
       "      <td>0.366129</td>\n",
       "    </tr>\n",
       "    <tr>\n",
       "      <th>3</th>\n",
       "      <td>21Nov</td>\n",
       "      <td>1</td>\n",
       "      <td>74.0</td>\n",
       "      <td>192</td>\n",
       "      <td>0.385417</td>\n",
       "    </tr>\n",
       "    <tr>\n",
       "      <th>4</th>\n",
       "      <td>22Jan</td>\n",
       "      <td>0</td>\n",
       "      <td>380.0</td>\n",
       "      <td>923</td>\n",
       "      <td>0.411701</td>\n",
       "    </tr>\n",
       "    <tr>\n",
       "      <th>5</th>\n",
       "      <td>22Jan</td>\n",
       "      <td>1</td>\n",
       "      <td>153.0</td>\n",
       "      <td>343</td>\n",
       "      <td>0.446064</td>\n",
       "    </tr>\n",
       "    <tr>\n",
       "      <th>6</th>\n",
       "      <td>22Feb</td>\n",
       "      <td>0</td>\n",
       "      <td>NaN</td>\n",
       "      <td>836</td>\n",
       "      <td>NaN</td>\n",
       "    </tr>\n",
       "    <tr>\n",
       "      <th>7</th>\n",
       "      <td>22Feb</td>\n",
       "      <td>1</td>\n",
       "      <td>NaN</td>\n",
       "      <td>302</td>\n",
       "      <td>NaN</td>\n",
       "    </tr>\n",
       "  </tbody>\n",
       "</table>\n",
       "</div>"
      ],
      "text/plain": [
       "  ym_code  Blink_shown  Order_id  Session_id  conversion\n",
       "0   21Dec            0     343.0         676    0.507396\n",
       "1   21Dec            1     111.0         213    0.521127\n",
       "2   21Nov            0     227.0         620    0.366129\n",
       "3   21Nov            1      74.0         192    0.385417\n",
       "4   22Jan            0     380.0         923    0.411701\n",
       "5   22Jan            1     153.0         343    0.446064\n",
       "6   22Feb            0       NaN         836         NaN\n",
       "7   22Feb            1       NaN         302         NaN"
      ]
     },
     "metadata": {},
     "output_type": "display_data"
    }
   ],
   "source": [
    "conversions_time = orders_new.groupby(['ym_code', 'Blink_shown']).Order_id.count().reset_index()\n",
    "totals_time = sessions_new.groupby(['ym_code', 'Blink_shown']).Session_id.count().reset_index()\n",
    "ratios_time = pd.merge(conversions_time, totals_time, how = 'outer', on = ['ym_code', 'Blink_shown'])\n",
    "ratios_time['conversion'] = ratios_time.Order_id / ratios_time.Session_id\n",
    "\n",
    "display(ratios_time)"
   ]
  },
  {
   "cell_type": "code",
   "execution_count": null,
   "metadata": {},
   "outputs": [],
   "source": []
  }
 ],
 "metadata": {
  "kernelspec": {
   "display_name": "Python 3 (ipykernel)",
   "language": "python",
   "name": "python3"
  },
  "language_info": {
   "codemirror_mode": {
    "name": "ipython",
    "version": 3
   },
   "file_extension": ".py",
   "mimetype": "text/x-python",
   "name": "python",
   "nbconvert_exporter": "python",
   "pygments_lexer": "ipython3",
   "version": "3.9.7"
  }
 },
 "nbformat": 4,
 "nbformat_minor": 2
}

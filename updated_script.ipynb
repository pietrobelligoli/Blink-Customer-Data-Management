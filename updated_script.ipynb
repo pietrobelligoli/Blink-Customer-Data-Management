{
 "cells": [
  {
   "cell_type": "markdown",
   "metadata": {},
   "source": [
    "## Blink Customer Data Management"
   ]
  },
  {
   "cell_type": "markdown",
   "metadata": {},
   "source": [
    "Let's start from importing the dummy **dataset** with the columns assumptions:\n"
   ]
  },
  {
   "cell_type": "code",
<<<<<<< HEAD
<<<<<<< HEAD
   "execution_count": 1,
=======
   "execution_count": 23,
>>>>>>> 3f0f93ee2809d9b5fbf62fedc34f7b428d7b58a4
=======
   "execution_count": 23,
>>>>>>> 3f0f93ee2809d9b5fbf62fedc34f7b428d7b58a4
   "metadata": {},
   "outputs": [
    {
     "data": {
      "text/html": [
       "<div>\n",
       "<style scoped>\n",
       "    .dataframe tbody tr th:only-of-type {\n",
       "        vertical-align: middle;\n",
       "    }\n",
       "\n",
       "    .dataframe tbody tr th {\n",
       "        vertical-align: top;\n",
       "    }\n",
       "\n",
       "    .dataframe thead th {\n",
       "        text-align: right;\n",
       "    }\n",
       "</style>\n",
       "<table border=\"1\" class=\"dataframe\">\n",
       "  <thead>\n",
       "    <tr style=\"text-align: right;\">\n",
       "      <th></th>\n",
       "      <th>Merchant</th>\n",
       "      <th>Customer_id</th>\n",
       "      <th>Datetime</th>\n",
       "      <th>Blink_shipping</th>\n",
       "      <th>Cap_eligibility</th>\n",
       "      <th>Inventory_av_eligibility</th>\n",
       "      <th>New_to_blink</th>\n",
       "      <th>New_to_merch</th>\n",
       "      <th>Session_id</th>\n",
       "      <th>Order_id</th>\n",
       "      <th>Sku_id</th>\n",
       "      <th>Lineitem_quantity</th>\n",
       "      <th>Lineitem_price</th>\n",
       "      <th>Country</th>\n",
       "      <th>Shipping Zip</th>\n",
       "      <th>Shipping_price</th>\n",
       "    </tr>\n",
       "  </thead>\n",
       "  <tbody>\n",
       "    <tr>\n",
<<<<<<< HEAD
<<<<<<< HEAD
       "      <th>0</th>\n",
=======
       "      <td>0</td>\n",
>>>>>>> 3f0f93ee2809d9b5fbf62fedc34f7b428d7b58a4
=======
       "      <td>0</td>\n",
>>>>>>> 3f0f93ee2809d9b5fbf62fedc34f7b428d7b58a4
       "      <td>Ketofood</td>\n",
       "      <td>pashke.ndoka@gmail.com</td>\n",
       "      <td>2022-02-22 08:48:14 +0100</td>\n",
       "      <td>0.0</td>\n",
       "      <td>1.0</td>\n",
       "      <td>1.0</td>\n",
       "      <td>0.0</td>\n",
       "      <td>0.0</td>\n",
       "      <td>#16074</td>\n",
       "      <td>#16074</td>\n",
       "      <td>47205925.0</td>\n",
       "      <td>1</td>\n",
       "      <td>16.95</td>\n",
       "      <td>IT</td>\n",
       "      <td>00119</td>\n",
       "      <td>0.00</td>\n",
       "    </tr>\n",
       "    <tr>\n",
<<<<<<< HEAD
<<<<<<< HEAD
       "      <th>1</th>\n",
=======
       "      <td>1</td>\n",
>>>>>>> 3f0f93ee2809d9b5fbf62fedc34f7b428d7b58a4
=======
       "      <td>1</td>\n",
>>>>>>> 3f0f93ee2809d9b5fbf62fedc34f7b428d7b58a4
       "      <td>NaN</td>\n",
       "      <td>pashke.ndoka@gmail.com</td>\n",
       "      <td>NaN</td>\n",
       "      <td>NaN</td>\n",
       "      <td>NaN</td>\n",
       "      <td>NaN</td>\n",
       "      <td>NaN</td>\n",
       "      <td>NaN</td>\n",
       "      <td>#16074</td>\n",
       "      <td>#16074</td>\n",
       "      <td>4320592.0</td>\n",
       "      <td>2</td>\n",
       "      <td>23.95</td>\n",
       "      <td>NaN</td>\n",
       "      <td>NaN</td>\n",
       "      <td>NaN</td>\n",
       "    </tr>\n",
       "    <tr>\n",
<<<<<<< HEAD
<<<<<<< HEAD
       "      <th>2</th>\n",
=======
       "      <td>2</td>\n",
>>>>>>> 3f0f93ee2809d9b5fbf62fedc34f7b428d7b58a4
=======
       "      <td>2</td>\n",
>>>>>>> 3f0f93ee2809d9b5fbf62fedc34f7b428d7b58a4
       "      <td>Ketofood</td>\n",
       "      <td>cristinabotti@virgilio.it</td>\n",
       "      <td>2022-02-22 07:50:19 +0100</td>\n",
       "      <td>0.0</td>\n",
       "      <td>0.0</td>\n",
       "      <td>1.0</td>\n",
       "      <td>1.0</td>\n",
       "      <td>0.0</td>\n",
       "      <td>#16073</td>\n",
       "      <td>#16073</td>\n",
       "      <td>47205925.0</td>\n",
       "      <td>1</td>\n",
       "      <td>16.95</td>\n",
       "      <td>IT</td>\n",
       "      <td>50013</td>\n",
       "      <td>3.99</td>\n",
       "    </tr>\n",
       "    <tr>\n",
<<<<<<< HEAD
<<<<<<< HEAD
       "      <th>3</th>\n",
=======
       "      <td>3</td>\n",
>>>>>>> 3f0f93ee2809d9b5fbf62fedc34f7b428d7b58a4
=======
       "      <td>3</td>\n",
>>>>>>> 3f0f93ee2809d9b5fbf62fedc34f7b428d7b58a4
       "      <td>Ketofood</td>\n",
       "      <td>guendalina_3@libero.it</td>\n",
       "      <td>2022-02-22 05:53:08 +0100</td>\n",
       "      <td>0.0</td>\n",
       "      <td>0.0</td>\n",
       "      <td>1.0</td>\n",
       "      <td>0.0</td>\n",
       "      <td>1.0</td>\n",
       "      <td>#16072</td>\n",
       "      <td>#16072</td>\n",
       "      <td>4230592.0</td>\n",
       "      <td>4</td>\n",
       "      <td>9.99</td>\n",
       "      <td>IT</td>\n",
       "      <td>60027</td>\n",
       "      <td>3.99</td>\n",
       "    </tr>\n",
       "    <tr>\n",
<<<<<<< HEAD
<<<<<<< HEAD
       "      <th>4</th>\n",
=======
       "      <td>4</td>\n",
>>>>>>> 3f0f93ee2809d9b5fbf62fedc34f7b428d7b58a4
=======
       "      <td>4</td>\n",
>>>>>>> 3f0f93ee2809d9b5fbf62fedc34f7b428d7b58a4
       "      <td>Ketofood</td>\n",
       "      <td>eloisasofia@hotmail.it</td>\n",
       "      <td>2022-02-21 23:18:00 +0100</td>\n",
       "      <td>0.0</td>\n",
       "      <td>0.0</td>\n",
       "      <td>0.0</td>\n",
       "      <td>1.0</td>\n",
       "      <td>1.0</td>\n",
       "      <td>#16071</td>\n",
       "      <td>#16071</td>\n",
       "      <td>46105929.0</td>\n",
       "      <td>1</td>\n",
       "      <td>95.28</td>\n",
       "      <td>IT</td>\n",
       "      <td>98034</td>\n",
       "      <td>0.00</td>\n",
       "    </tr>\n",
       "    <tr>\n",
<<<<<<< HEAD
<<<<<<< HEAD
       "      <th>...</th>\n",
=======
       "      <td>...</td>\n",
>>>>>>> 3f0f93ee2809d9b5fbf62fedc34f7b428d7b58a4
=======
       "      <td>...</td>\n",
>>>>>>> 3f0f93ee2809d9b5fbf62fedc34f7b428d7b58a4
       "      <td>...</td>\n",
       "      <td>...</td>\n",
       "      <td>...</td>\n",
       "      <td>...</td>\n",
       "      <td>...</td>\n",
       "      <td>...</td>\n",
       "      <td>...</td>\n",
       "      <td>...</td>\n",
       "      <td>...</td>\n",
       "      <td>...</td>\n",
       "      <td>...</td>\n",
       "      <td>...</td>\n",
       "      <td>...</td>\n",
       "      <td>...</td>\n",
       "      <td>...</td>\n",
       "      <td>...</td>\n",
       "    </tr>\n",
       "    <tr>\n",
<<<<<<< HEAD
<<<<<<< HEAD
       "      <th>35343</th>\n",
=======
       "      <td>35343</td>\n",
>>>>>>> 3f0f93ee2809d9b5fbf62fedc34f7b428d7b58a4
=======
       "      <td>35343</td>\n",
>>>>>>> 3f0f93ee2809d9b5fbf62fedc34f7b428d7b58a4
       "      <td>FitPorn</td>\n",
       "      <td>robbymichielan@hotmail.com</td>\n",
       "      <td>2020-10-01 07:48:10 +0200</td>\n",
       "      <td>NaN</td>\n",
       "      <td>0.0</td>\n",
       "      <td>0.0</td>\n",
       "      <td>1.0</td>\n",
       "      <td>1.0</td>\n",
       "      <td>omrobbbbymichi</td>\n",
       "      <td>NaN</td>\n",
       "      <td>NaN</td>\n",
       "      <td>1</td>\n",
       "      <td>55.79</td>\n",
       "      <td>IT</td>\n",
       "      <td>31021</td>\n",
       "      <td>4.99</td>\n",
       "    </tr>\n",
       "    <tr>\n",
<<<<<<< HEAD
<<<<<<< HEAD
       "      <th>35344</th>\n",
=======
       "      <td>35344</td>\n",
>>>>>>> 3f0f93ee2809d9b5fbf62fedc34f7b428d7b58a4
=======
       "      <td>35344</td>\n",
>>>>>>> 3f0f93ee2809d9b5fbf62fedc34f7b428d7b58a4
       "      <td>FitPorn</td>\n",
       "      <td>salvatore.beneventovitalenigro@gmail.com</td>\n",
       "      <td>2020-10-01 06:46:54 +0200</td>\n",
       "      <td>NaN</td>\n",
       "      <td>1.0</td>\n",
       "      <td>0.0</td>\n",
       "      <td>1.0</td>\n",
       "      <td>0.0</td>\n",
       "      <td>omsalvlvatore.</td>\n",
       "      <td>NaN</td>\n",
       "      <td>NaN</td>\n",
       "      <td>1</td>\n",
       "      <td>8.99</td>\n",
       "      <td>IT</td>\n",
       "      <td>42046</td>\n",
       "      <td>4.99</td>\n",
       "    </tr>\n",
       "    <tr>\n",
<<<<<<< HEAD
<<<<<<< HEAD
       "      <th>35345</th>\n",
=======
       "      <td>35345</td>\n",
>>>>>>> 3f0f93ee2809d9b5fbf62fedc34f7b428d7b58a4
=======
       "      <td>35345</td>\n",
>>>>>>> 3f0f93ee2809d9b5fbf62fedc34f7b428d7b58a4
       "      <td>NaN</td>\n",
       "      <td>salvatore.beneventovitalenigro@gmail.com</td>\n",
       "      <td>NaN</td>\n",
       "      <td>NaN</td>\n",
       "      <td>NaN</td>\n",
       "      <td>NaN</td>\n",
       "      <td>NaN</td>\n",
       "      <td>NaN</td>\n",
       "      <td>omsalvlvatore.</td>\n",
       "      <td>NaN</td>\n",
       "      <td>NaN</td>\n",
       "      <td>1</td>\n",
       "      <td>4.99</td>\n",
       "      <td>NaN</td>\n",
       "      <td>NaN</td>\n",
       "      <td>NaN</td>\n",
       "    </tr>\n",
       "    <tr>\n",
<<<<<<< HEAD
<<<<<<< HEAD
       "      <th>35346</th>\n",
=======
       "      <td>35346</td>\n",
>>>>>>> 3f0f93ee2809d9b5fbf62fedc34f7b428d7b58a4
=======
       "      <td>35346</td>\n",
>>>>>>> 3f0f93ee2809d9b5fbf62fedc34f7b428d7b58a4
       "      <td>NaN</td>\n",
       "      <td>salvatore.beneventovitalenigro@gmail.com</td>\n",
       "      <td>NaN</td>\n",
       "      <td>NaN</td>\n",
       "      <td>NaN</td>\n",
       "      <td>NaN</td>\n",
       "      <td>NaN</td>\n",
       "      <td>NaN</td>\n",
       "      <td>omsalvlvatore.</td>\n",
       "      <td>NaN</td>\n",
       "      <td>NaN</td>\n",
       "      <td>1</td>\n",
       "      <td>9.70</td>\n",
       "      <td>NaN</td>\n",
       "      <td>NaN</td>\n",
       "      <td>NaN</td>\n",
       "    </tr>\n",
       "    <tr>\n",
<<<<<<< HEAD
<<<<<<< HEAD
       "      <th>35347</th>\n",
=======
       "      <td>35347</td>\n",
>>>>>>> 3f0f93ee2809d9b5fbf62fedc34f7b428d7b58a4
=======
       "      <td>35347</td>\n",
>>>>>>> 3f0f93ee2809d9b5fbf62fedc34f7b428d7b58a4
       "      <td>FitPorn</td>\n",
       "      <td>simoncino85@virgilio.it</td>\n",
       "      <td>2020-10-01 06:05:10 +0200</td>\n",
       "      <td>NaN</td>\n",
       "      <td>1.0</td>\n",
       "      <td>0.0</td>\n",
       "      <td>1.0</td>\n",
       "      <td>0.0</td>\n",
       "      <td>itsimomoncino8</td>\n",
       "      <td>NaN</td>\n",
       "      <td>NaN</td>\n",
       "      <td>2</td>\n",
       "      <td>9.70</td>\n",
       "      <td>IT</td>\n",
       "      <td>00030</td>\n",
       "      <td>4.99</td>\n",
       "    </tr>\n",
       "  </tbody>\n",
       "</table>\n",
       "<p>35348 rows × 16 columns</p>\n",
       "</div>"
      ],
      "text/plain": [
       "       Merchant                               Customer_id  \\\n",
       "0      Ketofood                    pashke.ndoka@gmail.com   \n",
       "1           NaN                    pashke.ndoka@gmail.com   \n",
       "2      Ketofood                 cristinabotti@virgilio.it   \n",
       "3      Ketofood                    guendalina_3@libero.it   \n",
       "4      Ketofood                    eloisasofia@hotmail.it   \n",
       "...         ...                                       ...   \n",
       "35343   FitPorn                robbymichielan@hotmail.com   \n",
       "35344   FitPorn  salvatore.beneventovitalenigro@gmail.com   \n",
       "35345       NaN  salvatore.beneventovitalenigro@gmail.com   \n",
       "35346       NaN  salvatore.beneventovitalenigro@gmail.com   \n",
       "35347   FitPorn                   simoncino85@virgilio.it   \n",
       "\n",
       "                        Datetime  Blink_shipping  Cap_eligibility  \\\n",
       "0      2022-02-22 08:48:14 +0100             0.0              1.0   \n",
       "1                            NaN             NaN              NaN   \n",
       "2      2022-02-22 07:50:19 +0100             0.0              0.0   \n",
       "3      2022-02-22 05:53:08 +0100             0.0              0.0   \n",
       "4      2022-02-21 23:18:00 +0100             0.0              0.0   \n",
       "...                          ...             ...              ...   \n",
       "35343  2020-10-01 07:48:10 +0200             NaN              0.0   \n",
       "35344  2020-10-01 06:46:54 +0200             NaN              1.0   \n",
       "35345                        NaN             NaN              NaN   \n",
       "35346                        NaN             NaN              NaN   \n",
       "35347  2020-10-01 06:05:10 +0200             NaN              1.0   \n",
       "\n",
       "       Inventory_av_eligibility  New_to_blink  New_to_merch      Session_id  \\\n",
       "0                           1.0           0.0           0.0          #16074   \n",
       "1                           NaN           NaN           NaN          #16074   \n",
       "2                           1.0           1.0           0.0          #16073   \n",
       "3                           1.0           0.0           1.0          #16072   \n",
       "4                           0.0           1.0           1.0          #16071   \n",
       "...                         ...           ...           ...             ...   \n",
       "35343                       0.0           1.0           1.0  omrobbbbymichi   \n",
       "35344                       0.0           1.0           0.0  omsalvlvatore.   \n",
       "35345                       NaN           NaN           NaN  omsalvlvatore.   \n",
       "35346                       NaN           NaN           NaN  omsalvlvatore.   \n",
       "35347                       0.0           1.0           0.0  itsimomoncino8   \n",
       "\n",
       "      Order_id      Sku_id  Lineitem_quantity  Lineitem_price Country  \\\n",
       "0       #16074  47205925.0                  1           16.95      IT   \n",
       "1       #16074   4320592.0                  2           23.95     NaN   \n",
       "2       #16073  47205925.0                  1           16.95      IT   \n",
       "3       #16072   4230592.0                  4            9.99      IT   \n",
       "4       #16071  46105929.0                  1           95.28      IT   \n",
       "...        ...         ...                ...             ...     ...   \n",
       "35343      NaN         NaN                  1           55.79      IT   \n",
       "35344      NaN         NaN                  1            8.99      IT   \n",
       "35345      NaN         NaN                  1            4.99     NaN   \n",
       "35346      NaN         NaN                  1            9.70     NaN   \n",
       "35347      NaN         NaN                  2            9.70      IT   \n",
       "\n",
       "      Shipping Zip  Shipping_price  \n",
       "0            00119            0.00  \n",
       "1              NaN             NaN  \n",
       "2            50013            3.99  \n",
       "3            60027            3.99  \n",
       "4            98034            0.00  \n",
       "...            ...             ...  \n",
       "35343        31021            4.99  \n",
       "35344        42046            4.99  \n",
       "35345          NaN             NaN  \n",
       "35346          NaN             NaN  \n",
       "35347        00030            4.99  \n",
       "\n",
       "[35348 rows x 16 columns]"
      ]
     },
<<<<<<< HEAD
<<<<<<< HEAD
     "execution_count": 1,
=======
     "execution_count": 23,
>>>>>>> 3f0f93ee2809d9b5fbf62fedc34f7b428d7b58a4
=======
     "execution_count": 23,
>>>>>>> 3f0f93ee2809d9b5fbf62fedc34f7b428d7b58a4
     "metadata": {},
     "output_type": "execute_result"
    }
   ],
   "source": [
    "import pandas as pd\n",
    "from matplotlib import pyplot as plt\n",
    "\n",
    "df = pd.read_csv('Dataset_test.csv', low_memory = False)\n",
    "df"
   ]
  },
  {
   "cell_type": "markdown",
   "metadata": {},
   "source": [
    "Then let's create two dataframes:\n",
    "\n",
    "- The first will contain only completed orders\n",
    "- The second will contain all the sessions (in which are also included the completed ones that converted into orders)"
   ]
  },
  {
   "cell_type": "code",
<<<<<<< HEAD
<<<<<<< HEAD
   "execution_count": 2,
   "metadata": {},
   "outputs": [
    {
     "name": "stderr",
     "output_type": "stream",
     "text": [
      "C:\\Users\\Giuseppe\\AppData\\Local\\Temp/ipykernel_13924/515121555.py:36: FutureWarning: Series.dt.weekofyear and Series.dt.week have been deprecated.  Please use Series.dt.isocalendar().week instead.\n",
      "  orders['week_num'] = pd.to_datetime(orders.Datetime, errors = 'coerce', utc = 'true').dt.week\n",
      "C:\\Users\\Giuseppe\\AppData\\Local\\Temp/ipykernel_13924/515121555.py:47: FutureWarning: Series.dt.weekofyear and Series.dt.week have been deprecated.  Please use Series.dt.isocalendar().week instead.\n",
      "  sessions['week_num'] = pd.to_datetime(sessions.Datetime, errors = 'coerce', utc = 'true').dt.week\n"
     ]
    }
   ],
=======
   "execution_count": 24,
   "metadata": {},
   "outputs": [],
>>>>>>> 3f0f93ee2809d9b5fbf62fedc34f7b428d7b58a4
=======
   "execution_count": 24,
   "metadata": {},
   "outputs": [],
>>>>>>> 3f0f93ee2809d9b5fbf62fedc34f7b428d7b58a4
   "source": [
    "#Orders dataframe\n",
    "orders = df.groupby(['Order_id', 'Merchant', 'Customer_id', 'Datetime', 'Country', 'Shipping Zip']).agg({\n",
    "    'Blink_shipping': 'sum',\n",
    "    'Cap_eligibility': 'sum',\n",
    "    'Inventory_av_eligibility': 'sum',\n",
    "    'New_to_blink': 'sum',\n",
    "    'New_to_merch': 'sum',\n",
    "    'New_to_blink': 'sum',\n",
    "    'Lineitem_quantity': 'sum',\n",
    "    'Lineitem_price': 'sum',\n",
    "    'Shipping_price': 'max'\n",
    "}).reset_index()\n",
    "\n",
    "#Sessions dataframe\n",
    "sessions = df.groupby(['Session_id', 'Merchant', 'Customer_id', 'Datetime', 'Country', 'Shipping Zip']).agg({\n",
    "    'Blink_shipping': 'sum',\n",
    "    'Cap_eligibility': 'sum',\n",
    "    'Inventory_av_eligibility': 'sum',\n",
    "    'New_to_blink': 'sum',\n",
    "    'New_to_merch': 'sum',\n",
    "    'New_to_blink': 'sum',\n",
    "    'Lineitem_quantity': 'sum',\n",
    "    'Lineitem_price': 'sum',\n",
    "    'Shipping_price': 'max'\n",
    "}).reset_index()\n",
    "\n",
    "#Add time columns\n",
    "orders['date'] = pd.to_datetime(orders.Datetime, errors = 'coerce', utc = 'true').dt.date\n",
    "orders['day_of_week'] = pd.to_datetime(orders.Datetime, errors = 'coerce', utc = 'true').dt.day_name()\n",
    "orders['hour_of_day'] = pd.to_datetime(orders.Datetime, errors = 'coerce', utc = 'true').dt.hour\n",
    "orders['month_name'] = pd.to_datetime(orders.Datetime, errors = 'coerce', utc = 'true').dt.month_name()\n",
    "orders['year_num'] = pd.to_datetime(orders.Datetime, errors = 'coerce', utc = 'true').dt.year\n",
    "orders['month_code'] = orders.month_name.str.slice(start = 0, stop = 3)\n",
    "orders['year_code'] = orders.year_num.apply(lambda x: str(x)[2:])\n",
    "orders['ym_code'] = orders.year_code + orders.month_code\n",
    "orders['week_num'] = pd.to_datetime(orders.Datetime, errors = 'coerce', utc = 'true').dt.week\n",
    "orders['yw_code'] = orders.year_code.astype(str) + orders.week_num.astype(str)\n",
    "\n",
    "sessions['date'] = pd.to_datetime(sessions.Datetime, errors = 'coerce', utc = 'true').dt.date\n",
    "sessions['day_of_week'] = pd.to_datetime(sessions.Datetime, errors = 'coerce', utc = 'true').dt.day_name()\n",
    "sessions['hour_of_day'] = pd.to_datetime(sessions.Datetime, errors = 'coerce', utc = 'true').dt.hour\n",
    "sessions['month_name'] = pd.to_datetime(sessions.Datetime, errors = 'coerce', utc = 'true').dt.month_name()\n",
    "sessions['year_num'] = pd.to_datetime(sessions.Datetime, errors = 'coerce', utc = 'true').dt.year\n",
    "sessions['month_code'] = sessions.month_name.str.slice(start = 0, stop = 3)\n",
    "sessions['year_code'] = sessions.year_num.apply(lambda x: str(x)[2:])\n",
    "sessions['ym_code'] = sessions.year_code + orders.month_code\n",
    "sessions['week_num'] = pd.to_datetime(sessions.Datetime, errors = 'coerce', utc = 'true').dt.week\n",
    "sessions['yw_code'] = sessions.year_code.astype(str) + sessions.week_num.astype(str)"
   ]
  },
  {
   "cell_type": "markdown",
   "metadata": {},
   "source": [
    "Then the two dataframes can be filtered using to the parameters below:"
   ]
  },
  {
   "cell_type": "code",
<<<<<<< HEAD
<<<<<<< HEAD
   "execution_count": 3,
=======
   "execution_count": 25,
>>>>>>> 3f0f93ee2809d9b5fbf62fedc34f7b428d7b58a4
=======
   "execution_count": 25,
>>>>>>> 3f0f93ee2809d9b5fbf62fedc34f7b428d7b58a4
   "metadata": {},
   "outputs": [],
   "source": [
    "#Parameters {for multiple values use a list [item1, item2]}\n",
    "\n",
    "country_list = ['IT']\n",
    "merchant_list = ['Ketofood']\n",
    "date_start = '2021-01-01'\n",
    "date_end = '2022-02-01'\n",
    "day_of_week_list = ['Monday', 'Tuesday']\n",
    "hod_start = 1\n",
    "hod_end = 24\n",
    "\n",
    "date_start = pd.to_datetime(date_start)\n",
    "date_end = pd.to_datetime(date_end)"
   ]
  },
  {
   "cell_type": "markdown",
   "metadata": {},
   "source": [
    "If you don't wanna use specific filters, just comment the line of code (below) where that filter is. You can do that by using '#'"
   ]
  },
  {
   "cell_type": "code",
<<<<<<< HEAD
<<<<<<< HEAD
   "execution_count": 4,
   "metadata": {},
   "outputs": [
    {
     "name": "stderr",
     "output_type": "stream",
     "text": [
      "C:\\Users\\Giuseppe\\anaconda3\\lib\\site-packages\\pandas\\core\\ops\\array_ops.py:73: FutureWarning: Comparison of Timestamp with datetime.date is deprecated in order to match the standard library behavior.  In a future version these will be considered non-comparable.Use 'ts == pd.Timestamp(date)' or 'ts.date() == date' instead.\n",
      "  result = libops.scalar_compare(x.ravel(), y, op)\n"
     ]
    }
   ],
=======
   "execution_count": 26,
   "metadata": {},
   "outputs": [],
>>>>>>> 3f0f93ee2809d9b5fbf62fedc34f7b428d7b58a4
=======
   "execution_count": 26,
   "metadata": {},
   "outputs": [],
>>>>>>> 3f0f93ee2809d9b5fbf62fedc34f7b428d7b58a4
   "source": [
    "orders_filtered = orders[\n",
    "    orders.Country.isin(country_list) \n",
    "    & orders.Merchant.isin(merchant_list) \n",
    "    & (orders.date >= date_start) \n",
    "    & (orders.date < date_end) \n",
    "    & (orders.day_of_week.isin(day_of_week_list))\n",
    "    & (orders.hour_of_day >= hod_start) \n",
    "    & (orders.hour_of_day < hod_end)\n",
    "    ].reset_index(drop = True)\n",
    "\n",
    "sessions_filtered = sessions\n",
    "# [\n",
    "#     orders.Country.isin(country_list) \n",
    "#     & orders.Merchant.isin(merchant_list) \n",
    "#     & (orders.date >= date_start) \n",
    "#     & (orders.date < date_end) \n",
    "#     & (orders.day_of_week.isin(day_of_week_list))\n",
    "#     & (orders.hour_of_day >= hod_start) \n",
    "#     & (orders.hour_of_day < hod_end)\n",
    "#     ].reset_index(drop = True)"
   ]
  },
  {
   "cell_type": "markdown",
   "metadata": {},
   "source": [
    "## KPIs"
   ]
  },
  {
   "cell_type": "markdown",
   "metadata": {},
   "source": [
    "### 1. Percentage of eligible orders\n",
    "Description: number of orders where Blink is shown at checkout divided by the total number of orders"
   ]
  },
  {
   "cell_type": "code",
<<<<<<< HEAD
<<<<<<< HEAD
   "execution_count": 5,
=======
   "execution_count": 28,
>>>>>>> 3f0f93ee2809d9b5fbf62fedc34f7b428d7b58a4
=======
   "execution_count": 28,
>>>>>>> 3f0f93ee2809d9b5fbf62fedc34f7b428d7b58a4
   "metadata": {},
   "outputs": [
    {
     "data": {
      "text/html": [
       "<div>\n",
       "<style scoped>\n",
       "    .dataframe tbody tr th:only-of-type {\n",
       "        vertical-align: middle;\n",
       "    }\n",
       "\n",
       "    .dataframe tbody tr th {\n",
       "        vertical-align: top;\n",
       "    }\n",
       "\n",
       "    .dataframe thead th {\n",
       "        text-align: right;\n",
       "    }\n",
       "</style>\n",
       "<table border=\"1\" class=\"dataframe\">\n",
       "  <thead>\n",
       "    <tr style=\"text-align: right;\">\n",
       "      <th></th>\n",
       "      <th>Cap_eligibility</th>\n",
       "      <th>Inventory_av_eligibility</th>\n",
       "      <th>Order_id</th>\n",
       "      <th>Percent</th>\n",
       "    </tr>\n",
       "  </thead>\n",
       "  <tbody>\n",
       "    <tr>\n",
<<<<<<< HEAD
<<<<<<< HEAD
       "      <th>0</th>\n",
=======
       "      <td>0</td>\n",
>>>>>>> 3f0f93ee2809d9b5fbf62fedc34f7b428d7b58a4
=======
       "      <td>0</td>\n",
>>>>>>> 3f0f93ee2809d9b5fbf62fedc34f7b428d7b58a4
       "      <td>0.0</td>\n",
       "      <td>0.0</td>\n",
       "      <td>303</td>\n",
       "      <td>0.235248</td>\n",
       "    </tr>\n",
       "    <tr>\n",
<<<<<<< HEAD
<<<<<<< HEAD
       "      <th>1</th>\n",
=======
       "      <td>1</td>\n",
>>>>>>> 3f0f93ee2809d9b5fbf62fedc34f7b428d7b58a4
=======
       "      <td>1</td>\n",
>>>>>>> 3f0f93ee2809d9b5fbf62fedc34f7b428d7b58a4
       "      <td>0.0</td>\n",
       "      <td>1.0</td>\n",
       "      <td>319</td>\n",
       "      <td>0.247671</td>\n",
       "    </tr>\n",
       "    <tr>\n",
<<<<<<< HEAD
<<<<<<< HEAD
       "      <th>2</th>\n",
=======
       "      <td>2</td>\n",
>>>>>>> 3f0f93ee2809d9b5fbf62fedc34f7b428d7b58a4
=======
       "      <td>2</td>\n",
>>>>>>> 3f0f93ee2809d9b5fbf62fedc34f7b428d7b58a4
       "      <td>1.0</td>\n",
       "      <td>0.0</td>\n",
       "      <td>328</td>\n",
       "      <td>0.254658</td>\n",
       "    </tr>\n",
       "    <tr>\n",
<<<<<<< HEAD
<<<<<<< HEAD
       "      <th>3</th>\n",
=======
       "      <td>3</td>\n",
>>>>>>> 3f0f93ee2809d9b5fbf62fedc34f7b428d7b58a4
=======
       "      <td>3</td>\n",
>>>>>>> 3f0f93ee2809d9b5fbf62fedc34f7b428d7b58a4
       "      <td>1.0</td>\n",
       "      <td>1.0</td>\n",
       "      <td>338</td>\n",
       "      <td>0.262422</td>\n",
       "    </tr>\n",
       "  </tbody>\n",
       "</table>\n",
       "</div>"
      ],
      "text/plain": [
       "   Cap_eligibility  Inventory_av_eligibility  Order_id   Percent\n",
       "0              0.0                       0.0       303  0.235248\n",
       "1              0.0                       1.0       319  0.247671\n",
       "2              1.0                       0.0       328  0.254658\n",
       "3              1.0                       1.0       338  0.262422"
      ]
     },
     "metadata": {},
     "output_type": "display_data"
    },
    {
     "data": {
<<<<<<< HEAD
<<<<<<< HEAD
      "image/png": "iVBORw0KGgoAAAANSUhEUgAAAXoAAAEICAYAAABRSj9aAAAAOXRFWHRTb2Z0d2FyZQBNYXRwbG90bGliIHZlcnNpb24zLjQuMywgaHR0cHM6Ly9tYXRwbG90bGliLm9yZy/MnkTPAAAACXBIWXMAAAsTAAALEwEAmpwYAAAaIUlEQVR4nO3df7xVdZ3v8ddboOT4C7weiYGQCzg5jRROJ4YuTUU2jGkz6jWnvIXYWJQzDjoPusmYho35oy5gt7GHXTSuGNbATR1NuzGEQdptlIMdEQdvdhU1YQCTUtP0KJ/7x/qeXO7Oj3X2PpwfX97Px2M99lrf9V17ffdm897f891r768iAjMzy9cBA90AMzPbtxz0ZmaZc9CbmWXOQW9mljkHvZlZ5hz0ZmaZc9DboCfpLEl3l7afkzSp4rG/rSvpeklf6KZuSJrSeIt7R9LEdO7h/X1u2z/4hWWDgqRtwBjglVLx9RFxbm3diDi46v32pq5Zrhz0Npj8eUR8f6AbsS9JGh4RLw/W+7M8eejGhpzyEIuk/yDpO5KekbRR0hdqhnlqh2OOkLRW0rOSNkg6qotzvF7SYkmPS9op6WuSRnZR9wBJF0l6TNIuSTdIOizt6xiWOVvS48Cdkoal+35K0iPASTX3d5ikr0vaIenJ9JiGpX1nSfqRpKskPQ1cImlKeiy/Sve5qpHn1/LjoLeh7qvAr4E3AHPT0p2PAJcCRwBtwI1d1Psi8PvANGAKMA74XBd1z0rLLGAScDBwdU2ddwN/APwZ8AngA8BxQAvwwZq6K4CX03mPA2YDHy/t/2PgEeBI4LL0eP4FGA2MB/6xi3ba/ioivHgZ8AXYBjwH/LK0fCLtOwu4u1Q3KEJwGNAOvKm07wud1U3r1wP/VNp3MMVnAm+suV9RvHlMLtV9B/BoF21fB/x1aftNqV3DgYnpfieV9t8JfKq0PTvVGU7xOcWLwMjS/jOAH5Sei8drzn8DsAwYP9D/jl4G5+IxehtMTonejdE3U4TjE6WyJ7qo+zv7I+K5NPzxezXHNQNNwCZJHWWieGPpzO8Bj5W2H+PV0O6sXbXnKx97FDAC2FE69wF0/xg/Q9Grv1fSHmBJRCzvoq22H3LQ21C2m2KIYzzw01T2xh6O+e1+SQcDhwPba+o8BbwA/GFEPFmhHdspArrDhNSunaltUPTYO+yoaeeE0voTFD36I6LrD1lf85OzEfHvFMNBSHon8H1JP4yIn1Vou+0HPEZvQ1ZEvALcTPGBZJOkY4AzezjsREnvlPQ6il7wPRHxmh5yROwFrgWuknQkgKRxkv6si/v8FvB3kv5jevO4HFjVTVCvBuZLGi9pNLCwdO4dFOPtSyQdmj7onSzp3V09IEmnS+p4Q9lD8UbwSlf1bf/joLfB5DvpC04dyy0VjjkXOAz4d+AbFKH7Yjf1vwksAp4G3kbx4WxnLgB+BvyrpGeA71OMvXdmeTr3D4FHgd8Af9tNG64F1gD3A/dRvFmVnQm8Dvg3iuD+NjC2m/t7O3CPpOeA24DzIuLRburbfkYRnnjE8iHpi8AbIqKnq2/M9hvu0duQJukYSW9RYTpwNlDlLwGz/UaloJe0TdIDktoktaayw9MXTx5Ot6NT+UxJm9OXVzq+1DJK0hqVLiMw6yOHUAx9/Jpi7HsJcOuAtshskKk0dJN+h6QlIp4qlX0JeDoirpS0EBgdERdIuplifHMicEJELJC0BLgtIjbsiwdhZmZda2To5mSKb/CRbk9J6+3ASIrrkNslTQbGOeTNzAZG1R79o7x62db/iIhlkn4ZEaNKdfZExGhJ04CvUVyHPAdYDFwcEQ93c//zgHkABx100NuOOeaY+h+Rmdl+aNOmTU9FRHNn+6p+YWpmRGxP1xSvlfRQVxUjog2YASDpXRRfJlH6oaV2YEFE7Kw5ZhnFV7hpaWmJ1tbWis0yMzMASY91ta/S0E1EbE+3uyiuaJgO7JQ0Np1gLLCr5qQCLqL4UsqitKwE5vf+IZiZWb16DHpJB0k6pGOd4geYtlB8MaPjWuW5/O6VDnOBOyJiD8V4/d60NPVN083MrIoqQzdjgFvSlZHDgW9GxPckbQRWSzobeBw4veMASU0UQT87FS0FbgJeovglPjMz6yc9Bn1EPAK8tZPyXwDHd3HM8xS/zd2xfRcwtf5mmplZvfzNWDOzzDnozcwy56A3M8ucg97MLHMOejOzzDnozcwy56A3M8ucg97MLHMOejOzzDnozcwy56A3M8ucg97MLHMOejOzzFUOeknDJP1E0u1p+xJJT0pqS8uJqXympM2SNkqakspGSVqTJiMxM7N+VHUqQYDzgK3AoaWyqyJicU29BcBpwETgnLR9MXB5VJmg1szM+lSlHr2k8cBJwHUVqrcDIylmkmqXNBkYFxEb6m6lmZnVrerQzZeBz1BMBVh2bhqmWS5pdCq7gmKi7/OBq4HLKHr0XZI0T1KrpNbdu3dXbbuZmVVQZc7YDwC7ImJTza5rgMnANGAHsAQgItoiYkZEzAImAduLu9EqSSsljak9R0Qsi4iWiGhpbm5u7BGZmdlrVBmjnwn8Rfqw9UDgUEkrI+KjHRUkXQvcXj4offB6EfAhip79Iopx+/nAZ/uk9WZm1qMee/QR8fcRMT4iJgIfBu6MiI9KGluqdiqwpebQucAdEbGHYrx+b1qa+qTlZmZWSW+uuqn1JUnTgAC2AZ/s2CGpiSLoZ6eipcBNwEvAGQ2c08zMeqlXQR8R64H1aX1ON/WeB2aVtu8CptbVQjMza4i/GWtmljkHvZlZ5hz0ZmaZc9CbmWXOQW9mljkHvZlZ5hz0ZmaZc9CbmWXOQW9mljkHvZlZ5hz0ZmaZc9CbmWXOQW9mlrnKQS9pmKSfSLo9bR8uaa2kh9Pt6FQ+M00vuFHSlFQ2StKaNBmJmZn1o9706M8Dtpa2FwLrIuJoYF3aBlgAnAZcCJyTyi4GLo+IaKy5ZmbWW5WCXtJ44CTgulLxycCKtL4COCWttwMjKWaSapc0GRgXERv6osFmZtY7VSce+TLwGeCQUtmYiNgBEBE7JB2Zyq8AlgEvAHOAxRQ9+i5JmgfMA5gwYULVtpuZWQU99uglfQDYFRGbqtxhRLRFxIyImAVMArYXd6NVklZKGtPJMcsioiUiWpqbm3v7GMzMrBtVevQzgb+QdCJwIHCopJXATkljU29+LLCrfFD64PUi4EPA1cAiYCIwH/hs3z0EMzPrTo89+oj4+4gYHxETgQ8Dd0bER4HbKCYAJ93eWnPoXOCOiNhDMV6/Ny1NfdR2MzOroFeTg9e4Elgt6WzgceD0jh2SmiiCfnYqWgrcBLwEnNHAOc3MrJd6FfQRsR5Yn9Z/ARzfRb3ngVml7buAqfU20szM6udvxpqZZc5Bb2aWOQe9mVnmHPRmZplz0JuZZc5Bb2aWOQe9mVnmHPRmZplz0JuZZc5Bb2aWOQe9mVnmHPRmZpmrMvHIgZLulXS/pAclfT6VXyLpSUltaTkxlXtycDOzQaTKr1e+CLw3Ip6TNAK4W9L/TvuuiojFNfU7JgefSDE5+AI8ObiZ2YDpMehTOD+XNkekpbvA9uTgZmaDSKUxeknDJLVRTBe4NiLuSbvOTcM0yyWNTmUdk4OfTzGF4GX0MDm4mZntO5WCPiJeiYhpwHhguqRjgWuAycA0YAewJNXt9eTgkuZJapXUunv37r54XGZmlvTqqpuI+CXFDFMnRMTO9AawF7gWmF6uW5oc/FKKicEXASspJgevvd9lEdESES3Nzc31PA4zM+tClatumiWNSusjgfcBD0kaW6p2KrCl5lBPDm5mNghUuepmLLBC0jCKN4bVEXG7pG9Imkbxwew24JMdB3hycDOzwaPKVTebgeM6KZ/TzTGeHNzMbJDwN2PNzDLnoDczy5yD3swscw56M7PMOejNzDLnoDczy5yD3swscw56M7PMOejNzDLnoDczy5yD3swscw56M7PMOejNzDJX5ffoD5R0r6T7JT0o6fOp/HBJayU9nG5Hp/KZaXrBjZKmpLJRktakyUjMzKwfVenRvwi8NyLeSjFt4AmSZgALgXURcTSwLm0DLABOAy4EzkllFwOXp4nGzcysH/UY9FF4Lm2OSEsAJwMrUvkK4JS03g6MpJhJql3SZGBcRGzow3abmVlFVWaYIs0utQmYAnw1Iu6RNCYidgBExA5JR6bqVwDLgBeAOcBiih59d/c/D5gHMGHChHoeh5mZdaHSh7FpEvBpwHhguqRju6nbFhEzImIWMAnYTjFX+CpJKyWN6eQYTw5uZraP9Oqqm4j4JbAeOAHY2TFBeLrdVa6bPni9CLgUWJSWlcD8RhttZmbVVbnqplnSqLQ+Engf8BBwG8UE4KTbW2sOnQvcERF7KMbr96alqU9abmZmlVQZox8LrEjj9AcAqyPidkk/BlZLOht4HDi94wBJTRRBPzsVLQVuAl4CzujD9puZWQ96DPqI2Awc10n5L4DjuzjmeWBWafsuYGr9zTQzs3r5m7FmZplz0JuZZc5Bb2aWOQe9mVnmHPRmZplz0JuZZc5Bb2aWOQe9mVnmHPRmZplz0JuZZc5Bb2aWuUoTj5iZ9YeJC+8Y6CYMqG1XnrRP7tc9ejOzzFX5Pfo3SvqBpK2SHpR0Xiq/RNKTktrScmIqnylps6SNkqakslGS1qTJSMzMrB9VGbp5GVgQEfdJOgTYJGlt2ndVRCyuqb8AOA2YCJyTti8GLo+I6Jtmmw1OHnrYN0MP1pgqv0e/A+iYBPxZSVuBcd0c0g6MpJhJql3SZGBcRGzog/aamVkv9WqMXtJEiklI7klF56ZhmuWSRqeyK4BlwPnA1cBlFD367u53nqRWSa27d+/uTZPMzKwHla+6kXQwxXSA50fEM5KuoZj4O9LtEuCvIqINmJGOeRewvVjVKore/oKI2Fm+74hYRvHmQEtLi4d3BpCHHjz0YPmp1KOXNIIi5G+MiJsBImJnRLwSEXuBa4HpNccIuIjiTWBRWlYC8/uu+WZm1pMqV90I+DqwNSKWlsrHlqqdCmypOXQucEdE7KEYr9+blqZGG21mZtVVGbqZCcwBHpDUlsouBM6QNI1i6GYb8MmOAyQ1UQT97FS0lOIvgpeAM/qg3WZmVlGVq27uBjq7/v273RzzPDCrtH0XMLWeBpqZWWOy+wkEf5joDxPN7LX8EwhmZplz0JuZZc5Bb2aWOQe9mVnmHPRmZplz0JuZZc5Bb2aWOQe9mVnmHPRmZplz0JuZZc5Bb2aWOQe9mVnmqvwe/Rsl/UDSVkkPSjovlR8uaa2kh9Pt6FQ+M00vuFHSlFQ2StKa9Nv2ZmbWj6r06F+mmP7vDyimCPwbSW8GFgLrIuJoYF3aBlgAnEbxm/XnpLKLgcsjwtMEmpn1sx6DPiJ2RMR9af1ZYCswDjgZWJGqrQBOSevtwEiKmaTaJU0GxkXEhr5tupmZVdGr36OXNBE4DrgHGBMRO6B4M5B0ZKp2BcVE3y9QzEy1mKJH3939zgPmAUyYMKE3TTIzsx5U/jBW0sEU0wGeHxHPdFUvItoiYkZEzAImAduLw7VK0kpJYzo5ZllEtERES3Nzcx0Pw8zMulIp6CWNoAj5GyPi5lS8s2OC8HS7q+YYARcBlwKL0rISmN83TTczsyqqXHUj4OvA1ohYWtp1G8UE4KTbW2sOnQvcERF7KMbr96alqdFGm5lZdVXG6GdSjLU/IKktlV0IXAmslnQ28DhwescBkpoogn52KlpK8RfBS8AZfdJyMzOrpMegj4i7ga6ufz++i2OeB2aVtu8CptbTQDMza4y/GWtmljkHvZlZ5hz0ZmaZc9CbmWXOQW9mljkHvZlZ5hz0ZmaZc9CbmWXOQW9mljkHvZlZ5hz0ZmaZc9CbmWWuys8UL5e0S9KWUtklkp6U1JaWE1O5JwY3MxtkqvTorwdO6KT8qoiYlpbvpjJPDG5mNshUmRz8h8DTFe/PE4ObmQ0yvZocvMa5ks4EWoEFaSapXk8MbmZm+1a9H8ZeA0wGpgE7gCVQ38TgFBXmSWqV1Lp79+46m2RmZp2pK+gjYmdEvBIRe4Frgenl/b2dGDwilkVES0S0NDc319MkMzPrQl1BL2lsafNUYEtNFU8MbmY2SPQ4Ri/pW8B7gCMk/Zyid/4eSdOAALYBnyzV98TgZmaDSJXJwTsL5693U98Tg5uZDSL+ZqyZWeYc9GZmmXPQm5llzkFvZpY5B72ZWeYc9GZmmXPQm5llzkFvZpY5B72ZWeYc9GZmmXPQm5llzkFvZpY5B72ZWeZ6DHpJyyXtkrSlVHa4pLWSHk63o1P5TEmbJW2UNCWVjZK0Jk1GYmZm/axKj/564ISasoXAuog4GliXtgEWAKcBFwLnpLKLgcsjIhpurZmZ9VqPQR8RPwSerik+GViR1lcAp6T1dmAkxUxS7ZImA+MiYkOftNbMzHqtx4lHujAmInYARMQOSUem8iuAZcALwBxgMUWPvluS5gHzACZMmFBnk8zMrDN9+mFsRLRFxIyImAVMArZTzBW+StJKSWO6OM6Tg5uZ7SP1Bv3OjgnC0+2u8s70wetFwKUUc8wuAlYC8+tvqpmZ1aPeoL+NYgJw0u2tNfvnAndExB6K8fq9aWmq83xmZlanHsfoJX0LeA9whKSfU/TOrwRWSzobeBw4vVS/iSLoZ6eipcBNwEtAZxONm5nZPtRj0EdEV+F8fBf1nwdmlbbvAqbW1TozM2uYvxlrZpY5B72ZWeYc9GZmmXPQm5llzkFvZpY5B72ZWeYc9GZmmXPQm5llzkFvZpY5B72ZWeYc9GZmmXPQm5llzkFvZpa5hoJe0jZJD0hqk9Sayr4oabOkG0r15kg6r9HGmplZ79U7Z2zZrIh4CkDSYcB/ioi3SLpR0lTgZ8BZwAl9cC4zM+ulvh662Qu8Lk0lOBJoB/4r8JWIaO/jc5mZWQWNBn0A/yJpk6R5EfEsxWxSPwEeBX4FvD0iaqcafA1J8yS1SmrdvXt3g00yM7OyRoduZkbEdklHAmslPRQRXwK+BCDpOuBzkj5OMbXg5oj4Qu2dRMQyYBlAS0tLNNgmMzMraahHHxHb0+0u4BZgesc+Scel1Z8CZ0bEXwLHSjq6kXOamVnv1B30kg6SdEjHOkWPfUupyqXA54ARwLBUthdoqvecZmbWe40M3YwBbik+d2U48M2I+B6ApFOAjR09fkk/lvQAxdDN/Y012czMeqPuoI+IR4C3drHvn4F/Lm1/Gvh0vecyM7P6+ZuxZmaZc9CbmWXOQW9mljkHvZlZ5hz0ZmaZc9CbmWXOQW9mljkHvZlZ5hz0ZmaZc9CbmWXOQW9mljkHvZlZ5hz0ZmaZc9CbmWXOQW9mljkHvZlZ5hQxuObilrQbeGyg29GAI4CnBroRQ5ifv8b4+WvMUH7+joqI5s52DLqgH+oktUZEy0C3Y6jy89cYP3+NyfX589CNmVnmHPRmZplz0Pe9ZQPdgCHOz19j/Pw1Jsvnz2P0ZmaZc4/ezCxzDnozs8w56OskKSQtKW1/WtIlA9ikASPpuQE671mSrh6Ic/cFSW+Q9E+S/p+kf5P0XUm/PwDteI+k2/v7vANBhbslvb9U9peSvjeQ7drXHPT1exH4z5KOGOiG2NAjScAtwPqImBwRbwYuBMYMbMvyFsWHkp8Clko6UNJBwGXA3wxsy/YtB339Xqb4hP7vandIOkrSOkmb0+2E/m9e/0s9w/WSvi3pIUk3ph7U+yWtrqn3nU6OP17STyQ9IGm5pNen8m2SPi/pvrTvmJrjDpH0qKQRafvQdMyIff2YGzALaI+Ir3UURERbRNwl6eD0uul4vCcDSJqYntcV6bX1bUlNtXcsaZqkf011bpE0OpWvl/RFSfdK+qmkP6k57gBJD0tqLm3/LLfOTERsAb4DXAAsAlYCn5W0Mb3+Op7vP0zPVVt6Lo8ewGY3xEHfmK8CH5F0WE351cANEfEW4EbgK/3esoFzHHA+8GZgEjATWAvMSL0ngA8Bq8oHSToQuB74UERMBYYD55SqPBURfwRcA3y6fGxEPAusB05KRR8GboqI9r56UPvAscCmLvb9Bjg1Pd5ZwJL0FwDAm4Bl6bX1DPDXnRx/A3BBqvMARZh1GB4R0yn+jcrlRMReitD7SCp6H3B/RAzVnwTozueB/wK8HzgQuDMi3k7xfP+39Fr9FPDfI2Ia0AL8fIDa2jAHfQMi4hmK/1Tza3a9A/hmWv8G8M7+bNcAuzcifp5Cow2YGBEvA98D/lzScIpAvrXmuDcBj0bET9P2CuBdpf03p9tNwMROznsd8LG0/jHgfzb4OAaSgMslbQa+D4zj1SGdJyLiR2l9JTWvrdTpGBURG1JRb5/H5cCZaf2vGNrPY5ci4tcUnY1vAH8KLJTURtFhOBCYAPwYuFDSBRS/I/PCwLS2ccMHugEZ+DJwH93/h9ifvqzwYmn9FV59ja2iGAd9GtiYeuFlonsd91u+z9+KiB+loY13A8PSn+eD2YPAB7vY9xGgGXhbRLRL2kYRPvC7r6XevrZ6eh6fkLRT0nuBP+bV3n2O9qZFwGkR8X9r9m+VdA9Fx2SNpI9HxJ393ci+4B59gyLiaWA1cHap+P9QDB9A8R/l7v5u1yC0Hvgj4BPUDNskDwETJU1J23OADZ3U684NwLcYGr3QO4HXS/pER4Gkt6c3qsOAXSnkZwFHlY6bIOkdaf0Mal5bEfErYE9p/L2e5/E6ir8WVkfEK708dihaA/xtx/CYpOPS7STgkYj4CnAb8JaBa2JjHPR9YwnFz5t2mA98LP3pPQc4b0BaNYikwLidYkz0dy7li4jfUAy5/C9JD1D0tL5WW68HNwKjKcJ+UEtXf5wK/Gm6vPJB4BJgO8XjaJHUStFReKh06FZgbnptHU7xmUWtuRTjzJuBacA/9LJ5twEHMzTeMPvCpcAIYLOkLWkbis+StqQhnWMoOhJDkn8CwbIh6YPAyRExZ6Dbsi9ImgjcHhHH7uPztABXRcSf9FjZhgSP0VsWJP0jxV8LJw50W4YySQsprnbKeWx+v+MevZlZ5jxGb2aWOQe9mVnmHPRmZplz0JuZZc5Bb2aWuf8PNy91KMhf3LEAAAAASUVORK5CYII=\n",
=======
      "image/png": "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\n",
>>>>>>> 3f0f93ee2809d9b5fbf62fedc34f7b428d7b58a4
=======
      "image/png": "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\n",
>>>>>>> 3f0f93ee2809d9b5fbf62fedc34f7b428d7b58a4
      "text/plain": [
       "<Figure size 432x288 with 1 Axes>"
      ]
     },
     "metadata": {
      "needs_background": "light"
     },
     "output_type": "display_data"
    },
    {
     "name": "stdout",
     "output_type": "stream",
     "text": [
      "\n",
      "Eligible orders are 0.26242236024844723 of the total\n"
     ]
    }
   ],
   "source": [
    "perc_serv_ord = orders_filtered.groupby(['Cap_eligibility', 'Inventory_av_eligibility']).Order_id.count().reset_index()\n",
    "perc_serv_ord['Percent'] = perc_serv_ord.Order_id / perc_serv_ord.Order_id.sum()\n",
    "\n",
    "display(perc_serv_ord)\n",
    "\n",
    "ax = plt.subplot()\n",
    "plt.bar(range(len(perc_serv_ord.Cap_eligibility)), perc_serv_ord.Percent)\n",
    "ax.set_xticks(range(len(perc_serv_ord)))\n",
    "ax.set_xticklabels(['No', 'Inv only', 'Cap only', 'Yes'])\n",
    "ax.set_yticks([0.05, 0.10, 0.15, 0.20, 0.25, 0.30, 0.35, 0.40, 0.45, 0.50])\n",
    "ax.set_yticklabels(['5%', '10%', '15%', '20%', '25%', '30%', '35%', '40%', '45%', '50%'])\n",
    "plt.title('Eligible orders')\n",
    "\n",
    "plt.show()\n",
    "\n",
    "print(\"\\nEligible orders are \" + str(perc_serv_ord.Percent[3]) + ' of the total')"
   ]
  },
  {
   "cell_type": "markdown",
   "metadata": {},
   "source": [
    "### 2. **Percentage of Blink Selection Rate**\n",
    "\n",
    "Description: % of people chosing Blink’s option when it is available at checkout.\n",
    "\n",
    "Recalling the **number of elibigle orders** of Blink from the previous section:"
   ]
  },
  {
   "cell_type": "code",
<<<<<<< HEAD
<<<<<<< HEAD
   "execution_count": 6,
=======
   "execution_count": 32,
>>>>>>> 3f0f93ee2809d9b5fbf62fedc34f7b428d7b58a4
=======
   "execution_count": 32,
>>>>>>> 3f0f93ee2809d9b5fbf62fedc34f7b428d7b58a4
   "metadata": {},
   "outputs": [
    {
     "data": {
      "text/html": [
       "<div>\n",
       "<style scoped>\n",
       "    .dataframe tbody tr th:only-of-type {\n",
       "        vertical-align: middle;\n",
       "    }\n",
       "\n",
       "    .dataframe tbody tr th {\n",
       "        vertical-align: top;\n",
       "    }\n",
       "\n",
       "    .dataframe thead th {\n",
       "        text-align: right;\n",
       "    }\n",
       "</style>\n",
       "<table border=\"1\" class=\"dataframe\">\n",
       "  <thead>\n",
       "    <tr style=\"text-align: right;\">\n",
       "      <th></th>\n",
       "      <th>Cap_eligibility</th>\n",
       "      <th>Inventory_av_eligibility</th>\n",
       "      <th>Order_id</th>\n",
       "      <th>Percent</th>\n",
       "    </tr>\n",
       "  </thead>\n",
       "  <tbody>\n",
       "    <tr>\n",
<<<<<<< HEAD
<<<<<<< HEAD
       "      <th>0</th>\n",
=======
       "      <td>0</td>\n",
>>>>>>> 3f0f93ee2809d9b5fbf62fedc34f7b428d7b58a4
=======
       "      <td>0</td>\n",
>>>>>>> 3f0f93ee2809d9b5fbf62fedc34f7b428d7b58a4
       "      <td>0.0</td>\n",
       "      <td>0.0</td>\n",
       "      <td>303</td>\n",
       "      <td>0.235248</td>\n",
       "    </tr>\n",
       "    <tr>\n",
<<<<<<< HEAD
<<<<<<< HEAD
       "      <th>1</th>\n",
=======
       "      <td>1</td>\n",
>>>>>>> 3f0f93ee2809d9b5fbf62fedc34f7b428d7b58a4
=======
       "      <td>1</td>\n",
>>>>>>> 3f0f93ee2809d9b5fbf62fedc34f7b428d7b58a4
       "      <td>0.0</td>\n",
       "      <td>1.0</td>\n",
       "      <td>319</td>\n",
       "      <td>0.247671</td>\n",
       "    </tr>\n",
       "    <tr>\n",
<<<<<<< HEAD
<<<<<<< HEAD
       "      <th>2</th>\n",
=======
       "      <td>2</td>\n",
>>>>>>> 3f0f93ee2809d9b5fbf62fedc34f7b428d7b58a4
=======
       "      <td>2</td>\n",
>>>>>>> 3f0f93ee2809d9b5fbf62fedc34f7b428d7b58a4
       "      <td>1.0</td>\n",
       "      <td>0.0</td>\n",
       "      <td>328</td>\n",
       "      <td>0.254658</td>\n",
       "    </tr>\n",
       "    <tr>\n",
<<<<<<< HEAD
<<<<<<< HEAD
       "      <th>3</th>\n",
=======
       "      <td>3</td>\n",
>>>>>>> 3f0f93ee2809d9b5fbf62fedc34f7b428d7b58a4
=======
       "      <td>3</td>\n",
>>>>>>> 3f0f93ee2809d9b5fbf62fedc34f7b428d7b58a4
       "      <td>1.0</td>\n",
       "      <td>1.0</td>\n",
       "      <td>338</td>\n",
       "      <td>0.262422</td>\n",
       "    </tr>\n",
       "  </tbody>\n",
       "</table>\n",
       "</div>"
      ],
      "text/plain": [
       "   Cap_eligibility  Inventory_av_eligibility  Order_id   Percent\n",
       "0              0.0                       0.0       303  0.235248\n",
       "1              0.0                       1.0       319  0.247671\n",
       "2              1.0                       0.0       328  0.254658\n",
       "3              1.0                       1.0       338  0.262422"
      ]
     },
     "metadata": {},
     "output_type": "display_data"
    },
    {
     "name": "stdout",
     "output_type": "stream",
     "text": [
      "The number of eligible orders for blink are: 338\n"
     ]
    }
   ],
   "source": [
    "display(perc_serv_ord)\n",
    "\n",
    "print(\"The number of eligible orders for blink are:\", perc_serv_ord.Order_id[3])"
   ]
  },
  {
   "cell_type": "markdown",
   "metadata": {},
   "source": [
    "Here we're going to find the number of **shipping made with Blink**"
   ]
  },
  {
   "cell_type": "code",
<<<<<<< HEAD
<<<<<<< HEAD
   "execution_count": 7,
=======
   "execution_count": 36,
>>>>>>> 3f0f93ee2809d9b5fbf62fedc34f7b428d7b58a4
=======
   "execution_count": 36,
>>>>>>> 3f0f93ee2809d9b5fbf62fedc34f7b428d7b58a4
   "metadata": {},
   "outputs": [
    {
     "data": {
      "text/html": [
       "<div>\n",
       "<style scoped>\n",
       "    .dataframe tbody tr th:only-of-type {\n",
       "        vertical-align: middle;\n",
       "    }\n",
       "\n",
       "    .dataframe tbody tr th {\n",
       "        vertical-align: top;\n",
       "    }\n",
       "\n",
       "    .dataframe thead th {\n",
       "        text-align: right;\n",
       "    }\n",
       "</style>\n",
       "<table border=\"1\" class=\"dataframe\">\n",
       "  <thead>\n",
       "    <tr style=\"text-align: right;\">\n",
       "      <th></th>\n",
       "      <th>Blink_shipping</th>\n",
       "      <th>Order_id</th>\n",
       "      <th>Percent</th>\n",
       "    </tr>\n",
       "  </thead>\n",
       "  <tbody>\n",
       "    <tr>\n",
<<<<<<< HEAD
<<<<<<< HEAD
       "      <th>0</th>\n",
=======
       "      <td>0</td>\n",
>>>>>>> 3f0f93ee2809d9b5fbf62fedc34f7b428d7b58a4
=======
       "      <td>0</td>\n",
>>>>>>> 3f0f93ee2809d9b5fbf62fedc34f7b428d7b58a4
       "      <td>0.0</td>\n",
       "      <td>1272</td>\n",
       "      <td>0.987578</td>\n",
       "    </tr>\n",
       "    <tr>\n",
<<<<<<< HEAD
<<<<<<< HEAD
       "      <th>1</th>\n",
=======
       "      <td>1</td>\n",
>>>>>>> 3f0f93ee2809d9b5fbf62fedc34f7b428d7b58a4
=======
       "      <td>1</td>\n",
>>>>>>> 3f0f93ee2809d9b5fbf62fedc34f7b428d7b58a4
       "      <td>1.0</td>\n",
       "      <td>16</td>\n",
       "      <td>0.012422</td>\n",
       "    </tr>\n",
       "  </tbody>\n",
       "</table>\n",
       "</div>"
      ],
      "text/plain": [
       "   Blink_shipping  Order_id   Percent\n",
       "0             0.0      1272  0.987578\n",
       "1             1.0        16  0.012422"
      ]
     },
     "metadata": {},
     "output_type": "display_data"
    },
    {
     "data": {
<<<<<<< HEAD
<<<<<<< HEAD
      "image/png": "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\n",
=======
      "image/png": "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\n",
>>>>>>> 3f0f93ee2809d9b5fbf62fedc34f7b428d7b58a4
=======
      "image/png": "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\n",
>>>>>>> 3f0f93ee2809d9b5fbf62fedc34f7b428d7b58a4
      "text/plain": [
       "<Figure size 432x288 with 1 Axes>"
      ]
     },
     "metadata": {
      "needs_background": "light"
     },
     "output_type": "display_data"
    },
    {
     "name": "stdout",
     "output_type": "stream",
     "text": [
      "The number of orders made with blink are: 16\n"
     ]
    }
   ],
   "source": [
    "blink_shipp_choice = orders_filtered.groupby(['Blink_shipping']).Order_id.count().reset_index()\n",
    "\n",
    "blink_shipp_choice['Percent'] = blink_shipp_choice.Order_id / blink_shipp_choice.Order_id.sum()\n",
    "\n",
    "display(blink_shipp_choice)\n",
    "\n",
    "ax = plt.subplot()\n",
    "\n",
    "plt.bar(range(len(blink_shipp_choice.Blink_shipping)), blink_shipp_choice.Percent)\n",
    "ax.set_xticks(range(len(blink_shipp_choice)))\n",
    "ax.set_xticklabels(['No','Yes'])\n",
    "ax.set_yticks([0.10,0.20,0.30,0.40,0.50,0.60,0.70,0.80,0.90,1])\n",
    "ax.set_yticklabels(['10%','20%','30%','40%','50%','60%','70%','80%','90%','100%'])\n",
    "plt.title('Orders made with Blink')\n",
    "plt.show()\n",
    "\n",
    "print(\"The number of orders made with blink are:\", blink_shipp_choice.Order_id[1])"
   ]
  },
  {
   "cell_type": "code",
<<<<<<< HEAD
<<<<<<< HEAD
   "execution_count": 8,
=======
   "execution_count": 38,
>>>>>>> 3f0f93ee2809d9b5fbf62fedc34f7b428d7b58a4
=======
   "execution_count": 38,
>>>>>>> 3f0f93ee2809d9b5fbf62fedc34f7b428d7b58a4
   "metadata": {},
   "outputs": [
    {
     "name": "stdout",
     "output_type": "stream",
     "text": [
      "The selection rate of Blink is: 0.047337278106508875\n"
     ]
    }
   ],
   "source": [
    "selection_rate = ( blink_shipp_choice.Order_id[1] / perc_serv_ord.Order_id[3])\n",
    "\n",
    "print(\"The selection rate of Blink is:\", selection_rate)"
   ]
  },
  {
   "cell_type": "markdown",
   "metadata": {},
   "source": [
    "### 3. **Increase or decrease in average basket size**\n",
    "Description: **Ratio between the basket size** of customers using Blink and Non-Blink. "
   ]
  },
  {
   "cell_type": "code",
<<<<<<< HEAD
<<<<<<< HEAD
   "execution_count": 9,
=======
   "execution_count": 68,
>>>>>>> 3f0f93ee2809d9b5fbf62fedc34f7b428d7b58a4
=======
   "execution_count": 68,
>>>>>>> 3f0f93ee2809d9b5fbf62fedc34f7b428d7b58a4
   "metadata": {},
   "outputs": [
    {
     "data": {
      "text/html": [
       "<div>\n",
       "<style scoped>\n",
       "    .dataframe tbody tr th:only-of-type {\n",
       "        vertical-align: middle;\n",
       "    }\n",
       "\n",
       "    .dataframe tbody tr th {\n",
       "        vertical-align: top;\n",
       "    }\n",
       "\n",
       "    .dataframe thead th {\n",
       "        text-align: right;\n",
       "    }\n",
       "</style>\n",
       "<table border=\"1\" class=\"dataframe\">\n",
       "  <thead>\n",
       "    <tr style=\"text-align: right;\">\n",
       "      <th></th>\n",
       "      <th>Blink_shipping</th>\n",
       "      <th>Lineitem_quantity</th>\n",
       "      <th>Percent</th>\n",
       "    </tr>\n",
       "  </thead>\n",
       "  <tbody>\n",
       "    <tr>\n",
<<<<<<< HEAD
<<<<<<< HEAD
       "      <th>0</th>\n",
=======
       "      <td>0</td>\n",
>>>>>>> 3f0f93ee2809d9b5fbf62fedc34f7b428d7b58a4
=======
       "      <td>0</td>\n",
>>>>>>> 3f0f93ee2809d9b5fbf62fedc34f7b428d7b58a4
       "      <td>0.0</td>\n",
       "      <td>1.587188</td>\n",
       "      <td>0.495982</td>\n",
       "    </tr>\n",
       "    <tr>\n",
<<<<<<< HEAD
<<<<<<< HEAD
       "      <th>1</th>\n",
=======
       "      <td>1</td>\n",
>>>>>>> 3f0f93ee2809d9b5fbf62fedc34f7b428d7b58a4
=======
       "      <td>1</td>\n",
>>>>>>> 3f0f93ee2809d9b5fbf62fedc34f7b428d7b58a4
       "      <td>1.0</td>\n",
       "      <td>1.612903</td>\n",
       "      <td>0.504018</td>\n",
       "    </tr>\n",
       "  </tbody>\n",
       "</table>\n",
       "</div>"
      ],
      "text/plain": [
       "   Blink_shipping  Lineitem_quantity   Percent\n",
       "0             0.0           1.587188  0.495982\n",
       "1             1.0           1.612903  0.504018"
      ]
     },
     "metadata": {},
     "output_type": "display_data"
    },
    {
     "name": "stdout",
     "output_type": "stream",
     "text": [
      "The ratio of the basket size between Blink and non Blink is: 1.0162019233186044\n"
     ]
    }
   ],
   "source": [
    "cart_quantity_customer = orders.groupby('Blink_shipping').Lineitem_quantity.mean().reset_index()\n",
    "\n",
    "cart_quantity_customer['Percent'] = cart_quantity_customer.Lineitem_quantity / cart_quantity_customer.Lineitem_quantity.sum()\n",
    "\n",
    "display(cart_quantity_customer)\n",
    "\n",
    "ratio_basket_size = cart_quantity_customer.Lineitem_quantity[1] / cart_quantity_customer.Lineitem_quantity[0]\n",
    "print(\"The ratio of the basket size between Blink and non Blink is:\", ratio_basket_size)"
   ]
  },
  {
   "cell_type": "markdown",
   "metadata": {},
   "source": [
    "Evolution over time:"
   ]
  },
  {
   "cell_type": "code",
<<<<<<< HEAD
<<<<<<< HEAD
   "execution_count": 10,
=======
   "execution_count": 60,
>>>>>>> 3f0f93ee2809d9b5fbf62fedc34f7b428d7b58a4
=======
   "execution_count": 60,
>>>>>>> 3f0f93ee2809d9b5fbf62fedc34f7b428d7b58a4
   "metadata": {},
   "outputs": [
    {
     "data": {
      "text/html": [
       "<div>\n",
       "<style scoped>\n",
       "    .dataframe tbody tr th:only-of-type {\n",
       "        vertical-align: middle;\n",
       "    }\n",
       "\n",
       "    .dataframe tbody tr th {\n",
       "        vertical-align: top;\n",
       "    }\n",
       "\n",
       "    .dataframe thead th {\n",
       "        text-align: right;\n",
       "    }\n",
       "</style>\n",
       "<table border=\"1\" class=\"dataframe\">\n",
       "  <thead>\n",
       "    <tr style=\"text-align: right;\">\n",
       "      <th>ym_code</th>\n",
       "      <th>Blink_shipping</th>\n",
       "      <th>21Dec</th>\n",
       "      <th>21Nov</th>\n",
       "      <th>22Jan</th>\n",
       "    </tr>\n",
       "  </thead>\n",
       "  <tbody>\n",
       "    <tr>\n",
<<<<<<< HEAD
<<<<<<< HEAD
       "      <th>0</th>\n",
=======
       "      <td>0</td>\n",
>>>>>>> 3f0f93ee2809d9b5fbf62fedc34f7b428d7b58a4
=======
       "      <td>0</td>\n",
>>>>>>> 3f0f93ee2809d9b5fbf62fedc34f7b428d7b58a4
       "      <td>0.0</td>\n",
       "      <td>1.440529</td>\n",
       "      <td>1.491694</td>\n",
       "      <td>1.446809</td>\n",
       "    </tr>\n",
       "    <tr>\n",
<<<<<<< HEAD
<<<<<<< HEAD
       "      <th>1</th>\n",
=======
       "      <td>1</td>\n",
>>>>>>> 3f0f93ee2809d9b5fbf62fedc34f7b428d7b58a4
=======
       "      <td>1</td>\n",
>>>>>>> 3f0f93ee2809d9b5fbf62fedc34f7b428d7b58a4
       "      <td>1.0</td>\n",
       "      <td>NaN</td>\n",
       "      <td>NaN</td>\n",
       "      <td>2.000000</td>\n",
       "    </tr>\n",
       "  </tbody>\n",
       "</table>\n",
       "</div>"
      ],
      "text/plain": [
       "ym_code  Blink_shipping     21Dec     21Nov     22Jan\n",
       "0                   0.0  1.440529  1.491694  1.446809\n",
       "1                   1.0       NaN       NaN  2.000000"
      ]
     },
     "metadata": {},
     "output_type": "display_data"
    }
   ],
   "source": [
    "ratio_rev_time = orders_filtered.groupby(['ym_code', 'Blink_shipping']).Lineitem_quantity.mean().reset_index()\n",
    "prt_pivot = ratio_rev_time.pivot(\n",
    "    columns = 'ym_code',\n",
    "    index = 'Blink_shipping',\n",
    "    values = 'Lineitem_quantity').reset_index()\n",
    "\n",
    "display(prt_pivot)"
   ]
  },
  {
   "cell_type": "markdown",
   "metadata": {},
   "source": [
    "The **ratio between the basket size in terms of price** of customers using Blink and Non-Blink. "
   ]
  },
  {
   "cell_type": "code",
<<<<<<< HEAD
<<<<<<< HEAD
   "execution_count": 11,
=======
   "execution_count": 66,
>>>>>>> 3f0f93ee2809d9b5fbf62fedc34f7b428d7b58a4
=======
   "execution_count": 66,
>>>>>>> 3f0f93ee2809d9b5fbf62fedc34f7b428d7b58a4
   "metadata": {},
   "outputs": [
    {
     "data": {
      "text/html": [
       "<div>\n",
       "<style scoped>\n",
       "    .dataframe tbody tr th:only-of-type {\n",
       "        vertical-align: middle;\n",
       "    }\n",
       "\n",
       "    .dataframe tbody tr th {\n",
       "        vertical-align: top;\n",
       "    }\n",
       "\n",
       "    .dataframe thead th {\n",
       "        text-align: right;\n",
       "    }\n",
       "</style>\n",
       "<table border=\"1\" class=\"dataframe\">\n",
       "  <thead>\n",
       "    <tr style=\"text-align: right;\">\n",
       "      <th></th>\n",
       "      <th>Blink_shipping</th>\n",
       "      <th>Lineitem_price</th>\n",
       "    </tr>\n",
       "  </thead>\n",
       "  <tbody>\n",
       "    <tr>\n",
<<<<<<< HEAD
<<<<<<< HEAD
       "      <th>0</th>\n",
=======
       "      <td>0</td>\n",
>>>>>>> 3f0f93ee2809d9b5fbf62fedc34f7b428d7b58a4
=======
       "      <td>0</td>\n",
>>>>>>> 3f0f93ee2809d9b5fbf62fedc34f7b428d7b58a4
       "      <td>0.0</td>\n",
       "      <td>17.789302</td>\n",
       "    </tr>\n",
       "    <tr>\n",
<<<<<<< HEAD
<<<<<<< HEAD
       "      <th>1</th>\n",
=======
       "      <td>1</td>\n",
>>>>>>> 3f0f93ee2809d9b5fbf62fedc34f7b428d7b58a4
=======
       "      <td>1</td>\n",
>>>>>>> 3f0f93ee2809d9b5fbf62fedc34f7b428d7b58a4
       "      <td>1.0</td>\n",
       "      <td>12.065000</td>\n",
       "    </tr>\n",
       "  </tbody>\n",
       "</table>\n",
       "</div>"
      ],
      "text/plain": [
       "   Blink_shipping  Lineitem_price\n",
       "0             0.0       17.789302\n",
       "1             1.0       12.065000"
      ]
     },
     "metadata": {},
     "output_type": "display_data"
    },
    {
     "name": "stdout",
     "output_type": "stream",
     "text": [
<<<<<<< HEAD
<<<<<<< HEAD
      "The ratio of the basket size (price) between Blink and non Blink is: 0.6782165855720387\n"
=======
      "The ratio of the basket size (price) between Blink and non Blink is: 0.6782165855720576\n"
>>>>>>> 3f0f93ee2809d9b5fbf62fedc34f7b428d7b58a4
=======
      "The ratio of the basket size (price) between Blink and non Blink is: 0.6782165855720576\n"
>>>>>>> 3f0f93ee2809d9b5fbf62fedc34f7b428d7b58a4
     ]
    }
   ],
   "source": [
    "ratio_price_customer = orders.groupby('Blink_shipping').Lineitem_price.mean().reset_index()\n",
    "\n",
    "display(ratio_price_customer)\n",
    "\n",
    "ratio_basket_size_price = ratio_price_customer.Lineitem_price[1] / ratio_price_customer.Lineitem_price[0]\n",
    "print(\"The ratio of the basket size (price) between Blink and non Blink is:\", ratio_basket_size_price)"
   ]
  },
  {
   "cell_type": "markdown",
   "metadata": {},
   "source": [
    "The **delta between the basket size in terms of price** of customers using Non-Blink and Blink. "
   ]
  },
  {
   "cell_type": "code",
<<<<<<< HEAD
<<<<<<< HEAD
   "execution_count": 12,
=======
   "execution_count": 67,
>>>>>>> 3f0f93ee2809d9b5fbf62fedc34f7b428d7b58a4
=======
   "execution_count": 67,
>>>>>>> 3f0f93ee2809d9b5fbf62fedc34f7b428d7b58a4
   "metadata": {},
   "outputs": [
    {
     "data": {
      "text/html": [
       "<div>\n",
       "<style scoped>\n",
       "    .dataframe tbody tr th:only-of-type {\n",
       "        vertical-align: middle;\n",
       "    }\n",
       "\n",
       "    .dataframe tbody tr th {\n",
       "        vertical-align: top;\n",
       "    }\n",
       "\n",
       "    .dataframe thead th {\n",
       "        text-align: right;\n",
       "    }\n",
       "</style>\n",
       "<table border=\"1\" class=\"dataframe\">\n",
       "  <thead>\n",
       "    <tr style=\"text-align: right;\">\n",
       "      <th></th>\n",
       "      <th>Blink_shipping</th>\n",
       "      <th>Lineitem_price</th>\n",
       "    </tr>\n",
       "  </thead>\n",
       "  <tbody>\n",
       "    <tr>\n",
<<<<<<< HEAD
<<<<<<< HEAD
       "      <th>0</th>\n",
=======
       "      <td>0</td>\n",
>>>>>>> 3f0f93ee2809d9b5fbf62fedc34f7b428d7b58a4
=======
       "      <td>0</td>\n",
>>>>>>> 3f0f93ee2809d9b5fbf62fedc34f7b428d7b58a4
       "      <td>0.0</td>\n",
       "      <td>17.789302</td>\n",
       "    </tr>\n",
       "    <tr>\n",
<<<<<<< HEAD
<<<<<<< HEAD
       "      <th>1</th>\n",
=======
       "      <td>1</td>\n",
>>>>>>> 3f0f93ee2809d9b5fbf62fedc34f7b428d7b58a4
=======
       "      <td>1</td>\n",
>>>>>>> 3f0f93ee2809d9b5fbf62fedc34f7b428d7b58a4
       "      <td>1.0</td>\n",
       "      <td>12.065000</td>\n",
       "    </tr>\n",
       "  </tbody>\n",
       "</table>\n",
       "</div>"
      ],
      "text/plain": [
       "   Blink_shipping  Lineitem_price\n",
       "0             0.0       17.789302\n",
       "1             1.0       12.065000"
      ]
     },
     "metadata": {},
     "output_type": "display_data"
    },
    {
     "name": "stdout",
     "output_type": "stream",
     "text": [
<<<<<<< HEAD
<<<<<<< HEAD
      "The delta of the basket size (price) between Blink and non Blink is: -5.724302498144942\n"
=======
      "The delta of the basket size (price) between Blink and non Blink is: -5.724302498144448\n"
>>>>>>> 3f0f93ee2809d9b5fbf62fedc34f7b428d7b58a4
=======
      "The delta of the basket size (price) between Blink and non Blink is: -5.724302498144448\n"
>>>>>>> 3f0f93ee2809d9b5fbf62fedc34f7b428d7b58a4
     ]
    }
   ],
   "source": [
    "delta_price_customer = orders.groupby('Blink_shipping').Lineitem_price.mean().reset_index()\n",
    "\n",
    "display(delta_price_customer)\n",
    "\n",
    "delta_basket_size_price = delta_price_customer.Lineitem_price[1] - delta_price_customer.Lineitem_price[0]\n",
    "print(\"The delta of the basket size (price) between Blink and non Blink is:\", delta_basket_size_price)"
   ]
  },
  {
   "cell_type": "markdown",
   "metadata": {},
   "source": [
    "### 4. Percentage of turnover through Blink orders\n",
    "Description: revenue from Blink orders divided by the total revenue"
   ]
  },
  {
   "cell_type": "code",
<<<<<<< HEAD
<<<<<<< HEAD
   "execution_count": 13,
=======
   "execution_count": 53,
>>>>>>> 3f0f93ee2809d9b5fbf62fedc34f7b428d7b58a4
=======
   "execution_count": 53,
>>>>>>> 3f0f93ee2809d9b5fbf62fedc34f7b428d7b58a4
   "metadata": {},
   "outputs": [
    {
     "data": {
      "text/html": [
       "<div>\n",
       "<style scoped>\n",
       "    .dataframe tbody tr th:only-of-type {\n",
       "        vertical-align: middle;\n",
       "    }\n",
       "\n",
       "    .dataframe tbody tr th {\n",
       "        vertical-align: top;\n",
       "    }\n",
       "\n",
       "    .dataframe thead th {\n",
       "        text-align: right;\n",
       "    }\n",
       "</style>\n",
       "<table border=\"1\" class=\"dataframe\">\n",
       "  <thead>\n",
       "    <tr style=\"text-align: right;\">\n",
       "      <th></th>\n",
       "      <th>Blink_shipping</th>\n",
       "      <th>Lineitem_price</th>\n",
       "      <th>Percent</th>\n",
       "    </tr>\n",
       "  </thead>\n",
       "  <tbody>\n",
       "    <tr>\n",
<<<<<<< HEAD
<<<<<<< HEAD
       "      <th>0</th>\n",
=======
       "      <td>0</td>\n",
>>>>>>> 3f0f93ee2809d9b5fbf62fedc34f7b428d7b58a4
=======
       "      <td>0</td>\n",
>>>>>>> 3f0f93ee2809d9b5fbf62fedc34f7b428d7b58a4
       "      <td>0.0</td>\n",
       "      <td>24867.41</td>\n",
       "      <td>0.990322</td>\n",
       "    </tr>\n",
       "    <tr>\n",
<<<<<<< HEAD
<<<<<<< HEAD
       "      <th>1</th>\n",
=======
       "      <td>1</td>\n",
>>>>>>> 3f0f93ee2809d9b5fbf62fedc34f7b428d7b58a4
=======
       "      <td>1</td>\n",
>>>>>>> 3f0f93ee2809d9b5fbf62fedc34f7b428d7b58a4
       "      <td>1.0</td>\n",
       "      <td>243.01</td>\n",
       "      <td>0.009678</td>\n",
       "    </tr>\n",
       "  </tbody>\n",
       "</table>\n",
       "</div>"
      ],
      "text/plain": [
       "   Blink_shipping  Lineitem_price   Percent\n",
       "0             0.0        24867.41  0.990322\n",
       "1             1.0          243.01  0.009678"
      ]
     },
     "metadata": {},
     "output_type": "display_data"
    },
    {
     "name": "stdout",
     "output_type": "stream",
     "text": [
      "\n",
<<<<<<< HEAD
<<<<<<< HEAD
      "Percentage of revenue through Blink is 0.009677655730170981\n"
=======
      "Percentage of revenue through Blink is 0.00967765573017073\n"
>>>>>>> 3f0f93ee2809d9b5fbf62fedc34f7b428d7b58a4
=======
      "Percentage of revenue through Blink is 0.00967765573017073\n"
>>>>>>> 3f0f93ee2809d9b5fbf62fedc34f7b428d7b58a4
     ]
    },
    {
     "data": {
      "text/plain": [
       "(-1.1036654276926332,\n",
       " 1.1001745446728661,\n",
       " -1.1052261703244126,\n",
       " 1.1021986928981802)"
      ]
     },
<<<<<<< HEAD
<<<<<<< HEAD
     "execution_count": 13,
=======
     "execution_count": 53,
>>>>>>> 3f0f93ee2809d9b5fbf62fedc34f7b428d7b58a4
=======
     "execution_count": 53,
>>>>>>> 3f0f93ee2809d9b5fbf62fedc34f7b428d7b58a4
     "metadata": {},
     "output_type": "execute_result"
    },
    {
     "data": {
<<<<<<< HEAD
<<<<<<< HEAD
      "image/png": "iVBORw0KGgoAAAANSUhEUgAAAV0AAADnCAYAAAC9roUQAAAAOXRFWHRTb2Z0d2FyZQBNYXRwbG90bGliIHZlcnNpb24zLjQuMywgaHR0cHM6Ly9tYXRwbG90bGliLm9yZy/MnkTPAAAACXBIWXMAAAsTAAALEwEAmpwYAAAZDUlEQVR4nO3deZgkZWHH8e8798zOzM7MzrLshqMAFxA5DUgABRHBaK1iOMRzATFEQDGAYAUjQoJQiQkgogbCsYsHghcbKC+yColZ5BARVhJWwUKOlb1g7nve/FENO7sszHRPd71d3b/P8/QzV3X3b+aZ+c3bb71VZay1iIhIOmpcBxARqSYqXRGRFKl0RURSpNIVEUmRSldEJEUqXRGRFKl0RURSpNIVEUmRSldEJEUqXRGRFKl0RURSpNIVEUmRSldEJEUqXRGRFKl0RURSVOc6gMjWvCDqAObnbttNeb8LqM1tZnJvJ4HhrW6bgGeAp4Fn4tAfSSu7yHSMTmIuafOCqAZYDOw75eaRFGs3UF/Ep7PAepICnnp7CngoDv3fF/G5RKal0pWS8oJoLrA/m8t1P+ANQIvDWFNtBB4A7gPuB+6PQ3+D20hSyVS6UlS5UeyBwDuBvwTeRPb2HTxJUsL3AXfFof+Y4zxSQVS6MmteEM0H3kFStMeQTBFUkjXAD3K3++PQ1x+NFEylKwXxgmgP4IPAu4A/Z/OOrUr3LHA7SQHfE4f+uNs4kjUqXZmx3KqC9wOnAAc7DVMeNgF3At8kmYbQH5NMS6Ur0/KC6M3AGcBxQJPjOOXqCeBa4CbtiJPXotKVbfKCqA34CEnZ7u04TpaMAN8BroxD/yHXYaT8qHRlC7kphHOBTwHtbtNk3t3AFcCdmnqQl6h0BQAviNqBvwXOATqchqk8jwMXA7eqfEWlW+W8IJoDnA18muQwWymdB4Dz49C/x3UQcUelW6W8IGoGzgIuIDn8VtJzJ/AZHXRRnVS6VcgLotOAS4HtXWepYhPAjcDn49Bf6zqMpEelW0W8IFoMXAe81XEU2WyAZGfbP8eh3+86jJSeSrcKeEFURzKN8Dm0zrZcPQWcEof+3a6DSGmpdCucF0QHAdeTnOFLypsFvgwEcegPuQ4jpaHSrVC5VQmXkqxMyNpZvqrd48DJcejf5zqIFJ9KtwJ5QfRWYBmws9skMgsTwD8BF8ehP+Y6jBSPSrfCeEF0PnA5my9rI9n2G2BpHPqPuA4ixaHSrRBeELUCNwEnuM4iRTcKnBuH/ldcB5HZU+lWAC+I9gS+D7zedRYpqa8BZ+scvtmm0s04L4iOI5m/bXMcRdKxEjgxDv0XXAeRwqh0M8oLolrgMpL1t1Jd1gDvjkN/jesgkj+Vbgblzgj2PeDtrrOIMy+QjHhXug4i+dH6zYzJXQTy56hwq10n8GMviM5wHUTyo5FuhnhBtDPwU2B311mkrFxFsrpBf8wZoNLNiNwKhbuAHVxnkbJ0LXCGirf8qXQzwAuiN5DstV7gOouUtRuA0+PQn3QdRF6dSrfMeUG0D0nh6kTjMhPLgY+qeMuXdqSVMS+I9gN+hgpXZu5k4FoviIzrILJtKt0y5QXRriRzuN2us0jmfAy40nUI2TaVbhnygqgT+CEa4UrhPuUF0aWuQ8grqXTLjBdEDcAPgD1cZ5HM+6wXRGe7DiFbUumWn+uBI1yHkIpxhRdER7kOIZupdMuIF0SfBz7iOodUlFrgVi+IdnEdRBJaMlYmvCD6CHCz6xxSsR4FDolDf8B1kGqnkW4Z8ILocJJpBZFS2QdYpqVk7ql0HfOCaCeSHWcNrrNIxTsB+KzrENVO0wsOeUFUQ3Lwg3acSVoscGwc+ne4DlKtNNJ163xUuJIuA3zDCyItSXREI11HvCA6APglmlYQN+4HDo1Df8J1kGqjka4DXhA1A99EhSvuvAk413WIaqTSdeOL6Mq94t4/eEGkE+KnTNMLKfOC6J0k51UQKQf/AxyuU0GmRyPdFOWub3aT6xwiUxwGfNJ1iGqi0k3XlejqD1J+LvOCaDfXIaqFphdS4gXRwcC9JEt2RMrNPcCRusZa6Wmkm54rUeFK+ToC+LjrENVAI90UeEH0AeBbrnOITGMDsGsc+n2ug1QyjXRLLLcmN3SdQ2QGuoHzXIeodCrd0jsP2Ml1CJEZOtcLIl2Xr4RUuiXkBdFCIHCdQyQPbcCFrkNUMpVuaX0BmOM6hEiezvSCaEfXISqVSrdEvCDaFzjZdQ6RAjQCF7sOUalUuqUToJ+vZNfJXhDt6TpEJVIplEDuIoDvc51DZBZqgUtdh6hEKt3S+DTJL61Ilh3vBdEbXIeoNCrdIsud1OZU1zlEiuRs1wEqjUq3+P4GaHYdQqRIPuwFUafrEJVEpVtEXhDVAWe4ziFSRC3Ax1yHqCQq3eI6HljkOoRIkZ2Zu3K1FIF+kMWlk0FLJfKAo12HqBQq3SLxgmgvkrPwi1QiTTEUiUq3eLQuVyrZe3Irc2SWVLrFc6LrACIl1AAsdR2iEqh0iyC3gHwv1zlESuyDrgNUApVucWiUK9XgAC+ItDpnllS6xaHSlWpggCWuQ2SdSneWNLUgVebdrgNknUp39jTKlWpyVO66f1Igle7sqXSlmjQDR7kOkWUq3VnwgmgxmlqQ6qMphllQ6c7Om10HEHFgiRdExnWIrFLpzo4O+5VqtAh4o+sQWaXSnZ1DXQcQcUQnwCmQSrdAXhB1Abpwn1SrP3cdIKtUuoU7hGSxuEg10vRCgVS6hdN8rlSzXb0g6nAdIotUuoVT6Uq102i3ACrdAnhBVA8c5DqHiGMq3QKodAuzH7rir4h2phVApVuY3V0HECkDGukWQKVbmF1cBxApA4u9IGpzHSJrVLqFUemKJEsm93MdImtUuoVR6YokdnIdIGtUuoVR6YokFroOkDUq3Tx5QVQL7Og6h0iZUOnmSaWbvx2AOtchRMqESjdPKt38aWpBZDOVbp5UuvlT6YpsptLNU9FL1xhjjTH/OuXjTxtjLi7SY8fGmEeNMQ/n3h475Wv9ubeLjDHfncFj9RcYQ79kIpvp7yFPpRjpjgDHGWO6S/DYAEdaa/cHTgCu3vqL1trnrLUnlOi5AbQYXGSzubo6cH5KUbrjwHXAOVt/wRizszFmpTHmkdzbnXKfX2aMudoYs8oY86QxZial2Q68sI3n8Iwxq3Pvn2KM+b4x5sfGmN8ZY/55G9t3G2PuNcb4M/z+Wme4XVH1PriC5244k+euP5PeB1YAMLruSdZ+/Tyeu+Es1n33EiZHBgEYfuYxnrvxE6xdfg5jLzwHwORwP8/f+jmstS7iS2XTaDcPpZrT/QrwIWPM3K0+fw1ws7V2X+CbbDlSXUhyocclQPgaj/3zXKneA/z9DLLsD5wE7AOcZIx5ebmXMWYBEAEXWWujGTwWOCjd0fUx/b/5CdsvvYKFH/0yQ0/cz9imZ9n4oy/TecQpLDrtK7Tsfgi9930PgN4HfsD89/4dHYcvpe/XPwTgxVXfZu4h78MYnXddiq7LdYAsKUnpWmt7gZuBs7f60iHAt3Lvf50tr6Z7u7V20lr7GLDgNR7+SGvt3iQleo0xZroSXGmt7bHWDgOPATvnPl8PrAQusNbeNe03tdmcPLYtirGNz9C4aE9q6pswNbU07rg3g7+7l7FNz9C4494ANHkHMLhmFQCmpg47PoodH8HU1DH2wlom+jbStNM+aUeX6qAllHko5eqFq4DTeO2Smvpad2TK+wbAGPOF3E6zh19xR2ufAJ4H9pomx9THnWDzL8g48CvgHdPcf2tNeW4/aw3dOzP89GomhnqZHBtm6MkHmejdQEP3zgz9/j4ABv/vF4z3bQBg7l+cyMYfX0Pvgytoe+MSXvyvm+l4y4fTji3VQ6Wbh5L9sKy1m4wxt5EU7425T68C3k8yyv0Q8ItpHuOzwGe39TVjzHYky7eeKjQi8FHgO8aYwFr7WlMaU6X+C1bfvSPtB5/Auls/h6lvomG7XaCmlnnv+hSb/vM6ev7nFppfdzCmJonWsGBXFi5NFpAMP72a2tbk1d/6Ff+Eqaml822nUTunM+1vQ2Zg6MlfsWnldTA5Set+xzD3L07khbtvYujJX9Gw3S50LzkPgP7VP2NyuI/2A4+d5hFTodLNQ6l/WP8KfGLKx2cDNxpjzgfWA6cW8Jg/N8ZMkEwPBNba5wsNZ62dMMa8H7jDGNNrrf3qDO5WW+jzzUbbfsfQtt8xALxwz3Lq2rqpn7cjC076RwDGNj3L0JMPbHEfay09q26l+9jPsOmur9Hx5g8y3rOO3l/dQefhS1P/HoqtheGBBsbGXOcoFjs5wdqfXtP+upMu7K9vnzf5u2UXts339hgcf/qR5r0+enl/vOJLLY3PPzrc2LVwcsMjP2rd7aQL+w19rmMzQe2M/yZyf7uPkryanQA+Ya1dZYzxgDuttXsbYw4Ellprt56enPo4L28/q/AOFL10rbWtU95/HmiZ8nEMvG0b9znl1R5jq8970z1v7jn2zr2/DFg2ZZsl29h+lPymGJz8V58YeJHaOR2M965jcM29bP+Rf3n5c9ZO0rPq27Tt/84t7jOweiXNux1IbVMrdmwETA0Yk7xfAQZpmjNBzfBc+vs6TX9/l+kb7KZnuNv0jHab3vF59EzMM32m0/SZdgZq28xQQzMjjY2MNtcz0VrLZCvQakx5XNX53qfHubh7hJ8s/Hw7wOX7jjD+1CVtd5oxftl4esfxDHHZnEcbbntonP0OreHYOWd1OI78kho4cabbDuWWfGKMeQdwOXDE1A2stQ8CDxYzYDnRy4L8OTmKb/3tlzE51Ac1tXQd/XFqm1rpfXAFfQ8liy5adj+UOfsc/fL2k2PD9K9eyYL3JSPh9oPey/ofXIapraP7PRe4+BZKYoSGpnV0Na2zXfMpYDVcDZMTbQz2dZq+/i76BuaZ3qFu0zM6j97RbtMzOc/0TnbRZzpMf20bQ3UtZrixmdGmesbm1DHZarDtxhTn7+jZPsuO7Zt/vXZoN9z37ATHv76eA64d4Khd6pjbaHjguQkuOqKxGE9ZLJMF3u/Vln2+Ffi0tXZJ7sCqnYBdc2+vstZevdX2uwLfA0631m75cq8MqXTzN+DiSbf/0CuWGNN+4LGvOqdXU9/E9h+4/OWPm3bcm0WnfaVk+bJqkpraHlo7emxrR8xCCinuFoYH5zLQ22mS0p5Hb2603TM+j147z/TSYfpNOwN1rWa4oYWRpgbGmuuZmFPDZLsxyavBbS2hNsAFhzVywWFJyX7sP4b4h7c2cv1Do/z0iXH2XVDL3x/uvIBH89i2ObdjvIlkmegrXvluw57AkSQHJj1ujPnaS18wxuwBfBs41Vr7cB45nFHp5u8V/5mlug3S1DJIU8taO6+g0q5lYnwuA7224aHRZzZ8v61u9MNruk3PyKo/rdy+qXbE/nBi5z92mT7z+z+ua/vTyLodujrb11575/rFqz7WtvED3+lb8PiGiZo9umc+r1oCw3lsO3V64RDgZmPMdPOykbV2BBgxxqxj85LS+cAK4Hhr7W/zzOyMSjd/Kl0pqglq6zbR3mX/7C282Pt17ti00wF1bfNY+8QKut99PmeO7bwLwLpfXELXOy7mLcON89eZS1g88sUd1vNFVg0eZzuHF/V1mv7+Tvr6u0zv8HzTM5ybIplIpkh6Tafpr2ljsK7VDDU0M9rUwFhLHROtNdg2Y2a1FHKwkDtZa+/NnS5g/jSbvtqyzx7gaeAwQKVbwTa5DiCVyeTm69fddhHYSVr3OZqG+cmxPINr7qVh+8XUtc0DoHHRnjx3w1nUb+fRsN1uZgDaBmxz2zPML2i03cDYSDsDvV2mb6DL9A7Oo2+o2/SMdZuesXn0Ts4zPXSafuYyUNdqhupbGG5qYqypnvE549S+WEhjG2P2JFkNtJEpO9zzMAq8F/iJMabfWvutabYvCyrd/GmkKyXTvNtB/NluB73i8y27H0LL7oe8/HHn206jk9OK9ryj1DduoGP+BttRyA7Jnnjm2zZPOdjJACfnlm7m/aQA1toBY8wS4C5jzIC1dkVBD5QioxOg5McLoqXActc5RMrEcBz6OstYHnQS8/xppCuy2UbXAbJGpZs/la7IZhtcB8galW7+VLoim613HSBrVLr5+5PrACJl5AnXAbJGpZunOPQ3ov/uIi/5X9cBskalW5jHXAcQKRMq3TypdAuTmaNfREpMpZsnlW5hNNIVgf449J92HSJrVLqF0UhXBP7PdYAsUukWRiNdEZVuQVS6BYhDfx1aFC6i+dwCqHQLp9GuVDuVbgFUuoVb7TqAiGMPuQ6QRSrdwv236wAiDj0Rh/5TrkNkkUq3cCsp6HTRIhXhZ64DZJVKt0Bx6K8HfuM6h4gjK10HyCqV7uz8p+sAIg5YNNItmEp3dlS6Uo0ezb3SkwKodGfnv9jySqUi1UBTC7Og0p2FOPSHgFWuc4ikTFMLs6DSnT1NMUg1GQfucR0iy1S6s3eX6wAiKbo3Dv0+1yGyTKU7ew8COr2dVItvuA6QdSrdWYpD3wK3uM4hkoJh4DbXIbJOpVsc33QdQCQFd8Sh/6LrEFmn0i2COPQfAR51nUOkxG52HaASqHSLR3NdUsnWAT92HaISqHSLZznJchqRSnRLHPr6/S4ClW6RxKH/PHCH6xwiJaKphSJR6RbXv7sOIFICq+PQ1wnLi0SlW1w/Af7oOoRIkd3oOkAlUekWURz6k8DVrnOIFNGLwPWuQ1QSlW7xfQ3Qae+kUnxVh/0Wl0q3yOLQHwSucJ1DpAiG0Su3olPplsY1wCbXIURmaXluVY4UkUq3BOLQ7weucp1DZBbGgMtdh6hEKt3SuRrocR1CpEA36RLrpaHSLZE49HvQfJhk0yjwBdchKpVKt7SuArTnV7Lmpjj0td68RFS6JRSH/ibgS65ziOShF7jEdYhKptItvcsBzY1JVlwUh/5a1yEqmUq3xHLrdj/hOofIDDxMstxRSkilm4I49O8EbnedQ+Q1WOCMOPQnXAepdCrd9JwN9LsOIfIqbohD/5euQ1QDlW5K4tB/GrjYdQ6RbdgAfMZ1iGqh0k3Xl4DfuA4hspUgt9JGUqDSTVHucicfJ5k/EykHq9D5clOl0k1Zbt7s31znEAEGgb+OQ1+DgBSpdN04D12yXdw7Kw79x1yHqDYqXQfi0B8CTkSHCIs7y+PQX+Y6RDVS6ToSh/7jwOmuc0hVegw403WIaqXSdSgO/W8DX3WdQ6rKAHBi7khJcUCl6945wIOuQ0jVOFPzuG4Za7Xj0jUviDzg10CH2yRS4ZbFoX+q6xDVTiPdMhCHfgycjNbvSun8FjjLdQhR6ZaNOPT/A7jUdQ6pSM8C79I8bnnQ9EKZ8YLoRkAvAaVYNgFv0Txu+dBIt/ycDkSuQ0hFGASWqHDLi0a6ZcgLohbgZ8DBrrNIZo0D74lD/0eug8iWNNItQ7m5t3ehQ4WlMBY4VYVbnlS6ZSp3qr23A4+7ziKZc24c+t9wHUK2TaVbxuLQXwccBfzBdRbJjMvj0L/KdQh5dSrdMheH/rPA24Dfu84iZe/SOPQvdB1CXpt2pGWEF0TzgTuBN7nOImXHkkwpXOU6iExPpZshuVUNtwJLXGeRsjEBnBaH/nLXQWRmNL2QIblVDe8FrnMcRcrDIPBXKtxs0Ug3o7wgugi4xHUOceZ5kgMfdIa6jFHpZpgXRKeSjHrrXGeRVD0G+LkTJUnGaHohw+LQvwl4N9DrOoukJgIOU+Fml0a6FcALol2AW9Bhw5VsFAji0L/SdRCZHY10K0Ac+n8A3gyE6Jy8legJ4FAVbmXQSLfCeEH0duBmYKHrLFIUtwB/E4e+rhxdIVS6FSh3IMUykpPmSDYNAmfHoX+D6yBSXJpeqEBx6K8nOYDiHJK5QMmW1cBBKtzKpJFuhfOCaH/g39BOtiwYAi4DvhiH/ojrMFIaKt0q4AWRIbnwZQgscBxHtu37JOdPeMp1ECktlW4V8YKoHfg88Emg3nEcSawBPhmH/k9dB5F0qHSrkBdErwe+BBztOksVGwD+EbgyDn3Nu1cRlW4V84Lor4ArAM9xlGpzG3BeHPrPuA4i6VPpVjkviJqAjwPnA4scx6lkE8B3gTAO/YcdZxGHVLoCgBdEjcCpwGfQyLeYRoDlJCsSdPUPUenKlrwgqgM+AJwL7O82Tab1kyzVuyIO/bWuw0j5UOnKq/KC6EiS8vUB4zhOVmwArgauiUP/BddhpPyodGVaXhAtBpaSjIB3cxynHE0Cd5Ecen17HPrDbuNIOVPpSl68IDoY+CDwPmB7x3Fc+y3wDeDruas2i0xLpSsF8YKoFjiSpICPA+a6TZSaNSQXB701Dv3fug4j2aPSlVnLrXx4J3AMcDiwF5UzB9wD/DdwN3BXHPqPuI0jWafSlaLzgqibpHwPB44A9iU7Z7TrZXPJ3g38Og79CZeBpLKodKXkvCDqILmyxRHAG4HFwA64Hw33kUwXPA78GpWspEClK054QdRMshLidSQlPPW2iOIV8ijwB5Jyfalg1wCPx6H/pyI9h8iMqXSl7OTmiDuBjim3dqARaJrydpJktPrSrXfrj7V8S8qNSldEJEVZ2bkhIlIRVLoiIilS6YqIpEilKyKSIpWuiEiKVLoiIilS6YqIpEilKyKSIpWuiEiKVLoiIilS6YqIpEilKyKSIpWuiEiKVLoiIilS6YqIpEilKyKSov8HtmhAsXcgKQcAAAAASUVORK5CYII=\n",
=======
      "image/png": "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\n",
>>>>>>> 3f0f93ee2809d9b5fbf62fedc34f7b428d7b58a4
=======
      "image/png": "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\n",
>>>>>>> 3f0f93ee2809d9b5fbf62fedc34f7b428d7b58a4
      "text/plain": [
       "<Figure size 432x288 with 1 Axes>"
      ]
     },
     "metadata": {},
     "output_type": "display_data"
    }
   ],
   "source": [
    "perc_rev = orders_filtered.groupby(['Blink_shipping']).Lineitem_price.sum().reset_index()\n",
    "perc_rev['Percent'] = perc_rev.Lineitem_price / perc_rev.Lineitem_price.sum()\n",
    "\n",
    "display(perc_rev)\n",
    "\n",
    "print(\"\\nPercentage of revenue through Blink is \" + str(perc_rev.Percent[1]))\n",
    "\n",
    "plt.pie(perc_rev.Lineitem_price, labels = ['Non-Blink', 'Blink'], autopct = '%d%%')\n",
    "plt.axis('equal')"
   ]
  },
  {
   "cell_type": "markdown",
   "metadata": {},
   "source": [
    "Evolution over time"
   ]
  },
  {
   "cell_type": "code",
<<<<<<< HEAD
<<<<<<< HEAD
   "execution_count": 14,
=======
   "execution_count": 54,
>>>>>>> 3f0f93ee2809d9b5fbf62fedc34f7b428d7b58a4
=======
   "execution_count": 54,
>>>>>>> 3f0f93ee2809d9b5fbf62fedc34f7b428d7b58a4
   "metadata": {},
   "outputs": [
    {
     "data": {
      "text/html": [
       "<div>\n",
       "<style scoped>\n",
       "    .dataframe tbody tr th:only-of-type {\n",
       "        vertical-align: middle;\n",
       "    }\n",
       "\n",
       "    .dataframe tbody tr th {\n",
       "        vertical-align: top;\n",
       "    }\n",
       "\n",
       "    .dataframe thead th {\n",
       "        text-align: right;\n",
       "    }\n",
       "</style>\n",
       "<table border=\"1\" class=\"dataframe\">\n",
       "  <thead>\n",
       "    <tr style=\"text-align: right;\">\n",
       "      <th>ym_code</th>\n",
       "      <th>Blink_shipping</th>\n",
       "      <th>21Dec</th>\n",
       "      <th>21Nov</th>\n",
       "      <th>22Jan</th>\n",
       "    </tr>\n",
       "  </thead>\n",
       "  <tbody>\n",
       "    <tr>\n",
<<<<<<< HEAD
<<<<<<< HEAD
       "      <th>0</th>\n",
=======
       "      <td>0</td>\n",
>>>>>>> 3f0f93ee2809d9b5fbf62fedc34f7b428d7b58a4
=======
       "      <td>0</td>\n",
>>>>>>> 3f0f93ee2809d9b5fbf62fedc34f7b428d7b58a4
       "      <td>0.0</td>\n",
       "      <td>8013.48</td>\n",
       "      <td>9965.3</td>\n",
       "      <td>6888.63</td>\n",
       "    </tr>\n",
       "    <tr>\n",
<<<<<<< HEAD
<<<<<<< HEAD
       "      <th>1</th>\n",
=======
       "      <td>1</td>\n",
>>>>>>> 3f0f93ee2809d9b5fbf62fedc34f7b428d7b58a4
=======
       "      <td>1</td>\n",
>>>>>>> 3f0f93ee2809d9b5fbf62fedc34f7b428d7b58a4
       "      <td>1.0</td>\n",
       "      <td>NaN</td>\n",
       "      <td>NaN</td>\n",
       "      <td>243.01</td>\n",
       "    </tr>\n",
       "  </tbody>\n",
       "</table>\n",
       "</div>"
      ],
      "text/plain": [
       "ym_code  Blink_shipping    21Dec   21Nov    22Jan\n",
       "0                   0.0  8013.48  9965.3  6888.63\n",
       "1                   1.0      NaN     NaN   243.01"
      ]
     },
     "metadata": {},
     "output_type": "display_data"
    }
   ],
   "source": [
    "perc_rev_time = orders_filtered.groupby(['ym_code', 'Blink_shipping']).Lineitem_price.sum().reset_index()\n",
    "prt_pivot = perc_rev_time.pivot(\n",
    "    columns = 'ym_code',\n",
    "    index = 'Blink_shipping',\n",
    "    values = 'Lineitem_price').reset_index()\n",
    "\n",
    "display(prt_pivot)"
   ]
  },
  {
   "cell_type": "markdown",
   "metadata": {},
   "source": [
    "### 5. Percentage increase on Conversion Rate\n",
    "Description: Ratio between Conversion Rate w/ Blink and Conversion Rate w/out Blink."
   ]
  },
  {
   "cell_type": "code",
<<<<<<< HEAD
<<<<<<< HEAD
   "execution_count": 15,
=======
   "execution_count": 57,
>>>>>>> 3f0f93ee2809d9b5fbf62fedc34f7b428d7b58a4
=======
   "execution_count": 57,
>>>>>>> 3f0f93ee2809d9b5fbf62fedc34f7b428d7b58a4
   "metadata": {},
   "outputs": [
    {
     "data": {
      "text/html": [
       "<div>\n",
       "<style scoped>\n",
       "    .dataframe tbody tr th:only-of-type {\n",
       "        vertical-align: middle;\n",
       "    }\n",
       "\n",
       "    .dataframe tbody tr th {\n",
       "        vertical-align: top;\n",
       "    }\n",
       "\n",
       "    .dataframe thead th {\n",
       "        text-align: right;\n",
       "    }\n",
       "</style>\n",
       "<table border=\"1\" class=\"dataframe\">\n",
       "  <thead>\n",
       "    <tr style=\"text-align: right;\">\n",
       "      <th></th>\n",
       "      <th>Blink_shown</th>\n",
       "      <th>Order_id</th>\n",
       "      <th>Session_id</th>\n",
       "      <th>conversion</th>\n",
       "    </tr>\n",
       "  </thead>\n",
       "  <tbody>\n",
       "    <tr>\n",
<<<<<<< HEAD
<<<<<<< HEAD
       "      <th>0</th>\n",
=======
       "      <td>0</td>\n",
>>>>>>> 3f0f93ee2809d9b5fbf62fedc34f7b428d7b58a4
=======
       "      <td>0</td>\n",
>>>>>>> 3f0f93ee2809d9b5fbf62fedc34f7b428d7b58a4
       "      <td>0</td>\n",
       "      <td>950</td>\n",
       "      <td>10675</td>\n",
       "      <td>0.088993</td>\n",
       "    </tr>\n",
       "    <tr>\n",
<<<<<<< HEAD
<<<<<<< HEAD
       "      <th>1</th>\n",
=======
       "      <td>1</td>\n",
>>>>>>> 3f0f93ee2809d9b5fbf62fedc34f7b428d7b58a4
=======
       "      <td>1</td>\n",
>>>>>>> 3f0f93ee2809d9b5fbf62fedc34f7b428d7b58a4
       "      <td>1</td>\n",
       "      <td>338</td>\n",
       "      <td>3592</td>\n",
       "      <td>0.094098</td>\n",
       "    </tr>\n",
       "  </tbody>\n",
       "</table>\n",
       "</div>"
      ],
      "text/plain": [
       "   Blink_shown  Order_id  Session_id  conversion\n",
       "0            0       950       10675    0.088993\n",
       "1            1       338        3592    0.094098"
      ]
     },
     "metadata": {},
     "output_type": "display_data"
    },
    {
     "name": "stdout",
     "output_type": "stream",
     "text": [
      "\n",
      "Percentage increase is 0.057364318368303746\n"
     ]
    },
    {
     "data": {
<<<<<<< HEAD
<<<<<<< HEAD
      "image/png": "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\n",
=======
      "image/png": "iVBORw0KGgoAAAANSUhEUgAAAXoAAAEICAYAAABRSj9aAAAABHNCSVQICAgIfAhkiAAAAAlwSFlzAAALEgAACxIB0t1+/AAAADh0RVh0U29mdHdhcmUAbWF0cGxvdGxpYiB2ZXJzaW9uMy4xLjEsIGh0dHA6Ly9tYXRwbG90bGliLm9yZy8QZhcZAAATYUlEQVR4nO3dfbQlVX3m8e9jGpUGBJUWGyMwEoPGNxyuiCIKYxYBlQE1RoUoCE6bF0eNqEOIIgoqcUVQly8sGFlAEBQVlIwYZDARGHC0G9sG01lhMECUFhoFRdHY0L/5o/bF4819v/0Cm+9nrbNOnV27qn51u+5z6uyqcztVhSSpXw/Z3AVIkjYug16SOmfQS1LnDHpJ6pxBL0mdM+glqXMGvTRLSb6S5PDNXYc0Vwa9NpkkhyZZnuRnSda04Hze5q5rtqrqwKo6a3PXkWSXJJVk0eauRQ8MBr02iSRvBT4MvB/YAdgJ+ARw8Oasa9T9JTiT/NbmrkF9Mei10SXZFngv8OdVdUFV/byq1lXV31XV21ufhyX5cJJb2uPDSR7W5u2b5PtJjk5yW/s08Lo2b68kPxwNxyQvTbKqTT8kyTFJbkjyoyTnJ3lUmzd+ZnxUkpuBryV5eJJzWt87k3wryQ6t/z8mef3Iet+Z5KZW09ltP0fXe3iSm5PcnuSvpvn5nJnkk0kuTvJzYL8kL07y7SQ/TfJvSY4fWeTy9nxn+3T0nLaeI5OsTnJHkkuS7Nzak+SUVudPkqxK8tQF/rPqAcSg16bwHODhwIXT9PkrYC9gd+AZwJ7AO0fmPxbYFngccBTw8SSPrKpvAD8H/stI30OBc9v0m4BDgBcAOwJ3AB+fsO0XAE8G/gA4vG3n8cCjgT8BfjFJvUe0x37AE4CtgY9N6PM8YDfghcBxSZ48zf4fCrwP2Aa4su3Ta4HtgBcDf5rkkNb3+e15u6rauqqubvOOBV4GLAGuAM5r/fZvy/xuW98rgR9NU4t6U1U+fGzUB3AY8MMZ+twAvGjk9R8AN7bpfRnCdtHI/NuAvdr0icAZbXobhpDcub1eDbxwZLmlwDpgEbALUMATRuYfCVwFPH2SGv8ReH2bvgz4s5F5u02y3t8emf9N4FVT7PuZwNkz/Hw+DJzSpsfXP/rz+Apw1MjrhwB3AzszvAn+C8Mb6UM29/HgY9M/PKPXpvAjYPsZxsB3BG4aeX1Ta7tvHVV1z8jruxnOomE4e39ZG+p5GXBNVY2va2fgwjYMcydD8N/LcJ1g3L+NTP8tcAnwmTaE9MEkW8yy3kUT1vvDKeqdzGgNJHl2kn9IsjbJTxg+WWw/zfI7Ax8Z2c8fAwEeV1VfY/i08XHg1iSnJXnENOtSZwx6bQpXA79kGEKZyi0MYTVup9Y2o6r6J4agPZDfHLaBIUAPrKrtRh4Pr6ofjK5iZF3rquo9VfV7wHOBlzAMocym3nuAW2dT82S7MeH1ucBFwOOralvgVIbgnqwvDPv5hgn7uWVVXdX266NVtQfwFIYhnLfPs049ABn02uiq6ifAcQzj6ockWZxkiyQHJvlg63Ye8M4kS5Js3/qfM4fNnMswHv984HMj7acC7xu5MLkkyZR3+iTZL8nT2sXdnzIMx9w7SdfzgL9I8p+SbM1wN9FnJ3zqWIhtgB9X1S+T7MnwBjZuLbCe4drAuFOBv0zylLYf2yZ5RZt+VvuEsAXDsNYvp9gndcqg1yZRVScDb2W4wLqW4Qz0jcAXW5cTgeXAKuBa4JrWNlvnMYzlf62qbh9p/wjDmfFXk9wFfAN49jTreSzweYaQXw18ncnfcM5gGOa5HPhXhvD873OodyZ/Bry31XwccP74jKq6m+HC7f9pQzV7VdWFwF8zDDn9FLiO4RMOwCOA0xkuRN/EMJT2NxuwVt3Ppcr/eESSeuYZvSR1bsagT/L4dvV/dZLvJnlzaz8+yQ+SrGyPF7X2vdsXMr6V5Hda23btCxyZbluSpA1vxqGbJEuBpVV1TZJtgBUMd0/8EfCzqvqbCf0vAP4Hw72+B1TV0Uk+BFxUVV/fCPsgSZrGjH/bo6rWAGva9F1JVjN8O3Eq64AtgcXAuiS7MtzLa8hL0mYwp4uxSXZhuMvgqQx3UBzBcHfCcuDoqrojye4Mt3r9AngNw9X9d1XV9dOsdxmwDGCrrbba40lPetI8dkWSHrxWrFhxe1UtmWzerIO+3Sv8deB9VXVB+0NPtzN8eeMEhuGdIycs83yGYZ5TW591DG8IU36pZGxsrJYvXz6rmiRJgyQrqmpssnmzuuumfdHiC8Cnq+oCgKq6tarurar1DPfo7jlhmTDcM30C8O72OIfhSy2SpE1kNnfdBPgUsLp96WW8felIt5cyfEFj1OHAl6vqDobx+vXtsXihRUuSZm82/9HC3gxj7dcmWdnajgVe3cbjC7gReMP4AkkWMwT9/q3pZIZPBL8CXr1BKpckzcps7rq5kl//MaVRF0+zzN0Mf6d7/PUVwNPmU6AkaWH8Zqwkdc6gl6TOGfSS1DmDXpI6Z9BLUucMeknqnEEvSZ0z6CWpcwa9JHXOoJekzhn0ktQ5g16SOmfQS1LnDHpJ6pxBL0mdM+glqXMGvSR1zqCXpM4Z9JLUOYNekjpn0EtS5wx6SeqcQS9JnTPoJalzBr0kdc6gl6TOGfSS1DmDXpI6Z9BLUucMeknqnEEvSZ0z6CWpcwa9JHXOoJekzhn0ktS5GYM+yeOT/EOS1Um+m+TNrf1RSS5Ncn17fmRrf3nrd0WSR7e2XZN8ZuPuiiRpMrM5o78HOLqqngzsBfx5kt8DjgEuq6onApe11wBHt35nA4e2thOBd23IwiVJszNj0FfVmqq6pk3fBawGHgccDJzVup0FHNKm1wMPAxYD65LsA6ypqus3cO2SpFlYNJfOSXYBngn8X2CHqloDw5tBkse0bu8BLgFuAf4YOB941QzrXQYsA9hpp53mUpIkaQazvhibZGvgC8BbquqnU/Wrqkurao+qOojhLP9iYLckn09yepLFkyxzWlWNVdXYkiVL5rEbkqSpzCrok2zBEPKfrqoLWvOtSZa2+UuB2yYssxg4HPgE8AHgSGAFcNiGKV2SNBuzuesmwKeA1VV18sisixiCnPb8pQmLvgP4SFWtA7YEimH8/j+c0UuSNp7ZjNHvDbwGuDbJytZ2LHAScH6So4CbgVeML5BkR2Csqo5vTR8CvgHcya8v2kqSNoEZg76qrgQyxewXTrHMLcBLRl5/DvjcfAqUJC2M34yVpM4Z9JLUOYNekjpn0EtS5wx6SeqcQS9JnTPoJalzBr0kdc6gl6TOGfSS1DmDXpI6Z9BLUucMeknqnEEvSZ0z6CWpcwa9JHXOoJekzhn0ktQ5g16SOmfQS1LnDHpJ6pxBL0mdM+glqXMGvSR1zqCXpM4Z9JLUOYNekjpn0EtS5wx6SeqcQS9JnTPoJalzBr0kdc6gl6TOGfSS1LkZgz7JGUluS3LdSNvxSX6QZGV7vKi1751kVZJvJfmd1rZdkkuSZOPthiRpKrM5oz8TOGCS9lOqavf2uLi1HQ28HDgW+NPW9i7g/VVVCy1WkjR3MwZ9VV0O/HiW61sHbAksBtYl2RV4XFV9ff4lSpIWYiFj9G9swzRnJHlka/sAcBrwFuBjwPsYzuinlWRZkuVJlq9du3YBJUmSJppv0H8S2BXYHVgDfAigqlZW1V5VtR/wBOAWIEk+m+ScJDtMtrKqOq2qxqpqbMmSJfMsSZI0mXkFfVXdWlX3VtV64HRgz9H57cLrO4ETgHe3xznAmxZWriRpruYV9EmWjrx8KXDdhC6HA1+uqjsYxuvXt8fi+WxPkjR/i2bqkOQ8YF9g+yTfZzg73zfJ7kABNwJvGOm/mCHo929NJwNfAH4FvHoD1i5JmoUZg76qJgvnT03T/25gv5HXVwBPm1d1kqQF85uxktQ5g16SOmfQS1LnDHpJ6pxBL0mdM+glqXMGvSR1zqCXpM4Z9JLUOYNekjpn0EtS5wx6SeqcQS9JnTPoJalzBr0kdc6gl6TOGfSS1DmDXpI6Z9BLUucMeknqnEEvSZ0z6CWpcwa9JHXOoJekzhn0ktQ5g16SOmfQS1LnDHpJ6pxBL0mdM+glqXMGvSR1zqCXpM4Z9JLUOYNekjpn0EtS52YM+iRnJLktyXUjbY9KcmmS69vzI1v7y5N8N8kVSR7d2nZN8pmNtwuSpOnM5oz+TOCACW3HAJdV1ROBy9prgKOBvYCzgUNb24nAuxZcqSRpXmYM+qq6HPjxhOaDgbPa9FnAIW16PfAwYDGwLsk+wJqqun7DlCtJmqtF81xuh6paA1BVa5I8prW/B7gEuAX4Y+B84FUzrSzJMmAZwE477TTPkiRJk9mgF2Or6tKq2qOqDmI4y78Y2C3J55OcnmTxFMudVlVjVTW2ZMmSDVmSJD3ozTfob02yFKA93zY6swX64cAngA8ARwIrgMPmX6okaT7mG/QXMQQ57flLE+a/A/hIVa0DtgSKYfx+0jN6SdLGM+MYfZLzgH2B7ZN8H3g3cBJwfpKjgJuBV4z03xEYq6rjW9OHgG8Ad/Lri7aSpE0kVbW5a/gNY2NjtXz58s1dhrTR7HLMlzd3CbqfuvGkF8972SQrqmpssnl+M1aSOmfQS1LnDHpJ6tx8vzB1v+X4p6aykPFP6YHMM3pJ6pxBL0mdM+glqXMGvSR1zqCXpM4Z9JLUOYNekjpn0EtS5wx6SeqcQS9JnTPoJalzBr0kdc6gl6TOGfSS1DmDXpI6Z9BLUucMeknqnEEvSZ0z6CWpcwa9JHXOoJekzhn0ktQ5g16SOmfQS1LnDHpJ6pxBL0mdM+glqXMGvSR1zqCXpM4Z9JLUuQUFfZIbk1ybZGWS5a3tr5OsSnL2SL/XJHnzQouVJM3dog2wjv2q6naAJNsCz62qpyf5dJKnAf8POAI4YANsS5I0Rxt66GY98NAkAbYE1gFvBz5aVes28LYkSbOw0KAv4KtJViRZVlV3AV8Avg38K/AT4FlV9aXpVpJkWZLlSZavXbt2gSVJkkYtdOhm76q6JcljgEuT/HNVfRD4IECS/wkcl+T1wP7Aqqo6ceJKquo04DSAsbGxWmBNkqQRCzqjr6pb2vNtwIXAnuPzkjyzTf4L8Nqq+iPgqUmeuJBtSpLmZt5Bn2SrJNuMTzOcsV830uUE4DhgC+C3Wtt6YPF8tylJmruFDN3sAFw4XHdlEXBuVf09QJJDgG+Nn/EnuTrJtQxDN99ZYM2SpDmYd9BX1feAZ0wx74vAF0devw1423y3JUmaP78ZK0mdM+glqXMGvSR1zqCXpM4Z9JLUOYNekjpn0EtS5wx6SeqcQS9JnTPoJalzBr0kdc6gl6TOGfSS1DmDXpI6Z9BLUucMeknqnEEvSZ0z6CWpcwa9JHXOoJekzhn0ktQ5g16SOmfQS1LnDHpJ6pxBL0mdM+glqXMGvSR1zqCXpM4Z9JLUOYNekjpn0EtS5wx6SeqcQS9JnTPoJalzBr0kdc6gl6TOGfSS1DmDXpI6l6ra3DX8hiRrgZs2dx2d2B64fXMXIU3DY3TD2bmqlkw2434X9NpwkiyvqrHNXYc0FY/RTcOhG0nqnEEvSZ0z6Pt22uYuQJqBx+gm4Bi9JHXOM3pJ6pxBL0mdM+jvh5L8ZZLD5rHcLkkOnWbeL5KsTPKdJFcl2a3N2zfJ/2rT/zXJMTNs577+0lQmO46THJFkbTsOv5vk80kWt3nHJ3lbm35vkt+fYf339df0DPr7p/2Br85juV2ASYO+uaGqdq+qZwBnAcdO7FBVF1XVSfPYtjTRVMfxZ9tx+BTgV8ArJ3aoquOq6n9v7AIfLAz6TSjJO5K8qU2fkuRrbfqFSc5p048AHlpVa5PsnOSyJKva806tz5lJ/nBkvT9rkycB+7Szpb+YoZxHAHdMUuMRST42sp2PtrP/741uc6T/s5J8O8kT5vwD0QPSXI/jadazCNiKyY/D+47xJDcmeU+Sa5Jcm+RJk/T/b0m+kmTLDbKTnTHoN63LgX3a9BiwdZItgOcBV7T23wcua9MfA86uqqcDnwY+OsP6jwGuaGdLp0wyf9f2JnAD8Fbg5FnUvLTV9xKGN5L7JHkucCpwcFV9bxbrUh/mehxP9MokK4EfAI8C/m4W27y9qv4z8EngN4ZrkrwROAg4pKp+MZcdebAw6DetFcAeSbYB/h24muEXZR9+/QtyAPCVNv0c4Nw2/bcMv0gLMT50syvwFmZ3D/MXq2p9Vf0TsMNI+5Pb8gdV1c0LrEsPLHM9jif6bFXtDjwWuBZ4+yy2ecHItncZaX8NcCDw8qr69znsw4OKQb8JVdU64EbgdcBVDL8U+wG7Aqtbtz2Bb061ivZ8D+3fLkmAh86jnIuA58+i3+gvT0am1wC/BJ45j23rAWwDHMfj6ymGs/m5HIf3AotG2q9jCP7fnlXxD1IG/aZ3OcNHz8sZfkH+BFhZVZXkKcA/V9W9re9VwKva9GHAlW36RmCPNn0wsEWbvgvYZpZ1PA+4YZ77AHAn8GLg/Un2XcB69MA0l+N4Ogs9Dr8NvAG4KMmOC1hP1wz6Te8KhnHvq6vqVoaz4vGPuwcCfz/S903A65KsYviI+ubWfjrwgiTfBJ4N/Ly1rwLuabdPTnYxdnyM/jvA+4HXL2RHWv0HAR9P8uyFrEsPOHM5jid6ZTsOVzF8IjxhIYVU1ZUMbzpfTrL9QtbVK/8Ewv1IkkuB11bVms1dizRfHsf3Pwa9JHXOoRtJ6pxBL0mdM+glqXMGvSR1zqCXpM4Z9JLUuf8P9rXVyu6eTZAAAAAASUVORK5CYII=\n",
>>>>>>> 3f0f93ee2809d9b5fbf62fedc34f7b428d7b58a4
=======
      "image/png": "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\n",
>>>>>>> 3f0f93ee2809d9b5fbf62fedc34f7b428d7b58a4
      "text/plain": [
       "<Figure size 432x288 with 1 Axes>"
      ]
     },
     "metadata": {
      "needs_background": "light"
     },
     "output_type": "display_data"
    }
   ],
   "source": [
    "def f(cap, inv):\n",
    "    if (cap == 1) & (inv == 1):\n",
    "        return 1\n",
    "    else:\n",
    "        return 0\n",
    "\n",
    "orders_new = orders_filtered\n",
    "orders_new['Blink_shown'] = orders_new.apply(lambda x: f(x.Cap_eligibility, x.Inventory_av_eligibility), axis = 1)\n",
    "\n",
    "sessions_new = sessions_filtered\n",
    "sessions_new['Blink_shown'] = sessions_new.apply(lambda x: f(x.Cap_eligibility, x.Inventory_av_eligibility), axis = 1)\n",
    "\n",
    "conversions = orders_new.groupby('Blink_shown').Order_id.count().reset_index()\n",
    "totals = sessions_new.groupby('Blink_shown').Session_id.count().reset_index()\n",
    "ratios = conversions.merge(totals, how = 'left')\n",
    "ratios['conversion'] = ratios.Order_id / ratios.Session_id\n",
    "\n",
    "display(ratios)\n",
    "print(\"\\nPercentage increase is \" + str((ratios.conversion[1] - ratios.conversion[0]) / ratios.conversion[0]))\n",
    "\n",
    "ax = plt.subplot()\n",
    "plt.bar(range(len(ratios.conversion)), ratios.conversion)\n",
    "ax.set_xticks(range(len(ratios)))\n",
    "ax.set_xticklabels(['w/out Blink', 'w/ Blink'])\n",
    "ax.set_yticks([0.05, 0.10, 0.15, 0.20, 0.25])\n",
    "ax.set_yticklabels(['5%', '10%', '15%', '20%', '25%'])\n",
    "plt.title('Conversion rates')\n",
    "plt.show()"
   ]
  },
  {
   "cell_type": "markdown",
   "metadata": {},
   "source": [
    "Evolution over time:"
   ]
  },
  {
   "cell_type": "code",
<<<<<<< HEAD
<<<<<<< HEAD
   "execution_count": 16,
=======
   "execution_count": 58,
>>>>>>> 3f0f93ee2809d9b5fbf62fedc34f7b428d7b58a4
=======
   "execution_count": 58,
>>>>>>> 3f0f93ee2809d9b5fbf62fedc34f7b428d7b58a4
   "metadata": {},
   "outputs": [
    {
     "data": {
      "text/html": [
       "<div>\n",
       "<style scoped>\n",
       "    .dataframe tbody tr th:only-of-type {\n",
       "        vertical-align: middle;\n",
       "    }\n",
       "\n",
       "    .dataframe tbody tr th {\n",
       "        vertical-align: top;\n",
       "    }\n",
       "\n",
       "    .dataframe thead th {\n",
       "        text-align: right;\n",
       "    }\n",
       "</style>\n",
       "<table border=\"1\" class=\"dataframe\">\n",
       "  <thead>\n",
       "    <tr style=\"text-align: right;\">\n",
       "      <th></th>\n",
       "      <th>ym_code</th>\n",
       "      <th>Blink_shown</th>\n",
       "      <th>Order_id</th>\n",
       "      <th>Session_id</th>\n",
       "      <th>conversion</th>\n",
       "    </tr>\n",
       "  </thead>\n",
       "  <tbody>\n",
       "    <tr>\n",
<<<<<<< HEAD
<<<<<<< HEAD
       "      <th>0</th>\n",
=======
       "      <td>0</td>\n",
>>>>>>> 3f0f93ee2809d9b5fbf62fedc34f7b428d7b58a4
=======
       "      <td>0</td>\n",
>>>>>>> 3f0f93ee2809d9b5fbf62fedc34f7b428d7b58a4
       "      <td>21Dec</td>\n",
       "      <td>0</td>\n",
       "      <td>343.0</td>\n",
       "      <td>676</td>\n",
       "      <td>0.507396</td>\n",
       "    </tr>\n",
       "    <tr>\n",
<<<<<<< HEAD
<<<<<<< HEAD
       "      <th>1</th>\n",
=======
       "      <td>1</td>\n",
>>>>>>> 3f0f93ee2809d9b5fbf62fedc34f7b428d7b58a4
=======
       "      <td>1</td>\n",
>>>>>>> 3f0f93ee2809d9b5fbf62fedc34f7b428d7b58a4
       "      <td>21Dec</td>\n",
       "      <td>1</td>\n",
       "      <td>111.0</td>\n",
       "      <td>213</td>\n",
       "      <td>0.521127</td>\n",
       "    </tr>\n",
       "    <tr>\n",
<<<<<<< HEAD
<<<<<<< HEAD
       "      <th>2</th>\n",
=======
       "      <td>2</td>\n",
>>>>>>> 3f0f93ee2809d9b5fbf62fedc34f7b428d7b58a4
=======
       "      <td>2</td>\n",
>>>>>>> 3f0f93ee2809d9b5fbf62fedc34f7b428d7b58a4
       "      <td>21Nov</td>\n",
       "      <td>0</td>\n",
       "      <td>227.0</td>\n",
       "      <td>620</td>\n",
       "      <td>0.366129</td>\n",
       "    </tr>\n",
       "    <tr>\n",
<<<<<<< HEAD
<<<<<<< HEAD
       "      <th>3</th>\n",
=======
       "      <td>3</td>\n",
>>>>>>> 3f0f93ee2809d9b5fbf62fedc34f7b428d7b58a4
=======
       "      <td>3</td>\n",
>>>>>>> 3f0f93ee2809d9b5fbf62fedc34f7b428d7b58a4
       "      <td>21Nov</td>\n",
       "      <td>1</td>\n",
       "      <td>74.0</td>\n",
       "      <td>192</td>\n",
       "      <td>0.385417</td>\n",
       "    </tr>\n",
       "    <tr>\n",
<<<<<<< HEAD
<<<<<<< HEAD
       "      <th>4</th>\n",
=======
       "      <td>4</td>\n",
>>>>>>> 3f0f93ee2809d9b5fbf62fedc34f7b428d7b58a4
=======
       "      <td>4</td>\n",
>>>>>>> 3f0f93ee2809d9b5fbf62fedc34f7b428d7b58a4
       "      <td>22Jan</td>\n",
       "      <td>0</td>\n",
       "      <td>380.0</td>\n",
       "      <td>923</td>\n",
       "      <td>0.411701</td>\n",
       "    </tr>\n",
       "    <tr>\n",
<<<<<<< HEAD
<<<<<<< HEAD
       "      <th>5</th>\n",
=======
       "      <td>5</td>\n",
>>>>>>> 3f0f93ee2809d9b5fbf62fedc34f7b428d7b58a4
=======
       "      <td>5</td>\n",
>>>>>>> 3f0f93ee2809d9b5fbf62fedc34f7b428d7b58a4
       "      <td>22Jan</td>\n",
       "      <td>1</td>\n",
       "      <td>153.0</td>\n",
       "      <td>343</td>\n",
       "      <td>0.446064</td>\n",
       "    </tr>\n",
       "    <tr>\n",
<<<<<<< HEAD
<<<<<<< HEAD
       "      <th>6</th>\n",
=======
       "      <td>6</td>\n",
>>>>>>> 3f0f93ee2809d9b5fbf62fedc34f7b428d7b58a4
=======
       "      <td>6</td>\n",
>>>>>>> 3f0f93ee2809d9b5fbf62fedc34f7b428d7b58a4
       "      <td>22Feb</td>\n",
       "      <td>0</td>\n",
       "      <td>NaN</td>\n",
       "      <td>836</td>\n",
       "      <td>NaN</td>\n",
       "    </tr>\n",
       "    <tr>\n",
<<<<<<< HEAD
<<<<<<< HEAD
       "      <th>7</th>\n",
=======
       "      <td>7</td>\n",
>>>>>>> 3f0f93ee2809d9b5fbf62fedc34f7b428d7b58a4
=======
       "      <td>7</td>\n",
>>>>>>> 3f0f93ee2809d9b5fbf62fedc34f7b428d7b58a4
       "      <td>22Feb</td>\n",
       "      <td>1</td>\n",
       "      <td>NaN</td>\n",
       "      <td>302</td>\n",
       "      <td>NaN</td>\n",
       "    </tr>\n",
       "  </tbody>\n",
       "</table>\n",
       "</div>"
      ],
      "text/plain": [
       "  ym_code  Blink_shown  Order_id  Session_id  conversion\n",
       "0   21Dec            0     343.0         676    0.507396\n",
       "1   21Dec            1     111.0         213    0.521127\n",
       "2   21Nov            0     227.0         620    0.366129\n",
       "3   21Nov            1      74.0         192    0.385417\n",
       "4   22Jan            0     380.0         923    0.411701\n",
       "5   22Jan            1     153.0         343    0.446064\n",
       "6   22Feb            0       NaN         836         NaN\n",
       "7   22Feb            1       NaN         302         NaN"
      ]
     },
     "metadata": {},
     "output_type": "display_data"
    }
   ],
   "source": [
    "conversions_time = orders_new.groupby(['ym_code', 'Blink_shown']).Order_id.count().reset_index()\n",
    "totals_time = sessions_new.groupby(['ym_code', 'Blink_shown']).Session_id.count().reset_index()\n",
    "ratios_time = pd.merge(conversions_time, totals_time, how = 'outer', on = ['ym_code', 'Blink_shown'])\n",
    "ratios_time['conversion'] = ratios_time.Order_id / ratios_time.Session_id\n",
    "\n",
    "display(ratios_time)"
   ]
<<<<<<< HEAD
<<<<<<< HEAD
  },
  {
   "cell_type": "code",
   "execution_count": null,
   "metadata": {},
   "outputs": [],
   "source": []
=======
>>>>>>> 3f0f93ee2809d9b5fbf62fedc34f7b428d7b58a4
=======
>>>>>>> 3f0f93ee2809d9b5fbf62fedc34f7b428d7b58a4
  }
 ],
 "metadata": {
  "kernelspec": {
<<<<<<< HEAD
<<<<<<< HEAD
   "display_name": "Python 3 (ipykernel)",
=======
   "display_name": "Python 3",
>>>>>>> 3f0f93ee2809d9b5fbf62fedc34f7b428d7b58a4
=======
   "display_name": "Python 3",
>>>>>>> 3f0f93ee2809d9b5fbf62fedc34f7b428d7b58a4
   "language": "python",
   "name": "python3"
  },
  "language_info": {
   "codemirror_mode": {
    "name": "ipython",
    "version": 3
   },
   "file_extension": ".py",
   "mimetype": "text/x-python",
   "name": "python",
   "nbconvert_exporter": "python",
   "pygments_lexer": "ipython3",
<<<<<<< HEAD
<<<<<<< HEAD
   "version": "3.9.7"
=======
   "version": "3.7.4"
>>>>>>> 3f0f93ee2809d9b5fbf62fedc34f7b428d7b58a4
=======
   "version": "3.7.4"
>>>>>>> 3f0f93ee2809d9b5fbf62fedc34f7b428d7b58a4
  }
 },
 "nbformat": 4,
 "nbformat_minor": 2
}
